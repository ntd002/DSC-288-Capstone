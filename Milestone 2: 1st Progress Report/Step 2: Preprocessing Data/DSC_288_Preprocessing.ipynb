{
  "nbformat": 4,
  "nbformat_minor": 0,
  "metadata": {
    "colab": {
      "provenance": []
    },
    "kernelspec": {
      "name": "python3",
      "display_name": "Python 3"
    },
    "language_info": {
      "name": "python"
    }
  },
  "cells": [
    {
      "cell_type": "markdown",
      "source": [
        "# Import CSV"
      ],
      "metadata": {
        "id": "vZwW_lOzILMg"
      }
    },
    {
      "cell_type": "code",
      "execution_count": 1,
      "metadata": {
        "colab": {
          "base_uri": "https://localhost:8080/"
        },
        "id": "0uLqqFYNz8G1",
        "outputId": "a6682b02-bd02-4551-ade1-70596ecd21b1"
      },
      "outputs": [
        {
          "output_type": "stream",
          "name": "stdout",
          "text": [
            "                                                   Title  \\\n",
            "0      Your anger may be caused by a magnesium defici...   \n",
            "1      Do you ever get so angry that you wish to kill...   \n",
            "2      The thing is that when your emotional distress...   \n",
            "3      Does anyone else just avoid people because you...   \n",
            "4      Was anyone else “not allowed” to get upset gro...   \n",
            "...                                                  ...   \n",
            "12946                                 Looking for advice   \n",
            "12947                        New panic attack experience   \n",
            "12948  I’m having pretty bad suicidal thoughts, think...   \n",
            "12949      Anxiety symptoms replicating low blood sugar?   \n",
            "12950  I've had a couple of panic attacks because of ...   \n",
            "\n",
            "                                                    Text  Score  Topic  \n",
            "0      I tried absolutely everything to fix my chroni...    743  anger  \n",
            "1      I don't know if it's my anger issues talking o...    692  anger  \n",
            "2                                                    NaN    495  anger  \n",
            "3      Lately I’ve been noticing that I take the extr...    489  anger  \n",
            "4      I was always scolded for being upset, even at ...    414  anger  \n",
            "...                                                  ...    ...    ...  \n",
            "12946  Hi, I’m 28F. I’ve been professionally diagnose...     10  panic  \n",
            "12947  Hi guys, I just wanted to see if anyone has ex...     12  panic  \n",
            "12948  The second half of last year, and this month h...     13  panic  \n",
            "12949  This is scaring me insane honestly. Has anyone...     11  panic  \n",
            "12950                                                NaN     11  panic  \n",
            "\n",
            "[12951 rows x 4 columns]\n"
          ]
        }
      ],
      "source": [
        "import pandas as pd\n",
        "df = pd.read_csv('DSC 288 Raw Reddit Dataset.csv')\n",
        "print(df)"
      ]
    },
    {
      "cell_type": "markdown",
      "source": [
        "# Text Preprocessing"
      ],
      "metadata": {
        "id": "LOKGb5Bj2Wrp"
      }
    },
    {
      "cell_type": "code",
      "source": [
        "#Check for null values\n",
        "df.isnull().sum()"
      ],
      "metadata": {
        "colab": {
          "base_uri": "https://localhost:8080/",
          "height": 210
        },
        "id": "HL_uuUao3l3k",
        "outputId": "66e82c0a-165b-463e-9db8-b2fcf959d4a4"
      },
      "execution_count": 2,
      "outputs": [
        {
          "output_type": "execute_result",
          "data": {
            "text/plain": [
              "Title       0\n",
              "Text     3814\n",
              "Score       0\n",
              "Topic       0\n",
              "dtype: int64"
            ],
            "text/html": [
              "<div>\n",
              "<style scoped>\n",
              "    .dataframe tbody tr th:only-of-type {\n",
              "        vertical-align: middle;\n",
              "    }\n",
              "\n",
              "    .dataframe tbody tr th {\n",
              "        vertical-align: top;\n",
              "    }\n",
              "\n",
              "    .dataframe thead th {\n",
              "        text-align: right;\n",
              "    }\n",
              "</style>\n",
              "<table border=\"1\" class=\"dataframe\">\n",
              "  <thead>\n",
              "    <tr style=\"text-align: right;\">\n",
              "      <th></th>\n",
              "      <th>0</th>\n",
              "    </tr>\n",
              "  </thead>\n",
              "  <tbody>\n",
              "    <tr>\n",
              "      <th>Title</th>\n",
              "      <td>0</td>\n",
              "    </tr>\n",
              "    <tr>\n",
              "      <th>Text</th>\n",
              "      <td>3814</td>\n",
              "    </tr>\n",
              "    <tr>\n",
              "      <th>Score</th>\n",
              "      <td>0</td>\n",
              "    </tr>\n",
              "    <tr>\n",
              "      <th>Topic</th>\n",
              "      <td>0</td>\n",
              "    </tr>\n",
              "  </tbody>\n",
              "</table>\n",
              "</div><br><label><b>dtype:</b> int64</label>"
            ]
          },
          "metadata": {},
          "execution_count": 2
        }
      ]
    },
    {
      "cell_type": "code",
      "source": [
        "#Some reddit posts are just titles and no body text. For consistency, we will remove them\n",
        "df.dropna(inplace=True)\n",
        "\n",
        "print(df.shape)"
      ],
      "metadata": {
        "colab": {
          "base_uri": "https://localhost:8080/"
        },
        "id": "A48CyI_d3t8k",
        "outputId": "ad13210a-75c8-45fe-8d65-add523390d1a"
      },
      "execution_count": 3,
      "outputs": [
        {
          "output_type": "stream",
          "name": "stdout",
          "text": [
            "(9137, 4)\n"
          ]
        }
      ]
    },
    {
      "cell_type": "code",
      "source": [
        "#Normalizing\n",
        "import re\n",
        "import string\n",
        "from bs4 import BeautifulSoup\n",
        "\n",
        "#following https://www.geeksforgeeks.org/text-preprocessing-for-nlp-tasks/#text-preprocessing-technique-in-nlp\n",
        "  #https://codefinity.com/blog/A-Comprehensive-Guide-to-Text-Preprocessing-with-NLTK"
      ],
      "metadata": {
        "id": "7qx5ZAxj2_ya"
      },
      "execution_count": 4,
      "outputs": []
    },
    {
      "cell_type": "code",
      "source": [
        "#Lowercase\n",
        "print(df.loc[0])\n",
        "df['Title_pro'] = df['Title'].str.lower()\n",
        "df['Text_pro'] = df['Text'].str.lower()\n",
        "print(df.loc[0])"
      ],
      "metadata": {
        "colab": {
          "base_uri": "https://localhost:8080/"
        },
        "id": "xDb_1or_5plt",
        "outputId": "c9c2da5d-256b-4d5b-bbfa-6260cb7aea67"
      },
      "execution_count": 5,
      "outputs": [
        {
          "output_type": "stream",
          "name": "stdout",
          "text": [
            "Title    Your anger may be caused by a magnesium defici...\n",
            "Text     I tried absolutely everything to fix my chroni...\n",
            "Score                                                  743\n",
            "Topic                                                anger\n",
            "Name: 0, dtype: object\n",
            "Title        Your anger may be caused by a magnesium defici...\n",
            "Text         I tried absolutely everything to fix my chroni...\n",
            "Score                                                      743\n",
            "Topic                                                    anger\n",
            "Title_pro    your anger may be caused by a magnesium defici...\n",
            "Text_pro     i tried absolutely everything to fix my chroni...\n",
            "Name: 0, dtype: object\n"
          ]
        }
      ]
    },
    {
      "cell_type": "code",
      "source": [
        "#Remove punctuation\n",
        "print(df.loc[12947])\n",
        "df['Title_pro'] = df['Title_pro'].str.translate(str.maketrans('', '', string.punctuation))\n",
        "df['Text_pro'] = df['Text_pro'].str.translate(str.maketrans('', '', string.punctuation))\n",
        "print(df.loc[12947])"
      ],
      "metadata": {
        "colab": {
          "base_uri": "https://localhost:8080/"
        },
        "id": "4NAoEaUz4eAh",
        "outputId": "52e7d9bc-0717-456c-cdfd-c4dd6e455a63"
      },
      "execution_count": 6,
      "outputs": [
        {
          "output_type": "stream",
          "name": "stdout",
          "text": [
            "Title                              New panic attack experience\n",
            "Text         Hi guys, I just wanted to see if anyone has ex...\n",
            "Score                                                       12\n",
            "Topic                                                    panic\n",
            "Title_pro                          new panic attack experience\n",
            "Text_pro     hi guys, i just wanted to see if anyone has ex...\n",
            "Name: 12947, dtype: object\n",
            "Title                              New panic attack experience\n",
            "Text         Hi guys, I just wanted to see if anyone has ex...\n",
            "Score                                                       12\n",
            "Topic                                                    panic\n",
            "Title_pro                          new panic attack experience\n",
            "Text_pro     hi guys i just wanted to see if anyone has exp...\n",
            "Name: 12947, dtype: object\n"
          ]
        }
      ]
    },
    {
      "cell_type": "code",
      "source": [
        "#Remove Emojis and Special characters\n",
        "print(df.loc[12947])\n",
        "df['Title_pro'] = df['Title_pro'].apply(lambda x: ''.join(char for char in x if char.isalnum() or char.isspace()))\n",
        "df['Text_pro'] = df['Text_pro'].apply(lambda x: ''.join(char for char in x if char.isalnum() or char.isspace()))\n",
        "print(df.loc[12947])"
      ],
      "metadata": {
        "colab": {
          "base_uri": "https://localhost:8080/"
        },
        "id": "wtJZhjRLHTHg",
        "outputId": "f4ffca87-ca94-4560-f578-0e7db1245cd2"
      },
      "execution_count": 7,
      "outputs": [
        {
          "output_type": "stream",
          "name": "stdout",
          "text": [
            "Title                              New panic attack experience\n",
            "Text         Hi guys, I just wanted to see if anyone has ex...\n",
            "Score                                                       12\n",
            "Topic                                                    panic\n",
            "Title_pro                          new panic attack experience\n",
            "Text_pro     hi guys i just wanted to see if anyone has exp...\n",
            "Name: 12947, dtype: object\n",
            "Title                              New panic attack experience\n",
            "Text         Hi guys, I just wanted to see if anyone has ex...\n",
            "Score                                                       12\n",
            "Topic                                                    panic\n",
            "Title_pro                          new panic attack experience\n",
            "Text_pro     hi guys i just wanted to see if anyone has exp...\n",
            "Name: 12947, dtype: object\n"
          ]
        }
      ]
    },
    {
      "cell_type": "code",
      "source": [
        "#Remove numbers\n",
        "print(df.loc[16])\n",
        "df['Title_pro'] = df['Title_pro'].str.replace('\\d+', '', regex=True)\n",
        "df['Text_pro'] = df['Text_pro'].str.replace('\\d+', '', regex=True)\n",
        "print(df.loc[16])"
      ],
      "metadata": {
        "colab": {
          "base_uri": "https://localhost:8080/"
        },
        "id": "voYkrbeo49-7",
        "outputId": "6498263f-c147-4721-db1b-b347601772d5"
      },
      "execution_count": 8,
      "outputs": [
        {
          "output_type": "stream",
          "name": "stdout",
          "text": [
            "Title            Punched my boss in the face, broke his nose. \n",
            "Text         I (30M) punched my boss (45ishM) square in the...\n",
            "Score                                                      198\n",
            "Topic                                                    anger\n",
            "Title_pro          punched my boss in the face broke his nose \n",
            "Text_pro     i 30m punched my boss 45ishm square in the fac...\n",
            "Name: 16, dtype: object\n",
            "Title            Punched my boss in the face, broke his nose. \n",
            "Text         I (30M) punched my boss (45ishM) square in the...\n",
            "Score                                                      198\n",
            "Topic                                                    anger\n",
            "Title_pro          punched my boss in the face broke his nose \n",
            "Text_pro     i m punched my boss ishm square in the face kn...\n",
            "Name: 16, dtype: object\n"
          ]
        }
      ]
    },
    {
      "cell_type": "markdown",
      "source": [
        "# Advanced Preprocessing"
      ],
      "metadata": {
        "id": "ra5S-gQ2IOMC"
      }
    },
    {
      "cell_type": "code",
      "source": [
        "#Advanced Preprocessing\n",
        "!pip install nltk\n",
        "import nltk\n",
        "nltk.download('punkt_tab')\n",
        "from nltk.corpus import stopwords\n",
        "nltk.download('stopwords')\n",
        "from nltk.stem import PorterStemmer\n",
        "from nltk.stem import WordNetLemmatizer\n",
        "nltk.download('wordnet')"
      ],
      "metadata": {
        "colab": {
          "base_uri": "https://localhost:8080/"
        },
        "id": "tWGkQVwj7gy7",
        "outputId": "ac341bdf-6bbf-43f2-b657-0a98560442b0"
      },
      "execution_count": 9,
      "outputs": [
        {
          "output_type": "stream",
          "name": "stdout",
          "text": [
            "Requirement already satisfied: nltk in /usr/local/lib/python3.11/dist-packages (3.9.1)\n",
            "Requirement already satisfied: click in /usr/local/lib/python3.11/dist-packages (from nltk) (8.1.8)\n",
            "Requirement already satisfied: joblib in /usr/local/lib/python3.11/dist-packages (from nltk) (1.4.2)\n",
            "Requirement already satisfied: regex>=2021.8.3 in /usr/local/lib/python3.11/dist-packages (from nltk) (2024.11.6)\n",
            "Requirement already satisfied: tqdm in /usr/local/lib/python3.11/dist-packages (from nltk) (4.67.1)\n"
          ]
        },
        {
          "output_type": "stream",
          "name": "stderr",
          "text": [
            "[nltk_data] Downloading package punkt_tab to /root/nltk_data...\n",
            "[nltk_data]   Unzipping tokenizers/punkt_tab.zip.\n",
            "[nltk_data] Downloading package stopwords to /root/nltk_data...\n",
            "[nltk_data]   Unzipping corpora/stopwords.zip.\n",
            "[nltk_data] Downloading package wordnet to /root/nltk_data...\n"
          ]
        },
        {
          "output_type": "execute_result",
          "data": {
            "text/plain": [
              "True"
            ]
          },
          "metadata": {},
          "execution_count": 9
        }
      ]
    },
    {
      "cell_type": "code",
      "source": [
        "#Tokenizing\n",
        "print(df.loc[0])\n",
        "df['Title_pro'] = df['Title_pro'].apply(nltk.word_tokenize)\n",
        "df['Text_pro'] = df['Text_pro'].apply(nltk.word_tokenize)\n",
        "print(df.loc[0])"
      ],
      "metadata": {
        "colab": {
          "base_uri": "https://localhost:8080/"
        },
        "id": "Mp_fqZtH_EJe",
        "outputId": "7cbbd6db-28ad-4d16-dfc6-478f475fd1df"
      },
      "execution_count": 10,
      "outputs": [
        {
          "output_type": "stream",
          "name": "stdout",
          "text": [
            "Title        Your anger may be caused by a magnesium defici...\n",
            "Text         I tried absolutely everything to fix my chroni...\n",
            "Score                                                      743\n",
            "Topic                                                    anger\n",
            "Title_pro    your anger may be caused by a magnesium defici...\n",
            "Text_pro     i tried absolutely everything to fix my chroni...\n",
            "Name: 0, dtype: object\n",
            "Title        Your anger may be caused by a magnesium defici...\n",
            "Text         I tried absolutely everything to fix my chroni...\n",
            "Score                                                      743\n",
            "Topic                                                    anger\n",
            "Title_pro    [your, anger, may, be, caused, by, a, magnesiu...\n",
            "Text_pro     [i, tried, absolutely, everything, to, fix, my...\n",
            "Name: 0, dtype: object\n"
          ]
        }
      ]
    },
    {
      "cell_type": "code",
      "source": [
        "#Remove Stop Words\n",
        "print(df.loc[0])\n",
        "stop_words = set(stopwords.words('english'))\n",
        "df['Title_pro'] = df['Title_pro'].apply(lambda x: [word for word in x if word not in stop_words])\n",
        "df['Text_pro'] = df['Text_pro'].apply(lambda x: [word for word in x if word not in stop_words])\n",
        "print(df.loc[0])"
      ],
      "metadata": {
        "colab": {
          "base_uri": "https://localhost:8080/"
        },
        "id": "lpVlmt36_Y4S",
        "outputId": "f0bd6680-5dad-45db-d238-432446bee98b"
      },
      "execution_count": 11,
      "outputs": [
        {
          "output_type": "stream",
          "name": "stdout",
          "text": [
            "Title        Your anger may be caused by a magnesium defici...\n",
            "Text         I tried absolutely everything to fix my chroni...\n",
            "Score                                                      743\n",
            "Topic                                                    anger\n",
            "Title_pro    [your, anger, may, be, caused, by, a, magnesiu...\n",
            "Text_pro     [i, tried, absolutely, everything, to, fix, my...\n",
            "Name: 0, dtype: object\n",
            "Title        Your anger may be caused by a magnesium defici...\n",
            "Text         I tried absolutely everything to fix my chroni...\n",
            "Score                                                      743\n",
            "Topic                                                    anger\n",
            "Title_pro    [anger, may, caused, magnesium, deficiency, ne...\n",
            "Text_pro     [tried, absolutely, everything, fix, chronic, ...\n",
            "Name: 0, dtype: object\n"
          ]
        }
      ]
    },
    {
      "cell_type": "code",
      "source": [
        "#Lemmitization\n",
        "print(df.loc[20])\n",
        "lemmatizer = WordNetLemmatizer()\n",
        "df['Title_pro'] = df['Title_pro'].apply(lambda x: [lemmatizer.lemmatize(word) for word in x])\n",
        "df['Text_pro'] = df['Text_pro'].apply(lambda x: [lemmatizer.lemmatize(word) for word in x])\n",
        "print(df.loc[20])"
      ],
      "metadata": {
        "colab": {
          "base_uri": "https://localhost:8080/"
        },
        "id": "3F0SU0rXCL9h",
        "outputId": "b406ff82-122a-4f8a-c9ec-fe0ef52a013c"
      },
      "execution_count": 12,
      "outputs": [
        {
          "output_type": "stream",
          "name": "stdout",
          "text": [
            "Title                “Anger is the part of you that loves you”\n",
            "Text         After hearing this, it really changed the way ...\n",
            "Score                                                      179\n",
            "Topic                                                    anger\n",
            "Title_pro                                 [anger, part, loves]\n",
            "Text_pro     [hearing, really, changed, way, view, anger, m...\n",
            "Name: 20, dtype: object\n",
            "Title                “Anger is the part of you that loves you”\n",
            "Text         After hearing this, it really changed the way ...\n",
            "Score                                                      179\n",
            "Topic                                                    anger\n",
            "Title_pro                                  [anger, part, love]\n",
            "Text_pro     [hearing, really, changed, way, view, anger, m...\n",
            "Name: 20, dtype: object\n"
          ]
        }
      ]
    },
    {
      "cell_type": "code",
      "source": [
        "#Convert back into string. Makes issues when extracting a list from a csv\n",
        "df['Title_pro'] = df['Title_pro'].apply(lambda x: ' '.join(x))\n",
        "df['Text_pro'] = df['Text_pro'].apply(lambda x: ' '.join(x))\n",
        "print(df['Title_pro'])"
      ],
      "metadata": {
        "colab": {
          "base_uri": "https://localhost:8080/"
        },
        "id": "sK4eIvIm3ieV",
        "outputId": "1f91b7ff-c083-458b-f0ce-cc59bac4aa72"
      },
      "execution_count": 13,
      "outputs": [
        {
          "output_type": "stream",
          "name": "stdout",
          "text": [
            "0        anger may caused magnesium deficiency neuron l...\n",
            "1                          ever get angry wish kill moment\n",
            "3          anyone else avoid people know theyll make angry\n",
            "4                    anyone else allowed get upset growing\n",
            "5        wish people understood outburst dont happen sm...\n",
            "                               ...                        \n",
            "12945       fastest way ive found get panic attack control\n",
            "12946                                       looking advice\n",
            "12947                          new panic attack experience\n",
            "12948    im pretty bad suicidal thought thinking cant h...\n",
            "12949          anxiety symptom replicating low blood sugar\n",
            "Name: Title_pro, Length: 9137, dtype: object\n"
          ]
        }
      ]
    },
    {
      "cell_type": "code",
      "source": [
        "#Remove any empty rows\n",
        "new_df = df[df['Title'].str.contains('1984')]\n",
        "print(new_df)"
      ],
      "metadata": {
        "colab": {
          "base_uri": "https://localhost:8080/"
        },
        "id": "AnxZ7XUP66F8",
        "outputId": "e476af15-2dba-4a78-8240-8eba68e762d2"
      },
      "execution_count": 18,
      "outputs": [
        {
          "output_type": "stream",
          "name": "stdout",
          "text": [
            "    Title                                               Text  Score  Topic  \\\n",
            "112  1984  Anyone else feel like we're just completely at...     58  anger   \n",
            "\n",
            "    Title_pro                                           Text_pro  \n",
            "112            anyone else feel like completely mercy soulles...  \n"
          ]
        }
      ]
    },
    {
      "cell_type": "code",
      "source": [
        "print(df.shape)\n",
        "df = df[df['Title_pro'].str.len() > 0]\n",
        "df = df[df['Text_pro'].str.len() > 0]\n",
        "print(df.shape)"
      ],
      "metadata": {
        "colab": {
          "base_uri": "https://localhost:8080/"
        },
        "id": "GS0kgV7T8ZZ3",
        "outputId": "5bb56903-c0f6-4004-b251-2ef33dd019db"
      },
      "execution_count": 19,
      "outputs": [
        {
          "output_type": "stream",
          "name": "stdout",
          "text": [
            "(9137, 6)\n",
            "(9078, 6)\n"
          ]
        }
      ]
    },
    {
      "cell_type": "code",
      "source": [
        "#Create a combined title and text column\n",
        "df['T_T_pro'] = df['Title_pro'] +\" \"+ df['Text_pro']\n",
        "print(df['T_T_pro'])"
      ],
      "metadata": {
        "colab": {
          "base_uri": "https://localhost:8080/"
        },
        "id": "CADyYpny5NsK",
        "outputId": "32c7f491-cbfc-4c61-ec28-c986098be85a"
      },
      "execution_count": 20,
      "outputs": [
        {
          "output_type": "stream",
          "name": "stdout",
          "text": [
            "0        anger may caused magnesium deficiency neuron l...\n",
            "1        ever get angry wish kill moment dont know ange...\n",
            "3        anyone else avoid people know theyll make angr...\n",
            "4        anyone else allowed get upset growing always s...\n",
            "5        wish people understood outburst dont happen sm...\n",
            "                               ...                        \n",
            "12945    fastest way ive found get panic attack control...\n",
            "12946    looking advice hi im f ive professionally diag...\n",
            "12947    new panic attack experience hi guy wanted see ...\n",
            "12948    im pretty bad suicidal thought thinking cant h...\n",
            "12949    anxiety symptom replicating low blood sugar sc...\n",
            "Name: T_T_pro, Length: 9078, dtype: object\n"
          ]
        }
      ]
    },
    {
      "cell_type": "markdown",
      "source": [
        "# Save to New CSV"
      ],
      "metadata": {
        "id": "2d9IF2zFISdy"
      }
    },
    {
      "cell_type": "code",
      "source": [
        "df.to_csv('DSC 288 Processed Reddit Dataset.csv', index=False)"
      ],
      "metadata": {
        "id": "SXYCOUtDGC8Z"
      },
      "execution_count": 21,
      "outputs": []
    },
    {
      "cell_type": "code",
      "source": [],
      "metadata": {
        "id": "jfiKSIqT5YGs"
      },
      "execution_count": null,
      "outputs": []
    }
  ]
}