{
  "nbformat": 4,
  "nbformat_minor": 0,
  "metadata": {
    "colab": {
      "provenance": []
    },
    "kernelspec": {
      "name": "python3",
      "display_name": "Python 3"
    },
    "language_info": {
      "name": "python"
    }
  },
  "cells": [
    {
      "cell_type": "markdown",
      "source": [
        "# Import CSV"
      ],
      "metadata": {
        "id": "vZwW_lOzILMg"
      }
    },
    {
      "cell_type": "code",
      "execution_count": 106,
      "metadata": {
        "colab": {
          "base_uri": "https://localhost:8080/"
        },
        "id": "0uLqqFYNz8G1",
        "outputId": "da609dc0-c530-42d0-8f50-7b6e75bdc82e"
      },
      "outputs": [
        {
          "output_type": "stream",
          "name": "stdout",
          "text": [
            "                                                   Title  \\\n",
            "0      Your anger may be caused by a magnesium defici...   \n",
            "1      Do you ever get so angry that you wish to kill...   \n",
            "2      The thing is that when your emotional distress...   \n",
            "3      Does anyone else just avoid people because you...   \n",
            "4      Was anyone else “not allowed” to get upset gro...   \n",
            "...                                                  ...   \n",
            "12944                                Anxiety and bruxism   \n",
            "12945                                      im giving up    \n",
            "12946                                   holding breath?    \n",
            "12947                                       I’m curious!   \n",
            "12948                           How to break the cycle?    \n",
            "\n",
            "                                                    Text  Score  Topic  \n",
            "0      I tried absolutely everything to fix my chroni...    741  anger  \n",
            "1      I don't know if it's my anger issues talking o...    680  anger  \n",
            "2                                                    NaN    493  anger  \n",
            "3      Lately I’ve been noticing that I take the extr...    478  anger  \n",
            "4      I was always scolded for being upset, even at ...    402  anger  \n",
            "...                                                  ...    ...    ...  \n",
            "12944  Does anyone with a long term anxiety disorder ...     10  panic  \n",
            "12945  im so tired of this constant anxiety and panic...      9  panic  \n",
            "12946  does anyone else catch themselves holding thei...      9  panic  \n",
            "12947  I’m curious what age range and genders are of ...     10  panic  \n",
            "12948  Anybody ever feels like their losing their min...      9  panic  \n",
            "\n",
            "[12949 rows x 4 columns]\n"
          ]
        }
      ],
      "source": [
        "import pandas as pd\n",
        "df = pd.read_csv('DSC 288 Raw Reddit Dataset.csv')\n",
        "print(df)"
      ]
    },
    {
      "cell_type": "markdown",
      "source": [
        "# Text Preprocessing"
      ],
      "metadata": {
        "id": "LOKGb5Bj2Wrp"
      }
    },
    {
      "cell_type": "code",
      "source": [
        "#Check for null values\n",
        "df.isnull().sum()"
      ],
      "metadata": {
        "colab": {
          "base_uri": "https://localhost:8080/",
          "height": 210
        },
        "id": "HL_uuUao3l3k",
        "outputId": "1699c311-7196-4102-b278-c7b3d25e44db"
      },
      "execution_count": 107,
      "outputs": [
        {
          "output_type": "execute_result",
          "data": {
            "text/plain": [
              "Title       0\n",
              "Text     3836\n",
              "Score       0\n",
              "Topic       0\n",
              "dtype: int64"
            ],
            "text/html": [
              "<div>\n",
              "<style scoped>\n",
              "    .dataframe tbody tr th:only-of-type {\n",
              "        vertical-align: middle;\n",
              "    }\n",
              "\n",
              "    .dataframe tbody tr th {\n",
              "        vertical-align: top;\n",
              "    }\n",
              "\n",
              "    .dataframe thead th {\n",
              "        text-align: right;\n",
              "    }\n",
              "</style>\n",
              "<table border=\"1\" class=\"dataframe\">\n",
              "  <thead>\n",
              "    <tr style=\"text-align: right;\">\n",
              "      <th></th>\n",
              "      <th>0</th>\n",
              "    </tr>\n",
              "  </thead>\n",
              "  <tbody>\n",
              "    <tr>\n",
              "      <th>Title</th>\n",
              "      <td>0</td>\n",
              "    </tr>\n",
              "    <tr>\n",
              "      <th>Text</th>\n",
              "      <td>3836</td>\n",
              "    </tr>\n",
              "    <tr>\n",
              "      <th>Score</th>\n",
              "      <td>0</td>\n",
              "    </tr>\n",
              "    <tr>\n",
              "      <th>Topic</th>\n",
              "      <td>0</td>\n",
              "    </tr>\n",
              "  </tbody>\n",
              "</table>\n",
              "</div><br><label><b>dtype:</b> int64</label>"
            ]
          },
          "metadata": {},
          "execution_count": 107
        }
      ]
    },
    {
      "cell_type": "code",
      "source": [
        "#Some reddit posts are just titles and no body text. For consistency, we will remove them\n",
        "df.dropna(inplace=True)\n",
        "\n",
        "print(df.shape)"
      ],
      "metadata": {
        "colab": {
          "base_uri": "https://localhost:8080/"
        },
        "id": "A48CyI_d3t8k",
        "outputId": "b9c501a7-6d03-4f51-ff54-41a34fabb89e"
      },
      "execution_count": 108,
      "outputs": [
        {
          "output_type": "stream",
          "name": "stdout",
          "text": [
            "(9113, 4)\n"
          ]
        }
      ]
    },
    {
      "cell_type": "code",
      "source": [
        "#Normalizing\n",
        "import re\n",
        "import string\n",
        "from bs4 import BeautifulSoup\n",
        "\n",
        "#following https://www.geeksforgeeks.org/text-preprocessing-for-nlp-tasks/#text-preprocessing-technique-in-nlp\n",
        "  #https://codefinity.com/blog/A-Comprehensive-Guide-to-Text-Preprocessing-with-NLTK"
      ],
      "metadata": {
        "id": "7qx5ZAxj2_ya"
      },
      "execution_count": 109,
      "outputs": []
    },
    {
      "cell_type": "code",
      "source": [
        "#Lowercase\n",
        "print(df.loc[0])\n",
        "df['Title_pro'] = df['Title'].str.lower()\n",
        "df['Text_pro'] = df['Text'].str.lower()\n",
        "print(df.loc[0])"
      ],
      "metadata": {
        "colab": {
          "base_uri": "https://localhost:8080/"
        },
        "id": "xDb_1or_5plt",
        "outputId": "65645b95-b622-4088-ed62-2135332e879c"
      },
      "execution_count": 110,
      "outputs": [
        {
          "output_type": "stream",
          "name": "stdout",
          "text": [
            "Title    Your anger may be caused by a magnesium defici...\n",
            "Text     I tried absolutely everything to fix my chroni...\n",
            "Score                                                  741\n",
            "Topic                                                anger\n",
            "Name: 0, dtype: object\n",
            "Title        Your anger may be caused by a magnesium defici...\n",
            "Text         I tried absolutely everything to fix my chroni...\n",
            "Score                                                      741\n",
            "Topic                                                    anger\n",
            "Title_pro    your anger may be caused by a magnesium defici...\n",
            "Text_pro     i tried absolutely everything to fix my chroni...\n",
            "Name: 0, dtype: object\n"
          ]
        }
      ]
    },
    {
      "cell_type": "code",
      "source": [
        "#Remove punctuation\n",
        "print(df.loc[12947])\n",
        "df['Title_pro'] = df['Title_pro'].str.translate(str.maketrans('', '', string.punctuation))\n",
        "df['Text_pro'] = df['Text_pro'].str.translate(str.maketrans('', '', string.punctuation))\n",
        "print(df.loc[12947])"
      ],
      "metadata": {
        "colab": {
          "base_uri": "https://localhost:8080/"
        },
        "id": "4NAoEaUz4eAh",
        "outputId": "65ade15c-18db-42a8-a8ea-f74f5b848f8c"
      },
      "execution_count": 111,
      "outputs": [
        {
          "output_type": "stream",
          "name": "stdout",
          "text": [
            "Title                                             I’m curious!\n",
            "Text         I’m curious what age range and genders are of ...\n",
            "Score                                                       10\n",
            "Topic                                                    panic\n",
            "Title_pro                                         i’m curious!\n",
            "Text_pro     i’m curious what age range and genders are of ...\n",
            "Name: 12947, dtype: object\n",
            "Title                                             I’m curious!\n",
            "Text         I’m curious what age range and genders are of ...\n",
            "Score                                                       10\n",
            "Topic                                                    panic\n",
            "Title_pro                                          i’m curious\n",
            "Text_pro     i’m curious what age range and genders are of ...\n",
            "Name: 12947, dtype: object\n"
          ]
        }
      ]
    },
    {
      "cell_type": "code",
      "source": [
        "#Remove Emojis and Special characters\n",
        "print(df.loc[12947])\n",
        "df['Title_pro'] = df['Title_pro'].apply(lambda x: ''.join(char for char in x if char.isalnum() or char.isspace()))\n",
        "df['Text_pro'] = df['Text_pro'].apply(lambda x: ''.join(char for char in x if char.isalnum() or char.isspace()))\n",
        "print(df.loc[12947])"
      ],
      "metadata": {
        "colab": {
          "base_uri": "https://localhost:8080/"
        },
        "id": "wtJZhjRLHTHg",
        "outputId": "7025bb43-12ed-4e13-daae-bbaf0d4e54d1"
      },
      "execution_count": 112,
      "outputs": [
        {
          "output_type": "stream",
          "name": "stdout",
          "text": [
            "Title                                             I’m curious!\n",
            "Text         I’m curious what age range and genders are of ...\n",
            "Score                                                       10\n",
            "Topic                                                    panic\n",
            "Title_pro                                          i’m curious\n",
            "Text_pro     i’m curious what age range and genders are of ...\n",
            "Name: 12947, dtype: object\n",
            "Title                                             I’m curious!\n",
            "Text         I’m curious what age range and genders are of ...\n",
            "Score                                                       10\n",
            "Topic                                                    panic\n",
            "Title_pro                                           im curious\n",
            "Text_pro     im curious what age range and genders are of o...\n",
            "Name: 12947, dtype: object\n"
          ]
        }
      ]
    },
    {
      "cell_type": "code",
      "source": [
        "#Remove numbers\n",
        "print(df.loc[16])\n",
        "df['Title_pro'] = df['Title_pro'].str.replace('\\d+', '', regex=True)\n",
        "df['Text_pro'] = df['Text_pro'].str.replace('\\d+', '', regex=True)\n",
        "print(df.loc[16])"
      ],
      "metadata": {
        "colab": {
          "base_uri": "https://localhost:8080/"
        },
        "id": "voYkrbeo49-7",
        "outputId": "923c5470-9756-4cdc-c94b-766ce30d89b0"
      },
      "execution_count": 113,
      "outputs": [
        {
          "output_type": "stream",
          "name": "stdout",
          "text": [
            "Title            Punched my boss in the face, broke his nose. \n",
            "Text         I (30M) punched my boss (45ishM) square in the...\n",
            "Score                                                      200\n",
            "Topic                                                    anger\n",
            "Title_pro          punched my boss in the face broke his nose \n",
            "Text_pro     i 30m punched my boss 45ishm square in the fac...\n",
            "Name: 16, dtype: object\n",
            "Title            Punched my boss in the face, broke his nose. \n",
            "Text         I (30M) punched my boss (45ishM) square in the...\n",
            "Score                                                      200\n",
            "Topic                                                    anger\n",
            "Title_pro          punched my boss in the face broke his nose \n",
            "Text_pro     i m punched my boss ishm square in the face kn...\n",
            "Name: 16, dtype: object\n"
          ]
        }
      ]
    },
    {
      "cell_type": "markdown",
      "source": [
        "# Advanced Preprocessing"
      ],
      "metadata": {
        "id": "ra5S-gQ2IOMC"
      }
    },
    {
      "cell_type": "code",
      "source": [
        "#Advanced Preprocessing\n",
        "!pip install nltk\n",
        "import nltk\n",
        "nltk.download('punkt_tab')\n",
        "from nltk.corpus import stopwords\n",
        "nltk.download('stopwords')\n",
        "from nltk.stem import PorterStemmer\n",
        "from nltk.stem import WordNetLemmatizer\n",
        "nltk.download('wordnet')"
      ],
      "metadata": {
        "colab": {
          "base_uri": "https://localhost:8080/"
        },
        "id": "tWGkQVwj7gy7",
        "outputId": "501c0e95-5f66-4c05-ecb7-eb1cabe2514f"
      },
      "execution_count": 114,
      "outputs": [
        {
          "output_type": "stream",
          "name": "stdout",
          "text": [
            "Requirement already satisfied: nltk in /usr/local/lib/python3.11/dist-packages (3.9.1)\n",
            "Requirement already satisfied: click in /usr/local/lib/python3.11/dist-packages (from nltk) (8.1.8)\n",
            "Requirement already satisfied: joblib in /usr/local/lib/python3.11/dist-packages (from nltk) (1.4.2)\n",
            "Requirement already satisfied: regex>=2021.8.3 in /usr/local/lib/python3.11/dist-packages (from nltk) (2024.11.6)\n",
            "Requirement already satisfied: tqdm in /usr/local/lib/python3.11/dist-packages (from nltk) (4.67.1)\n"
          ]
        },
        {
          "output_type": "stream",
          "name": "stderr",
          "text": [
            "[nltk_data] Downloading package punkt_tab to /root/nltk_data...\n",
            "[nltk_data]   Package punkt_tab is already up-to-date!\n",
            "[nltk_data] Downloading package stopwords to /root/nltk_data...\n",
            "[nltk_data]   Package stopwords is already up-to-date!\n",
            "[nltk_data] Downloading package wordnet to /root/nltk_data...\n",
            "[nltk_data]   Package wordnet is already up-to-date!\n"
          ]
        },
        {
          "output_type": "execute_result",
          "data": {
            "text/plain": [
              "True"
            ]
          },
          "metadata": {},
          "execution_count": 114
        }
      ]
    },
    {
      "cell_type": "code",
      "source": [
        "#Tokenizing\n",
        "print(df.loc[0])\n",
        "df['Title_pro'] = df['Title_pro'].apply(nltk.word_tokenize)\n",
        "df['Text_pro'] = df['Text_pro'].apply(nltk.word_tokenize)\n",
        "print(df.loc[0])"
      ],
      "metadata": {
        "colab": {
          "base_uri": "https://localhost:8080/"
        },
        "id": "Mp_fqZtH_EJe",
        "outputId": "a51c52dd-5d20-49bf-91b7-432ebcaf4ba7"
      },
      "execution_count": 115,
      "outputs": [
        {
          "output_type": "stream",
          "name": "stdout",
          "text": [
            "Title        Your anger may be caused by a magnesium defici...\n",
            "Text         I tried absolutely everything to fix my chroni...\n",
            "Score                                                      741\n",
            "Topic                                                    anger\n",
            "Title_pro    your anger may be caused by a magnesium defici...\n",
            "Text_pro     i tried absolutely everything to fix my chroni...\n",
            "Name: 0, dtype: object\n",
            "Title        Your anger may be caused by a magnesium defici...\n",
            "Text         I tried absolutely everything to fix my chroni...\n",
            "Score                                                      741\n",
            "Topic                                                    anger\n",
            "Title_pro    [your, anger, may, be, caused, by, a, magnesiu...\n",
            "Text_pro     [i, tried, absolutely, everything, to, fix, my...\n",
            "Name: 0, dtype: object\n"
          ]
        }
      ]
    },
    {
      "cell_type": "code",
      "source": [
        "#Remove Stop Words\n",
        "print(df.loc[0])\n",
        "stop_words = set(stopwords.words('english'))\n",
        "df['Title_pro'] = df['Title_pro'].apply(lambda x: [word for word in x if word not in stop_words])\n",
        "df['Text_pro'] = df['Text_pro'].apply(lambda x: [word for word in x if word not in stop_words])\n",
        "print(df.loc[0])"
      ],
      "metadata": {
        "colab": {
          "base_uri": "https://localhost:8080/"
        },
        "id": "lpVlmt36_Y4S",
        "outputId": "9f2701ce-46bf-432d-d749-be6df3d8aa58"
      },
      "execution_count": 116,
      "outputs": [
        {
          "output_type": "stream",
          "name": "stdout",
          "text": [
            "Title        Your anger may be caused by a magnesium defici...\n",
            "Text         I tried absolutely everything to fix my chroni...\n",
            "Score                                                      741\n",
            "Topic                                                    anger\n",
            "Title_pro    [your, anger, may, be, caused, by, a, magnesiu...\n",
            "Text_pro     [i, tried, absolutely, everything, to, fix, my...\n",
            "Name: 0, dtype: object\n",
            "Title        Your anger may be caused by a magnesium defici...\n",
            "Text         I tried absolutely everything to fix my chroni...\n",
            "Score                                                      741\n",
            "Topic                                                    anger\n",
            "Title_pro    [anger, may, caused, magnesium, deficiency, ne...\n",
            "Text_pro     [tried, absolutely, everything, fix, chronic, ...\n",
            "Name: 0, dtype: object\n"
          ]
        }
      ]
    },
    {
      "cell_type": "code",
      "source": [
        "#Lemmitization\n",
        "print(df.loc[20])\n",
        "lemmatizer = WordNetLemmatizer()\n",
        "df['Title_pro'] = df['Title_pro'].apply(lambda x: [lemmatizer.lemmatize(word) for word in x])\n",
        "df['Text_pro'] = df['Text_pro'].apply(lambda x: [lemmatizer.lemmatize(word) for word in x])\n",
        "print(df.loc[20])"
      ],
      "metadata": {
        "colab": {
          "base_uri": "https://localhost:8080/"
        },
        "id": "3F0SU0rXCL9h",
        "outputId": "f28a244a-4a81-4e96-e337-69d501f37d88"
      },
      "execution_count": 117,
      "outputs": [
        {
          "output_type": "stream",
          "name": "stdout",
          "text": [
            "Title                “Anger is the part of you that loves you”\n",
            "Text         After hearing this, it really changed the way ...\n",
            "Score                                                      176\n",
            "Topic                                                    anger\n",
            "Title_pro                                 [anger, part, loves]\n",
            "Text_pro     [hearing, really, changed, way, view, anger, m...\n",
            "Name: 20, dtype: object\n",
            "Title                “Anger is the part of you that loves you”\n",
            "Text         After hearing this, it really changed the way ...\n",
            "Score                                                      176\n",
            "Topic                                                    anger\n",
            "Title_pro                                  [anger, part, love]\n",
            "Text_pro     [hearing, really, changed, way, view, anger, m...\n",
            "Name: 20, dtype: object\n"
          ]
        }
      ]
    },
    {
      "cell_type": "markdown",
      "source": [
        "# Save to New CSV"
      ],
      "metadata": {
        "id": "2d9IF2zFISdy"
      }
    },
    {
      "cell_type": "code",
      "source": [
        "df.to_csv('DSC 288 Processed Reddit Dataset.csv', index=False)"
      ],
      "metadata": {
        "id": "SXYCOUtDGC8Z"
      },
      "execution_count": 118,
      "outputs": []
    }
  ]
}