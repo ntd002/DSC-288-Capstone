{
  "nbformat": 4,
  "nbformat_minor": 0,
  "metadata": {
    "colab": {
      "provenance": [],
      "collapsed_sections": [
        "KMMjIQrmbYvG"
      ]
    },
    "kernelspec": {
      "name": "python3",
      "display_name": "Python 3"
    },
    "language_info": {
      "name": "python"
    }
  },
  "cells": [
    {
      "cell_type": "markdown",
      "source": [
        "# Accessing Reddit API"
      ],
      "metadata": {
        "id": "KMMjIQrmbYvG"
      }
    },
    {
      "cell_type": "code",
      "source": [
        "#client ID 0vVkHqr-OpTLAuByKyuRFQ\n",
        "#client secret uzND0brhnpyk31r8s142MxdOVkm1eg\n",
        "#used https://pagenotfound.online/reddit-content-idea-mining-with-python/\n",
        "  #https://asyncpraw.readthedocs.io/en/stable/code_overview/models/submission.html\n",
        "!pip install asyncpraw\n",
        "import asyncpraw\n",
        "import pandas as pd"
      ],
      "metadata": {
        "colab": {
          "base_uri": "https://localhost:8080/"
        },
        "id": "OfqKoC5Yai-s",
        "outputId": "44e5bdf4-03d4-485a-ef76-086df2f8aba1"
      },
      "execution_count": 5,
      "outputs": [
        {
          "output_type": "stream",
          "name": "stdout",
          "text": [
            "Collecting asyncpraw\n",
            "  Downloading asyncpraw-7.8.1-py3-none-any.whl.metadata (9.0 kB)\n",
            "Collecting aiofiles (from asyncpraw)\n",
            "  Downloading aiofiles-24.1.0-py3-none-any.whl.metadata (10 kB)\n",
            "Requirement already satisfied: aiohttp<4 in /usr/local/lib/python3.11/dist-packages (from asyncpraw) (3.11.11)\n",
            "Collecting aiosqlite<=0.17.0 (from asyncpraw)\n",
            "  Downloading aiosqlite-0.17.0-py3-none-any.whl.metadata (4.1 kB)\n",
            "Collecting asyncprawcore<3,>=2.4 (from asyncpraw)\n",
            "  Downloading asyncprawcore-2.4.0-py3-none-any.whl.metadata (5.5 kB)\n",
            "Collecting update_checker>=0.18 (from asyncpraw)\n",
            "  Downloading update_checker-0.18.0-py3-none-any.whl.metadata (2.3 kB)\n",
            "Requirement already satisfied: aiohappyeyeballs>=2.3.0 in /usr/local/lib/python3.11/dist-packages (from aiohttp<4->asyncpraw) (2.4.4)\n",
            "Requirement already satisfied: aiosignal>=1.1.2 in /usr/local/lib/python3.11/dist-packages (from aiohttp<4->asyncpraw) (1.3.2)\n",
            "Requirement already satisfied: attrs>=17.3.0 in /usr/local/lib/python3.11/dist-packages (from aiohttp<4->asyncpraw) (24.3.0)\n",
            "Requirement already satisfied: frozenlist>=1.1.1 in /usr/local/lib/python3.11/dist-packages (from aiohttp<4->asyncpraw) (1.5.0)\n",
            "Requirement already satisfied: multidict<7.0,>=4.5 in /usr/local/lib/python3.11/dist-packages (from aiohttp<4->asyncpraw) (6.1.0)\n",
            "Requirement already satisfied: propcache>=0.2.0 in /usr/local/lib/python3.11/dist-packages (from aiohttp<4->asyncpraw) (0.2.1)\n",
            "Requirement already satisfied: yarl<2.0,>=1.17.0 in /usr/local/lib/python3.11/dist-packages (from aiohttp<4->asyncpraw) (1.18.3)\n",
            "Requirement already satisfied: typing_extensions>=3.7.2 in /usr/local/lib/python3.11/dist-packages (from aiosqlite<=0.17.0->asyncpraw) (4.12.2)\n",
            "Requirement already satisfied: requests>=2.3.0 in /usr/local/lib/python3.11/dist-packages (from update_checker>=0.18->asyncpraw) (2.32.3)\n",
            "Requirement already satisfied: charset-normalizer<4,>=2 in /usr/local/lib/python3.11/dist-packages (from requests>=2.3.0->update_checker>=0.18->asyncpraw) (3.4.1)\n",
            "Requirement already satisfied: idna<4,>=2.5 in /usr/local/lib/python3.11/dist-packages (from requests>=2.3.0->update_checker>=0.18->asyncpraw) (3.10)\n",
            "Requirement already satisfied: urllib3<3,>=1.21.1 in /usr/local/lib/python3.11/dist-packages (from requests>=2.3.0->update_checker>=0.18->asyncpraw) (2.3.0)\n",
            "Requirement already satisfied: certifi>=2017.4.17 in /usr/local/lib/python3.11/dist-packages (from requests>=2.3.0->update_checker>=0.18->asyncpraw) (2024.12.14)\n",
            "Downloading asyncpraw-7.8.1-py3-none-any.whl (196 kB)\n",
            "\u001b[2K   \u001b[90m━━━━━━━━━━━━━━━━━━━━━━━━━━━━━━━━━━━━━━━━\u001b[0m \u001b[32m196.4/196.4 kB\u001b[0m \u001b[31m5.1 MB/s\u001b[0m eta \u001b[36m0:00:00\u001b[0m\n",
            "\u001b[?25hDownloading aiosqlite-0.17.0-py3-none-any.whl (15 kB)\n",
            "Downloading asyncprawcore-2.4.0-py3-none-any.whl (19 kB)\n",
            "Downloading update_checker-0.18.0-py3-none-any.whl (7.0 kB)\n",
            "Downloading aiofiles-24.1.0-py3-none-any.whl (15 kB)\n",
            "Installing collected packages: aiosqlite, aiofiles, update_checker, asyncprawcore, asyncpraw\n",
            "Successfully installed aiofiles-24.1.0 aiosqlite-0.17.0 asyncpraw-7.8.1 asyncprawcore-2.4.0 update_checker-0.18.0\n"
          ]
        }
      ]
    },
    {
      "cell_type": "code",
      "source": [
        "reddit = asyncpraw.Reddit(\n",
        "    client_id=\"0vVkHqr-OpTLAuByKyuRFQ\",\n",
        "    client_secret=\"uzND0brhnpyk31r8s142MxdOVkm1eg\",\n",
        "    user_agent=\"DSC 288 Capstone (by u/TGM)\",\n",
        ")"
      ],
      "metadata": {
        "id": "a_Xmhlfpcg11"
      },
      "execution_count": 6,
      "outputs": []
    },
    {
      "cell_type": "code",
      "source": [
        "top_posts = {'Title':[],'Text':[], 'Score':[]}\n",
        "subreddit = await reddit.subreddit(\"dbtselfhelp\") #999 rows\n",
        "#subreddit = await reddit.subreddit(\"CBTpractice\") #546 rows\n",
        "async for submission in subreddit.top(time_filter=\"all\",limit=None):\n",
        "  top_posts[\"Title\"].append(submission.title)\n",
        "  top_posts[\"Text\"].append(submission.selftext)\n",
        "  top_posts[\"Score\"].append(submission.score)"
      ],
      "metadata": {
        "id": "aipAQ1U7ddrA"
      },
      "execution_count": 7,
      "outputs": []
    },
    {
      "cell_type": "code",
      "source": [
        "red_df = pd.DataFrame.from_dict(top_posts)\n",
        "print(red_df)"
      ],
      "metadata": {
        "colab": {
          "base_uri": "https://localhost:8080/"
        },
        "id": "sBPS-4ejd407",
        "outputId": "946206d6-d0ae-4f2a-a331-00543acfbabb"
      },
      "execution_count": 8,
      "outputs": [
        {
          "output_type": "stream",
          "name": "stdout",
          "text": [
            "                                                 Title  \\\n",
            "0                                    Thoughts vs truth   \n",
            "1    i made this free card deck to help me manage m...   \n",
            "2    Simple distress tolerance strategy for when yo...   \n",
            "3    I made this lockscreen for myself, hope someon...   \n",
            "4    Made a letter bracelet for the RAVEN DBT skill...   \n",
            "..                                                 ...   \n",
            "994  Do I need the Manual for the DBT Skills Traini...   \n",
            "995        Bored and unmotivated, unsure of what to do   \n",
            "996                       Opposite Action : Depression   \n",
            "997                             Willingness Wednesdays   \n",
            "998                         Best app for DBT self help   \n",
            "\n",
            "                                                  Text  Score  \n",
            "0                                                         326  \n",
            "1                                                         246  \n",
            "2                                                         229  \n",
            "3                                                         216  \n",
            "4                                                         214  \n",
            "..                                                 ...    ...  \n",
            "994  Hello! I'm a 20-year-old man from the UK, look...      8  \n",
            "995  I’ve been feeling good lately but today is jus...      9  \n",
            "996  (34m : BPD) Super depressed and sad and am hav...      8  \n",
            "997  [Willingness](https://gerryfisher.livejournal....      8  \n",
            "998  The title says most of it. I’m wondering if an...      6  \n",
            "\n",
            "[999 rows x 3 columns]\n"
          ]
        }
      ]
    },
    {
      "cell_type": "code",
      "source": [
        "temp_df = red_df[red_df['Text'] != '']\n",
        "\n",
        "print(temp_df)"
      ],
      "metadata": {
        "colab": {
          "base_uri": "https://localhost:8080/"
        },
        "id": "DlqdhoG1jc4r",
        "outputId": "23ecd510-667f-4c3b-e187-a16122a54f4e"
      },
      "execution_count": 9,
      "outputs": [
        {
          "output_type": "stream",
          "name": "stdout",
          "text": [
            "                                                 Title  \\\n",
            "8    Can't afford therapy so I'm attempting to do d...   \n",
            "10                        Skill chart with typos fixed   \n",
            "11                                    Hi, new to this    \n",
            "13                      Distress Tolerance Cheat Sheet   \n",
            "15   I sucessfully went into wise mind and emotiona...   \n",
            "..                                                 ...   \n",
            "994  Do I need the Manual for the DBT Skills Traini...   \n",
            "995        Bored and unmotivated, unsure of what to do   \n",
            "996                       Opposite Action : Depression   \n",
            "997                             Willingness Wednesdays   \n",
            "998                         Best app for DBT self help   \n",
            "\n",
            "                                                  Text  Score  \n",
            "8    Hi, I'm quite new to Reddit and I don't  reall...    153  \n",
            "10   I posted this a couple weeks ago with some spe...    146  \n",
            "11   So I decided to make a commitment the other da...    145  \n",
            "13   I just finished the DT module and I made a vis...    124  \n",
            "15   When I get up I am always depressed and wantin...    122  \n",
            "..                                                 ...    ...  \n",
            "994  Hello! I'm a 20-year-old man from the UK, look...      8  \n",
            "995  I’ve been feeling good lately but today is jus...      9  \n",
            "996  (34m : BPD) Super depressed and sad and am hav...      8  \n",
            "997  [Willingness](https://gerryfisher.livejournal....      8  \n",
            "998  The title says most of it. I’m wondering if an...      6  \n",
            "\n",
            "[940 rows x 3 columns]\n"
          ]
        }
      ]
    },
    {
      "cell_type": "markdown",
      "source": [
        "# Saving Topics to CSV"
      ],
      "metadata": {
        "id": "sXKOdSwZQyqW"
      }
    },
    {
      "cell_type": "code",
      "source": [
        "#Anger: r/Anger, r/AskReddit\n",
        "\n",
        "#Anxiety: r/Anxiety, r/socialanxiety\n",
        "\n",
        "#Assertiveness\n",
        "\n",
        "#Bipolar: r/bipolar, r/BipolarReddit, r/BipolarSOs, r/bipolar2\n",
        "\n",
        "#DBT/CBT: r/dbtselfhelp, r/CBT\n",
        "\n",
        "#Depression: r/depression, r/depression_help\n",
        "\n",
        "#Eating Disorder: r/EatingDisorders, r/EDAnonymous\n",
        "\n",
        "#Panic: r/PanicAttack, r/panicdisorder\n",
        "\n",
        "#Perfectionism\n",
        "\n",
        "#Procrastination\n",
        "\n",
        "#Self Esteem"
      ],
      "metadata": {
        "id": "zML85JQIn7zw"
      },
      "execution_count": 10,
      "outputs": []
    },
    {
      "cell_type": "code",
      "source": [
        "#Topics:\n",
        "\n",
        "#Anger\n",
        "#Anxiety\n",
        "#Bipolar\n",
        "#Depression\n",
        "#Eating Disorder\n",
        "#Panic\n",
        "\n",
        "#Others excluded because not large enough communities found or because DBT/CBT is more of a therapy style than topic"
      ],
      "metadata": {
        "id": "eg6LSGaoLlHD"
      },
      "execution_count": 11,
      "outputs": []
    },
    {
      "cell_type": "code",
      "source": [
        "ang_posts = {'Title':[],'Text':[], 'Score':[], 'Topic':[]}\n",
        "subreddit = await reddit.subreddit(\"Anger\")\n",
        "async for submission in subreddit.top(time_filter=\"all\",limit=None):\n",
        "  ang_posts[\"Title\"].append(submission.title)\n",
        "  ang_posts[\"Text\"].append(submission.selftext)\n",
        "  ang_posts[\"Score\"].append(submission.score)\n",
        "  ang_posts[\"Topic\"].append(\"anger\")\n",
        "\n",
        "ang_df = pd.DataFrame.from_dict(ang_posts)\n",
        "print(ang_df)"
      ],
      "metadata": {
        "colab": {
          "base_uri": "https://localhost:8080/"
        },
        "id": "QCR49R8zMgep",
        "outputId": "d9fd2e67-db56-477f-a8b4-25baa5029915"
      },
      "execution_count": 12,
      "outputs": [
        {
          "output_type": "stream",
          "name": "stdout",
          "text": [
            "                                                 Title  \\\n",
            "0    Your anger may be caused by a magnesium defici...   \n",
            "1    Do you ever get so angry that you wish to kill...   \n",
            "2    The thing is that when your emotional distress...   \n",
            "3    Does anyone else just avoid people because you...   \n",
            "4    Was anyone else “not allowed” to get upset gro...   \n",
            "..                                                 ...   \n",
            "991  My brother is always angry or on the verge of ...   \n",
            "992                                      Angry at life   \n",
            "993            Should I give my husband another chance   \n",
            "994    I get so angry I want to violently kill myself.   \n",
            "995                           What has worked for you    \n",
            "\n",
            "                                                  Text  Score  Topic  \n",
            "0    I tried absolutely everything to fix my chroni...    741  anger  \n",
            "1    I don't know if it's my anger issues talking o...    680  anger  \n",
            "2                                                         493  anger  \n",
            "3    Lately I’ve been noticing that I take the extr...    478  anger  \n",
            "4    I was always scolded for being upset, even at ...    402  anger  \n",
            "..                                                 ...    ...    ...  \n",
            "991  Growing up we had a relatively stable relation...     20  anger  \n",
            "992  Anxious, depressed, no friends , low self-este...     19  anger  \n",
            "993  My husband has bad anger issues and gets stres...     17  anger  \n",
            "994                                              Help.     18  anger  \n",
            "995  I'm a 37 year old, married man. My whole life ...     16  anger  \n",
            "\n",
            "[996 rows x 4 columns]\n"
          ]
        }
      ]
    },
    {
      "cell_type": "code",
      "source": [
        "anx_posts = {'Title':[],'Text':[], 'Score':[], 'Topic':[]}\n",
        "subreddit = await reddit.subreddit(\"Anxiety+socialanxiety\")\n",
        "async for submission in subreddit.top(time_filter=\"all\",limit=None):\n",
        "  anx_posts[\"Title\"].append(submission.title)\n",
        "  anx_posts[\"Text\"].append(submission.selftext)\n",
        "  anx_posts[\"Score\"].append(submission.score)\n",
        "  anx_posts[\"Topic\"].append(\"anxiety\")\n",
        "\n",
        "anx_df = pd.DataFrame.from_dict(anx_posts)\n",
        "print(anx_df)"
      ],
      "metadata": {
        "colab": {
          "base_uri": "https://localhost:8080/"
        },
        "id": "96rVzqEJNh2P",
        "outputId": "77921001-dac8-4f02-ded7-4208e88958d5"
      },
      "execution_count": 13,
      "outputs": [
        {
          "output_type": "stream",
          "name": "stdout",
          "text": [
            "                                                  Title  \\\n",
            "0                                            Every time   \n",
            "1                                      \"social anxiety\"   \n",
            "2                                        Too sensitive?   \n",
            "3                      It’s me every freakin day lmao 🤣   \n",
            "4                                          Anyone else?   \n",
            "...                                                 ...   \n",
            "1988  Does anyone ever feel like as soon as you have...   \n",
            "1989   A simple gif that may help you through an attack   \n",
            "1990  Does anyone else get anxiety when someone does...   \n",
            "1991                                    I DID IT!!!!!!!   \n",
            "1992  people are sooo weird towards reserved individ...   \n",
            "\n",
            "                                                   Text  Score    Topic  \n",
            "0                                                        27943  anxiety  \n",
            "1                                                        26398  anxiety  \n",
            "2                                                        19941  anxiety  \n",
            "3                                                        13367  anxiety  \n",
            "4                                                        13175  anxiety  \n",
            "...                                                 ...    ...      ...  \n",
            "1988  I got blindsided by a bout of anxiety that has...    857  anxiety  \n",
            "1989                                                       857  anxiety  \n",
            "1990                                                       864  anxiety  \n",
            "1991  A few days ago I made a post about not leaving...    863  anxiety  \n",
            "1992  I swear just being slightly closed off has suc...    841  anxiety  \n",
            "\n",
            "[1993 rows x 4 columns]\n"
          ]
        }
      ]
    },
    {
      "cell_type": "code",
      "source": [
        "bip_posts = {'Title':[],'Text':[], 'Score':[], 'Topic':[]}\n",
        "subreddit = await reddit.subreddit(\"bipolar+BipolarReddit+BipolarSOs+bipolar2\")\n",
        "async for submission in subreddit.top(time_filter=\"all\",limit=None):\n",
        "  bip_posts[\"Title\"].append(submission.title)\n",
        "  bip_posts[\"Text\"].append(submission.selftext)\n",
        "  bip_posts[\"Score\"].append(submission.score)\n",
        "  bip_posts[\"Topic\"].append(\"bipolar\")\n",
        "\n",
        "bip_df = pd.DataFrame.from_dict(bip_posts)\n",
        "print(bip_df)"
      ],
      "metadata": {
        "colab": {
          "base_uri": "https://localhost:8080/"
        },
        "id": "cI6pnHMkNs9G",
        "outputId": "b045c44f-ba69-4974-e3e5-cad858ed5c26"
      },
      "execution_count": 14,
      "outputs": [
        {
          "output_type": "stream",
          "name": "stdout",
          "text": [
            "                                                  Title  \\\n",
            "0             This is a painting I did while hypermanic   \n",
            "1                            Anti-stigma ads in my city   \n",
            "2       So.. Yeah things have been going pretty well...   \n",
            "3                                    * Mood stabilizers   \n",
            "4                      Feeling bad for Kanye right now!   \n",
            "...                                                 ...   \n",
            "3990                                               Wow.   \n",
            "3991                                    Suicide threats   \n",
            "3992                     \"You're better off without me\"   \n",
            "3993  Does anyone feel lost in life after breaking u...   \n",
            "3994                          Bipolar husband cheating.   \n",
            "\n",
            "                                                   Text  Score    Topic  \n",
            "0                                                         4647  bipolar  \n",
            "1                                                         4110  bipolar  \n",
            "2                                                         4106  bipolar  \n",
            "3                                                         3890  bipolar  \n",
            "4                                                         3659  bipolar  \n",
            "...                                                 ...    ...      ...  \n",
            "3990  \\nI am 30f, bipolar I, in a same sex relations...     38  bipolar  \n",
            "3991  Every time I attempt to discuss the issues in ...     35  bipolar  \n",
            "3992  I’m sure many of us have heard “you’d be bette...     35  bipolar  \n",
            "3993  I never had any serious relationship before so...     36  bipolar  \n",
            "3994  My husband and I have been together for almost...     34  bipolar  \n",
            "\n",
            "[3995 rows x 4 columns]\n"
          ]
        }
      ]
    },
    {
      "cell_type": "code",
      "source": [
        "dep_posts = {'Title':[],'Text':[], 'Score':[], 'Topic':[]}\n",
        "subreddit = await reddit.subreddit(\"depression+depression_help\")\n",
        "async for submission in subreddit.top(time_filter=\"all\",limit=None):\n",
        "  dep_posts[\"Title\"].append(submission.title)\n",
        "  dep_posts[\"Text\"].append(submission.selftext)\n",
        "  dep_posts[\"Score\"].append(submission.score)\n",
        "  dep_posts[\"Topic\"].append(\"depression\")\n",
        "\n",
        "dep_df = pd.DataFrame.from_dict(dep_posts)\n",
        "print(dep_df)"
      ],
      "metadata": {
        "colab": {
          "base_uri": "https://localhost:8080/"
        },
        "id": "rW_y0XBOOGqQ",
        "outputId": "65ace1af-eb2f-42a7-cae4-606291be2e8e"
      },
      "execution_count": 15,
      "outputs": [
        {
          "output_type": "stream",
          "name": "stdout",
          "text": [
            "                                                  Title  \\\n",
            "0     Shout out to the particular hell that is funct...   \n",
            "1     I hate that people don’t understand that i don...   \n",
            "2     If 10 years ago someone told me that in 10 yea...   \n",
            "3     It’s like I died at 15, but my body just kept ...   \n",
            "4     High-functioning depression: I feel like I'm l...   \n",
            "...                                                 ...   \n",
            "1963   Got brutally made fun of for being uncircumcised   \n",
            "1964                                       Getbetter.io   \n",
            "1965  Always thought it was cliche “go for a walk, i...   \n",
            "1966          I’m 50, I’ve ruined my life I hate myself   \n",
            "1967             Cortical thickness of depressed people   \n",
            "\n",
            "                                                   Text  Score       Topic  \n",
            "0     This is me. Don’t get me wrong, it’s better th...   6676  depression  \n",
            "1                                                         4727  depression  \n",
            "2     But here I am, 24 years old man and doing exac...   4418  depression  \n",
            "3     I’m trapped inside. Does anyone else get that ...   4176  depression  \n",
            "4     I read a lot of posts on here of people strugg...   4097  depression  \n",
            "...                                                 ...    ...         ...  \n",
            "1963  I matched with someone online, and things were...     57  depression  \n",
            "1964  Hello guys,\\n\\nWhenever I go through harder ti...     59  depression  \n",
            "1965                                                        57  depression  \n",
            "1966  I have kids and all I do is ruminate over my s...     57  depression  \n",
            "1967                                                        57  depression  \n",
            "\n",
            "[1968 rows x 4 columns]\n"
          ]
        }
      ]
    },
    {
      "cell_type": "code",
      "source": [
        "eat_posts = {'Title':[],'Text':[], 'Score':[], 'Topic':[]}\n",
        "subreddit = await reddit.subreddit(\"EatingDisorders+EDAnonymous\")\n",
        "async for submission in subreddit.top(time_filter=\"all\",limit=None):\n",
        "  eat_posts[\"Title\"].append(submission.title)\n",
        "  eat_posts[\"Text\"].append(submission.selftext)\n",
        "  eat_posts[\"Score\"].append(submission.score)\n",
        "  eat_posts[\"Topic\"].append(\"easting disorder\")\n",
        "\n",
        "eat_df = pd.DataFrame.from_dict(eat_posts)\n",
        "print(eat_df)"
      ],
      "metadata": {
        "colab": {
          "base_uri": "https://localhost:8080/"
        },
        "id": "Z6Y_kSW5Omao",
        "outputId": "6ae7df89-aef3-400f-f244-05427004b77f"
      },
      "execution_count": 16,
      "outputs": [
        {
          "output_type": "stream",
          "name": "stdout",
          "text": [
            "                                                  Title  \\\n",
            "0     Can everybody who binges sometimes or regularl...   \n",
            "1     Im barely 21 and Im going to die of heart fail...   \n",
            "2     So I’ve seen a lot of people without EDs hangi...   \n",
            "3     once i get skinny arms, a flat stomach, thin t...   \n",
            "4     I was born at 7lbs how did I let it get this o...   \n",
            "...                                                 ...   \n",
            "1995                  My sister won’t let me eat dinner   \n",
            "1996  I’m doing branding for NEDA, an organization t...   \n",
            "1997        My niece told me she has an eating disorder   \n",
            "1998  How do I know if my friend has an eating disor...   \n",
            "1999  How is atypical anorexia a thing? Why some peo...   \n",
            "\n",
            "                                                   Text  Score  \\\n",
            "0                                                         4633   \n",
            "1     #To anyone who's thinking of recovering and is...   3537   \n",
            "2     Run.\\n\\nRun as far and as fast as you can from...   3061   \n",
            "3                                                         2849   \n",
            "4                                                         2504   \n",
            "...                                                 ...    ...   \n",
            "1995  Idk what to do abt this and I don’t know where...     38   \n",
            "1996  I’m making a website, T-Shirts, and an animati...     36   \n",
            "1997  My niece 15f just told me she is afraid her ea...     35   \n",
            "1998  My friend 15f never eats lunch at school and I...     36   \n",
            "1999  I just can't seem to find an answer to this. I...     36   \n",
            "\n",
            "                 Topic  \n",
            "0     easting disorder  \n",
            "1     easting disorder  \n",
            "2     easting disorder  \n",
            "3     easting disorder  \n",
            "4     easting disorder  \n",
            "...                ...  \n",
            "1995  easting disorder  \n",
            "1996  easting disorder  \n",
            "1997  easting disorder  \n",
            "1998  easting disorder  \n",
            "1999  easting disorder  \n",
            "\n",
            "[2000 rows x 4 columns]\n"
          ]
        }
      ]
    },
    {
      "cell_type": "code",
      "source": [
        "pan_posts = {'Title':[],'Text':[], 'Score':[], 'Topic':[]}\n",
        "subreddit = await reddit.subreddit(\"PanicAttack+panicdisorder\")\n",
        "async for submission in subreddit.top(time_filter=\"all\",limit=None):\n",
        "  pan_posts[\"Title\"].append(submission.title)\n",
        "  pan_posts[\"Text\"].append(submission.selftext)\n",
        "  pan_posts[\"Score\"].append(submission.score)\n",
        "  pan_posts[\"Topic\"].append(\"panic\")\n",
        "\n",
        "pan_df = pd.DataFrame.from_dict(pan_posts)\n",
        "print(pan_df)"
      ],
      "metadata": {
        "colab": {
          "base_uri": "https://localhost:8080/"
        },
        "id": "h1BdjeqBPG-V",
        "outputId": "7f8b3b88-ed46-4dca-ae09-88bb4ee3a8d1"
      },
      "execution_count": 17,
      "outputs": [
        {
          "output_type": "stream",
          "name": "stdout",
          "text": [
            "                                                  Title  \\\n",
            "0                It's not a Heart Attack. Here's why...   \n",
            "1                          How I cured my panic attacks   \n",
            "2     This literally feels like how my brain works w...   \n",
            "3     I am 25 and finally decide to go for therapy. ...   \n",
            "4       You're NOT having a Heart Attack. Here's why...   \n",
            "...                                                 ...   \n",
            "1992                                Anxiety and bruxism   \n",
            "1993                                      im giving up    \n",
            "1994                                   holding breath?    \n",
            "1995                                       I’m curious!   \n",
            "1996                           How to break the cycle?    \n",
            "\n",
            "                                                   Text  Score  Topic  \n",
            "0     Things I remind myself (in no particular order...   1086  panic  \n",
            "1     I got a request to make this post so I can lin...    878  panic  \n",
            "2                                                          582  panic  \n",
            "3                                                          393  panic  \n",
            "4     Things I remind myself (in no particular order...    383  panic  \n",
            "...                                                 ...    ...    ...  \n",
            "1992  Does anyone with a long term anxiety disorder ...     10  panic  \n",
            "1993  im so tired of this constant anxiety and panic...      9  panic  \n",
            "1994  does anyone else catch themselves holding thei...      9  panic  \n",
            "1995  I’m curious what age range and genders are of ...     10  panic  \n",
            "1996  Anybody ever feels like their losing their min...      9  panic  \n",
            "\n",
            "[1997 rows x 4 columns]\n"
          ]
        }
      ]
    },
    {
      "cell_type": "code",
      "source": [
        "raw_df = pd.concat([ang_df, anx_df, bip_df, dep_df, eat_df, pan_df])\n",
        "print(raw_df)"
      ],
      "metadata": {
        "colab": {
          "base_uri": "https://localhost:8080/"
        },
        "id": "eGrb07ifPYeZ",
        "outputId": "aa4a8354-c1c1-4a7b-e504-94d275dd92a0"
      },
      "execution_count": 18,
      "outputs": [
        {
          "output_type": "stream",
          "name": "stdout",
          "text": [
            "                                                  Title  \\\n",
            "0     Your anger may be caused by a magnesium defici...   \n",
            "1     Do you ever get so angry that you wish to kill...   \n",
            "2     The thing is that when your emotional distress...   \n",
            "3     Does anyone else just avoid people because you...   \n",
            "4     Was anyone else “not allowed” to get upset gro...   \n",
            "...                                                 ...   \n",
            "1992                                Anxiety and bruxism   \n",
            "1993                                      im giving up    \n",
            "1994                                   holding breath?    \n",
            "1995                                       I’m curious!   \n",
            "1996                           How to break the cycle?    \n",
            "\n",
            "                                                   Text  Score  Topic  \n",
            "0     I tried absolutely everything to fix my chroni...    741  anger  \n",
            "1     I don't know if it's my anger issues talking o...    680  anger  \n",
            "2                                                          493  anger  \n",
            "3     Lately I’ve been noticing that I take the extr...    478  anger  \n",
            "4     I was always scolded for being upset, even at ...    402  anger  \n",
            "...                                                 ...    ...    ...  \n",
            "1992  Does anyone with a long term anxiety disorder ...     10  panic  \n",
            "1993  im so tired of this constant anxiety and panic...      9  panic  \n",
            "1994  does anyone else catch themselves holding thei...      9  panic  \n",
            "1995  I’m curious what age range and genders are of ...     10  panic  \n",
            "1996  Anybody ever feels like their losing their min...      9  panic  \n",
            "\n",
            "[12949 rows x 4 columns]\n"
          ]
        }
      ]
    },
    {
      "cell_type": "code",
      "source": [
        "raw_df.to_csv('DSC 288 Raw Reddit Dataset.csv', index=False)"
      ],
      "metadata": {
        "id": "_Dib4k72Pyhp"
      },
      "execution_count": 19,
      "outputs": []
    },
    {
      "cell_type": "code",
      "source": [],
      "metadata": {
        "id": "wIcvfX7OQpin"
      },
      "execution_count": null,
      "outputs": []
    }
  ]
}