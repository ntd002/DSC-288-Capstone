{
  "nbformat": 4,
  "nbformat_minor": 0,
  "metadata": {
    "colab": {
      "provenance": [],
      "collapsed_sections": [
        "KMMjIQrmbYvG"
      ]
    },
    "kernelspec": {
      "name": "python3",
      "display_name": "Python 3"
    },
    "language_info": {
      "name": "python"
    }
  },
  "cells": [
    {
      "cell_type": "markdown",
      "source": [
        "# Accessing Reddit API"
      ],
      "metadata": {
        "id": "KMMjIQrmbYvG"
      }
    },
    {
      "cell_type": "code",
      "source": [
        "#client ID 0vVkHqr-OpTLAuByKyuRFQ\n",
        "#client secret uzND0brhnpyk31r8s142MxdOVkm1eg\n",
        "#used https://pagenotfound.online/reddit-content-idea-mining-with-python/\n",
        "  #https://asyncpraw.readthedocs.io/en/stable/code_overview/models/submission.html\n",
        "!pip install asyncpraw\n",
        "import asyncpraw\n",
        "import pandas as pd"
      ],
      "metadata": {
        "colab": {
          "base_uri": "https://localhost:8080/"
        },
        "id": "OfqKoC5Yai-s",
        "outputId": "8b77ee23-f478-437c-ab26-f0bf160f419c"
      },
      "execution_count": 1,
      "outputs": [
        {
          "output_type": "stream",
          "name": "stdout",
          "text": [
            "Collecting asyncpraw\n",
            "  Downloading asyncpraw-7.8.1-py3-none-any.whl.metadata (9.0 kB)\n",
            "Collecting aiofiles (from asyncpraw)\n",
            "  Downloading aiofiles-24.1.0-py3-none-any.whl.metadata (10 kB)\n",
            "Requirement already satisfied: aiohttp<4 in /usr/local/lib/python3.11/dist-packages (from asyncpraw) (3.11.12)\n",
            "Collecting aiosqlite<=0.17.0 (from asyncpraw)\n",
            "  Downloading aiosqlite-0.17.0-py3-none-any.whl.metadata (4.1 kB)\n",
            "Collecting asyncprawcore<3,>=2.4 (from asyncpraw)\n",
            "  Downloading asyncprawcore-2.4.0-py3-none-any.whl.metadata (5.5 kB)\n",
            "Collecting update_checker>=0.18 (from asyncpraw)\n",
            "  Downloading update_checker-0.18.0-py3-none-any.whl.metadata (2.3 kB)\n",
            "Requirement already satisfied: aiohappyeyeballs>=2.3.0 in /usr/local/lib/python3.11/dist-packages (from aiohttp<4->asyncpraw) (2.4.6)\n",
            "Requirement already satisfied: aiosignal>=1.1.2 in /usr/local/lib/python3.11/dist-packages (from aiohttp<4->asyncpraw) (1.3.2)\n",
            "Requirement already satisfied: attrs>=17.3.0 in /usr/local/lib/python3.11/dist-packages (from aiohttp<4->asyncpraw) (25.1.0)\n",
            "Requirement already satisfied: frozenlist>=1.1.1 in /usr/local/lib/python3.11/dist-packages (from aiohttp<4->asyncpraw) (1.5.0)\n",
            "Requirement already satisfied: multidict<7.0,>=4.5 in /usr/local/lib/python3.11/dist-packages (from aiohttp<4->asyncpraw) (6.1.0)\n",
            "Requirement already satisfied: propcache>=0.2.0 in /usr/local/lib/python3.11/dist-packages (from aiohttp<4->asyncpraw) (0.2.1)\n",
            "Requirement already satisfied: yarl<2.0,>=1.17.0 in /usr/local/lib/python3.11/dist-packages (from aiohttp<4->asyncpraw) (1.18.3)\n",
            "Requirement already satisfied: typing_extensions>=3.7.2 in /usr/local/lib/python3.11/dist-packages (from aiosqlite<=0.17.0->asyncpraw) (4.12.2)\n",
            "Requirement already satisfied: requests>=2.3.0 in /usr/local/lib/python3.11/dist-packages (from update_checker>=0.18->asyncpraw) (2.32.3)\n",
            "Requirement already satisfied: charset-normalizer<4,>=2 in /usr/local/lib/python3.11/dist-packages (from requests>=2.3.0->update_checker>=0.18->asyncpraw) (3.4.1)\n",
            "Requirement already satisfied: idna<4,>=2.5 in /usr/local/lib/python3.11/dist-packages (from requests>=2.3.0->update_checker>=0.18->asyncpraw) (3.10)\n",
            "Requirement already satisfied: urllib3<3,>=1.21.1 in /usr/local/lib/python3.11/dist-packages (from requests>=2.3.0->update_checker>=0.18->asyncpraw) (2.3.0)\n",
            "Requirement already satisfied: certifi>=2017.4.17 in /usr/local/lib/python3.11/dist-packages (from requests>=2.3.0->update_checker>=0.18->asyncpraw) (2025.1.31)\n",
            "Downloading asyncpraw-7.8.1-py3-none-any.whl (196 kB)\n",
            "\u001b[2K   \u001b[90m━━━━━━━━━━━━━━━━━━━━━━━━━━━━━━━━━━━━━━━━\u001b[0m \u001b[32m196.4/196.4 kB\u001b[0m \u001b[31m3.7 MB/s\u001b[0m eta \u001b[36m0:00:00\u001b[0m\n",
            "\u001b[?25hDownloading aiosqlite-0.17.0-py3-none-any.whl (15 kB)\n",
            "Downloading asyncprawcore-2.4.0-py3-none-any.whl (19 kB)\n",
            "Downloading update_checker-0.18.0-py3-none-any.whl (7.0 kB)\n",
            "Downloading aiofiles-24.1.0-py3-none-any.whl (15 kB)\n",
            "Installing collected packages: aiosqlite, aiofiles, update_checker, asyncprawcore, asyncpraw\n",
            "Successfully installed aiofiles-24.1.0 aiosqlite-0.17.0 asyncpraw-7.8.1 asyncprawcore-2.4.0 update_checker-0.18.0\n"
          ]
        }
      ]
    },
    {
      "cell_type": "code",
      "source": [
        "reddit = asyncpraw.Reddit(\n",
        "    client_id=\"0vVkHqr-OpTLAuByKyuRFQ\",\n",
        "    client_secret=\"uzND0brhnpyk31r8s142MxdOVkm1eg\",\n",
        "    user_agent=\"DSC 288 Capstone (by u/TGM)\",\n",
        ")"
      ],
      "metadata": {
        "id": "a_Xmhlfpcg11"
      },
      "execution_count": 2,
      "outputs": []
    },
    {
      "cell_type": "code",
      "source": [
        "top_posts = {'Title':[],'Text':[], 'Score':[]}\n",
        "subreddit = await reddit.subreddit(\"dbtselfhelp\") #999 rows\n",
        "#subreddit = await reddit.subreddit(\"CBTpractice\") #546 rows\n",
        "async for submission in subreddit.top(time_filter=\"all\",limit=None):\n",
        "  top_posts[\"Title\"].append(submission.title)\n",
        "  top_posts[\"Text\"].append(submission.selftext)\n",
        "  top_posts[\"Score\"].append(submission.score)"
      ],
      "metadata": {
        "id": "aipAQ1U7ddrA"
      },
      "execution_count": 3,
      "outputs": []
    },
    {
      "cell_type": "code",
      "source": [
        "red_df = pd.DataFrame.from_dict(top_posts)\n",
        "print(red_df)"
      ],
      "metadata": {
        "colab": {
          "base_uri": "https://localhost:8080/"
        },
        "id": "sBPS-4ejd407",
        "outputId": "18c7c7c4-3b26-43bf-d27f-d81f498d0a1c"
      },
      "execution_count": 4,
      "outputs": [
        {
          "output_type": "stream",
          "name": "stdout",
          "text": [
            "                                                 Title  \\\n",
            "0    Our only job in life is to create A Life Worth...   \n",
            "1                                    Thoughts vs truth   \n",
            "2    i made this free card deck to help me manage m...   \n",
            "3    Simple distress tolerance strategy for when yo...   \n",
            "4    I made this lockscreen for myself, hope someon...   \n",
            "..                                                 ...   \n",
            "995  Anyone else struggle with self soothing due to...   \n",
            "996                             Willingness Wednesdays   \n",
            "997                             Willingness Wednesdays   \n",
            "998                             Willingness Wednesdays   \n",
            "999                             Willingness Wednesdays   \n",
            "\n",
            "                                                  Text  Score  \n",
            "0    I’m sure there are plenty of people that need ...    398  \n",
            "1                                                         319  \n",
            "2                                                         242  \n",
            "3                                                         227  \n",
            "4                                                         214  \n",
            "..                                                 ...    ...  \n",
            "995  Hey guys I started DBT a couple weeks ago and ...      9  \n",
            "996  [Willingness](https://gerryfisher.livejournal....      7  \n",
            "997  [Willingness](https://gerryfisher.livejournal....      9  \n",
            "998  [Willingness](https://gerryfisher.livejournal....      8  \n",
            "999  [Willingness](https://gerryfisher.livejournal....      8  \n",
            "\n",
            "[1000 rows x 3 columns]\n"
          ]
        }
      ]
    },
    {
      "cell_type": "code",
      "source": [
        "temp_df = red_df[red_df['Text'] != '']\n",
        "\n",
        "print(temp_df)"
      ],
      "metadata": {
        "colab": {
          "base_uri": "https://localhost:8080/"
        },
        "id": "DlqdhoG1jc4r",
        "outputId": "b2252e1b-4b89-4af2-ee56-fcf1301426f1"
      },
      "execution_count": 5,
      "outputs": [
        {
          "output_type": "stream",
          "name": "stdout",
          "text": [
            "                                                 Title  \\\n",
            "0    Our only job in life is to create A Life Worth...   \n",
            "9    Can't afford therapy so I'm attempting to do d...   \n",
            "11                        Skill chart with typos fixed   \n",
            "12                                    Hi, new to this    \n",
            "14                      Distress Tolerance Cheat Sheet   \n",
            "..                                                 ...   \n",
            "995  Anyone else struggle with self soothing due to...   \n",
            "996                             Willingness Wednesdays   \n",
            "997                             Willingness Wednesdays   \n",
            "998                             Willingness Wednesdays   \n",
            "999                             Willingness Wednesdays   \n",
            "\n",
            "                                                  Text  Score  \n",
            "0    I’m sure there are plenty of people that need ...    398  \n",
            "9    Hi, I'm quite new to Reddit and I don't  reall...    153  \n",
            "11   I posted this a couple weeks ago with some spe...    149  \n",
            "12   So I decided to make a commitment the other da...    147  \n",
            "14   I just finished the DT module and I made a vis...    124  \n",
            "..                                                 ...    ...  \n",
            "995  Hey guys I started DBT a couple weeks ago and ...      9  \n",
            "996  [Willingness](https://gerryfisher.livejournal....      7  \n",
            "997  [Willingness](https://gerryfisher.livejournal....      9  \n",
            "998  [Willingness](https://gerryfisher.livejournal....      8  \n",
            "999  [Willingness](https://gerryfisher.livejournal....      8  \n",
            "\n",
            "[944 rows x 3 columns]\n"
          ]
        }
      ]
    },
    {
      "cell_type": "markdown",
      "source": [
        "# Saving Topics to CSV"
      ],
      "metadata": {
        "id": "sXKOdSwZQyqW"
      }
    },
    {
      "cell_type": "code",
      "source": [
        "#Anger: r/Anger, r/AskReddit\n",
        "\n",
        "#Anxiety: r/Anxiety, r/socialanxiety\n",
        "\n",
        "#Assertiveness\n",
        "\n",
        "#Bipolar: r/bipolar, r/BipolarReddit, r/BipolarSOs, r/bipolar2\n",
        "\n",
        "#DBT/CBT: r/dbtselfhelp, r/CBT\n",
        "\n",
        "#Depression: r/depression, r/depression_help\n",
        "\n",
        "#Eating Disorder: r/EatingDisorders, r/EDAnonymous\n",
        "\n",
        "#Panic: r/PanicAttack, r/panicdisorder\n",
        "\n",
        "#Perfectionism\n",
        "\n",
        "#Procrastination\n",
        "\n",
        "#Self Esteem"
      ],
      "metadata": {
        "id": "zML85JQIn7zw"
      },
      "execution_count": 6,
      "outputs": []
    },
    {
      "cell_type": "code",
      "source": [
        "#Topics:\n",
        "\n",
        "#Anger\n",
        "#Anxiety\n",
        "#Bipolar\n",
        "#Depression\n",
        "#Eating Disorder\n",
        "#Panic\n",
        "\n",
        "#Others excluded because not large enough communities found or because DBT/CBT is more of a therapy style than topic"
      ],
      "metadata": {
        "id": "eg6LSGaoLlHD"
      },
      "execution_count": 7,
      "outputs": []
    },
    {
      "cell_type": "code",
      "source": [
        "ang_posts = {'Title':[],'Text':[], 'Score':[], 'Topic':[]}\n",
        "subreddit = await reddit.subreddit(\"Anger\")\n",
        "async for submission in subreddit.top(time_filter=\"all\",limit=None):\n",
        "  ang_posts[\"Title\"].append(submission.title)\n",
        "  ang_posts[\"Text\"].append(submission.selftext)\n",
        "  ang_posts[\"Score\"].append(submission.score)\n",
        "  ang_posts[\"Topic\"].append(\"anger\")\n",
        "\n",
        "ang_df = pd.DataFrame.from_dict(ang_posts)\n",
        "print(ang_df)"
      ],
      "metadata": {
        "colab": {
          "base_uri": "https://localhost:8080/"
        },
        "id": "QCR49R8zMgep",
        "outputId": "d759c65f-9bcf-4d64-bf14-f2159184f554"
      },
      "execution_count": 8,
      "outputs": [
        {
          "output_type": "stream",
          "name": "stdout",
          "text": [
            "                                                 Title  \\\n",
            "0    Your anger may be caused by a magnesium defici...   \n",
            "1    Do you ever get so angry that you wish to kill...   \n",
            "2    The thing is that when your emotional distress...   \n",
            "3    Does anyone else just avoid people because you...   \n",
            "4    Was anyone else “not allowed” to get upset gro...   \n",
            "..                                                 ...   \n",
            "991             I just want to scream and break things   \n",
            "992  My anger issues ruined the best relationship I...   \n",
            "993  Really need some help. I've been rejected over...   \n",
            "994                             I hate the person I am   \n",
            "995       How do I stop hitting things when I’m angry?   \n",
            "\n",
            "                                                  Text  Score  Topic  \n",
            "0    I tried absolutely everything to fix my chroni...    743  anger  \n",
            "1    I don't know if it's my anger issues talking o...    692  anger  \n",
            "2                                                         495  anger  \n",
            "3    Lately I’ve been noticing that I take the extr...    489  anger  \n",
            "4    I was always scolded for being upset, even at ...    414  anger  \n",
            "..                                                 ...    ...    ...  \n",
            "991  I’m really great at staying composed externall...     19  anger  \n",
            "992  My anger issues went so unresolved and so igno...     20  anger  \n",
            "993  I don't know how I have the energy for it, and...     19  anger  \n",
            "994  I hate my personality. I want to be one way, b...     18  anger  \n",
            "995  My dad will hit his keyboard or slam things if...     19  anger  \n",
            "\n",
            "[996 rows x 4 columns]\n"
          ]
        }
      ]
    },
    {
      "cell_type": "code",
      "source": [
        "anx_posts = {'Title':[],'Text':[], 'Score':[], 'Topic':[]}\n",
        "subreddit = await reddit.subreddit(\"Anxiety+socialanxiety\")\n",
        "async for submission in subreddit.top(time_filter=\"all\",limit=None):\n",
        "  anx_posts[\"Title\"].append(submission.title)\n",
        "  anx_posts[\"Text\"].append(submission.selftext)\n",
        "  anx_posts[\"Score\"].append(submission.score)\n",
        "  anx_posts[\"Topic\"].append(\"anxiety\")\n",
        "\n",
        "anx_df = pd.DataFrame.from_dict(anx_posts)\n",
        "print(anx_df)"
      ],
      "metadata": {
        "colab": {
          "base_uri": "https://localhost:8080/"
        },
        "id": "96rVzqEJNh2P",
        "outputId": "5147afa8-8d4b-46f3-a2e1-3db53ce36f8b"
      },
      "execution_count": 9,
      "outputs": [
        {
          "output_type": "stream",
          "name": "stdout",
          "text": [
            "                                                  Title  \\\n",
            "0                                            Every time   \n",
            "1                                      \"social anxiety\"   \n",
            "2                                        Too sensitive?   \n",
            "3                      It’s me every freakin day lmao 🤣   \n",
            "4                                          Anyone else?   \n",
            "...                                                 ...   \n",
            "1988  I successfully made a doctor's appointment today!   \n",
            "1989  Does anyone else have intense fear that they’l...   \n",
            "1990  Today I managed not to look away when a girl m...   \n",
            "1991  Does anybody else feel mentally ill with chron...   \n",
            "1992  Anyone else wake up and instantly feel like th...   \n",
            "\n",
            "                                                   Text  Score    Topic  \n",
            "0                                                        27944  anxiety  \n",
            "1                                                        26395  anxiety  \n",
            "2                                                        19932  anxiety  \n",
            "3                                                        13371  anxiety  \n",
            "4                                                        13171  anxiety  \n",
            "...                                                 ...    ...      ...  \n",
            "1988  Probably the thing I (24f) hate most about my ...    869  anxiety  \n",
            "1989  im 19 years old. I live with my family (my mum...    866  anxiety  \n",
            "1990  I'm usually very shy and insecure around girls...    864  anxiety  \n",
            "1991  I know it is a mental illness in itself but I’...    864  anxiety  \n",
            "1992                                                       863  anxiety  \n",
            "\n",
            "[1993 rows x 4 columns]\n"
          ]
        }
      ]
    },
    {
      "cell_type": "code",
      "source": [
        "bip_posts = {'Title':[],'Text':[], 'Score':[], 'Topic':[]}\n",
        "subreddit = await reddit.subreddit(\"bipolar+BipolarReddit+BipolarSOs+bipolar2\")\n",
        "async for submission in subreddit.top(time_filter=\"all\",limit=None):\n",
        "  bip_posts[\"Title\"].append(submission.title)\n",
        "  bip_posts[\"Text\"].append(submission.selftext)\n",
        "  bip_posts[\"Score\"].append(submission.score)\n",
        "  bip_posts[\"Topic\"].append(\"bipolar\")\n",
        "\n",
        "bip_df = pd.DataFrame.from_dict(bip_posts)\n",
        "print(bip_df)"
      ],
      "metadata": {
        "colab": {
          "base_uri": "https://localhost:8080/"
        },
        "id": "cI6pnHMkNs9G",
        "outputId": "ba70b97e-0c26-467c-bdca-15dff6a75614"
      },
      "execution_count": 10,
      "outputs": [
        {
          "output_type": "stream",
          "name": "stdout",
          "text": [
            "                                                  Title  \\\n",
            "0             This is a painting I did while hypermanic   \n",
            "1       So.. Yeah things have been going pretty well...   \n",
            "2                            Anti-stigma ads in my city   \n",
            "3                                    * Mood stabilizers   \n",
            "4                                               So true   \n",
            "...                                                 ...   \n",
            "3991                                            Custody   \n",
            "3992                                      Love and hate   \n",
            "3993                       Thought I'd do an update....   \n",
            "3994  Why are bipolar partners so “addicting”? Many,...   \n",
            "3995                           What I have learned here   \n",
            "\n",
            "                                                   Text  Score    Topic  \n",
            "0                                                         4680  bipolar  \n",
            "1                                                         4133  bipolar  \n",
            "2                                                         4134  bipolar  \n",
            "3                                                         3931  bipolar  \n",
            "4                                                         3481  bipolar  \n",
            "...                                                 ...    ...      ...  \n",
            "3991  My wife was recently diagnosed with bipolar II...     37  bipolar  \n",
            "3992  When the person you love the most everyday is ...     38  bipolar  \n",
            "3993  I posted alot on here  two years ago when my s...     38  bipolar  \n",
            "3994  I was with my guy for 6 months.  We started of...     36  bipolar  \n",
            "3995  In the short time since I have found this sub ...     38  bipolar  \n",
            "\n",
            "[3996 rows x 4 columns]\n"
          ]
        }
      ]
    },
    {
      "cell_type": "code",
      "source": [
        "dep_posts = {'Title':[],'Text':[], 'Score':[], 'Topic':[]}\n",
        "subreddit = await reddit.subreddit(\"depression+depression_help\")\n",
        "async for submission in subreddit.top(time_filter=\"all\",limit=None):\n",
        "  dep_posts[\"Title\"].append(submission.title)\n",
        "  dep_posts[\"Text\"].append(submission.selftext)\n",
        "  dep_posts[\"Score\"].append(submission.score)\n",
        "  dep_posts[\"Topic\"].append(\"depression\")\n",
        "\n",
        "dep_df = pd.DataFrame.from_dict(dep_posts)\n",
        "print(dep_df)"
      ],
      "metadata": {
        "colab": {
          "base_uri": "https://localhost:8080/"
        },
        "id": "rW_y0XBOOGqQ",
        "outputId": "f041edcc-6b34-42dc-84f6-b2e6cd0f0f80"
      },
      "execution_count": 11,
      "outputs": [
        {
          "output_type": "stream",
          "name": "stdout",
          "text": [
            "                                                  Title  \\\n",
            "0     Shout out to the particular hell that is funct...   \n",
            "1     I hate that people don’t understand that i don...   \n",
            "2     If 10 years ago someone told me that in 10 yea...   \n",
            "3     It’s like I died at 15, but my body just kept ...   \n",
            "4     High-functioning depression: I feel like I'm l...   \n",
            "...                                                 ...   \n",
            "1962  For anyone with depression, anxiety, low self ...   \n",
            "1963             The daily struggle to survive in Gaza.   \n",
            "1964                      Life fucked me , I'm still 18   \n",
            "1965                             I can't take a shower    \n",
            "1966                       I don't wanna eat anymore :/   \n",
            "\n",
            "                                                   Text  Score       Topic  \n",
            "0     This is me. Don’t get me wrong, it’s better th...   6671  depression  \n",
            "1                                                         4719  depression  \n",
            "2     But here I am, 24 years old man and doing exac...   4423  depression  \n",
            "3     I’m trapped inside. Does anyone else get that ...   4177  depression  \n",
            "4     I read a lot of posts on here of people strugg...   4091  depression  \n",
            "...                                                 ...    ...         ...  \n",
            "1962  I want you to know you are not alone. I think ...     63  depression  \n",
            "1963  My name is Yamen Nashwan, and my family and I ...     63  depression  \n",
            "1964  Having a rare condition called Bladder Exstrop...     59  depression  \n",
            "1965  I can't seem to push myself to take a shower. ...     58  depression  \n",
            "1966  Food used to be my coping mechanism,  I  ate a...     50  depression  \n",
            "\n",
            "[1967 rows x 4 columns]\n"
          ]
        }
      ]
    },
    {
      "cell_type": "code",
      "source": [
        "eat_posts = {'Title':[],'Text':[], 'Score':[], 'Topic':[]}\n",
        "subreddit = await reddit.subreddit(\"EatingDisorders+EDAnonymous\")\n",
        "async for submission in subreddit.top(time_filter=\"all\",limit=None):\n",
        "  eat_posts[\"Title\"].append(submission.title)\n",
        "  eat_posts[\"Text\"].append(submission.selftext)\n",
        "  eat_posts[\"Score\"].append(submission.score)\n",
        "  eat_posts[\"Topic\"].append(\"eating disorder\")\n",
        "\n",
        "eat_df = pd.DataFrame.from_dict(eat_posts)\n",
        "print(eat_df)"
      ],
      "metadata": {
        "colab": {
          "base_uri": "https://localhost:8080/"
        },
        "id": "Z6Y_kSW5Omao",
        "outputId": "7bc1e551-f6d3-44cf-8b5c-7ae82c2342be"
      },
      "execution_count": 12,
      "outputs": [
        {
          "output_type": "stream",
          "name": "stdout",
          "text": [
            "                                                  Title  \\\n",
            "0     Can everybody who binges sometimes or regularl...   \n",
            "1     Im barely 21 and Im going to die of heart fail...   \n",
            "2     So I’ve seen a lot of people without EDs hangi...   \n",
            "3     once i get skinny arms, a flat stomach, thin t...   \n",
            "4     I was born at 7lbs how did I let it get this o...   \n",
            "...                                                 ...   \n",
            "1995                          Shameful things I’ve done   \n",
            "1996             Help with office weight loss challenge   \n",
            "1997                                       i ate today!   \n",
            "1998                 Please seek help (Trigger Warning)   \n",
            "1999                      Bf skipping lunch triggers me   \n",
            "\n",
            "                                                   Text  Score  \\\n",
            "0                                                         4661   \n",
            "1     #To anyone who's thinking of recovering and is...   3557   \n",
            "2     Run.\\n\\nRun as far and as fast as you can from...   3081   \n",
            "3                                                         2868   \n",
            "4                                                         2525   \n",
            "...                                                 ...    ...   \n",
            "1995  \\n1. Caught shoplifting \\n\\n2. Lying to my fam...     36   \n",
            "1996  Edit/Update: I ended up sending an email to HR...     35   \n",
            "1997  i just want to post to say i’m proud of myself...     36   \n",
            "1998  As someone whose loved and lost their best fri...     36   \n",
            "1999  To preface, I live with my bf and he knows I h...     37   \n",
            "\n",
            "                Topic  \n",
            "0     eating disorder  \n",
            "1     eating disorder  \n",
            "2     eating disorder  \n",
            "3     eating disorder  \n",
            "4     eating disorder  \n",
            "...               ...  \n",
            "1995  eating disorder  \n",
            "1996  eating disorder  \n",
            "1997  eating disorder  \n",
            "1998  eating disorder  \n",
            "1999  eating disorder  \n",
            "\n",
            "[2000 rows x 4 columns]\n"
          ]
        }
      ]
    },
    {
      "cell_type": "code",
      "source": [
        "pan_posts = {'Title':[],'Text':[], 'Score':[], 'Topic':[]}\n",
        "subreddit = await reddit.subreddit(\"PanicAttack+panicdisorder\")\n",
        "async for submission in subreddit.top(time_filter=\"all\",limit=None):\n",
        "  pan_posts[\"Title\"].append(submission.title)\n",
        "  pan_posts[\"Text\"].append(submission.selftext)\n",
        "  pan_posts[\"Score\"].append(submission.score)\n",
        "  pan_posts[\"Topic\"].append(\"panic\")\n",
        "\n",
        "pan_df = pd.DataFrame.from_dict(pan_posts)\n",
        "print(pan_df)"
      ],
      "metadata": {
        "colab": {
          "base_uri": "https://localhost:8080/"
        },
        "id": "h1BdjeqBPG-V",
        "outputId": "1b76aa06-f1b9-4577-b069-a547b99ed243"
      },
      "execution_count": 13,
      "outputs": [
        {
          "output_type": "stream",
          "name": "stdout",
          "text": [
            "                                                  Title  \\\n",
            "0                It's not a Heart Attack. Here's why...   \n",
            "1                          How I cured my panic attacks   \n",
            "2     This literally feels like how my brain works w...   \n",
            "3     I am 25 and finally decide to go for therapy. ...   \n",
            "4       You're NOT having a Heart Attack. Here's why...   \n",
            "...                                                 ...   \n",
            "1994                                 Looking for advice   \n",
            "1995                        New panic attack experience   \n",
            "1996  I’m having pretty bad suicidal thoughts, think...   \n",
            "1997      Anxiety symptoms replicating low blood sugar?   \n",
            "1998  I've had a couple of panic attacks because of ...   \n",
            "\n",
            "                                                   Text  Score  Topic  \n",
            "0     Things I remind myself (in no particular order...   1133  panic  \n",
            "1     I got a request to make this post so I can lin...    895  panic  \n",
            "2                                                          584  panic  \n",
            "3                                                          402  panic  \n",
            "4     Things I remind myself (in no particular order...    382  panic  \n",
            "...                                                 ...    ...    ...  \n",
            "1994  Hi, I’m 28F. I’ve been professionally diagnose...     10  panic  \n",
            "1995  Hi guys, I just wanted to see if anyone has ex...     12  panic  \n",
            "1996  The second half of last year, and this month h...     13  panic  \n",
            "1997  This is scaring me insane honestly. Has anyone...     11  panic  \n",
            "1998                                                        11  panic  \n",
            "\n",
            "[1999 rows x 4 columns]\n"
          ]
        }
      ]
    },
    {
      "cell_type": "code",
      "source": [
        "raw_df = pd.concat([ang_df, anx_df, bip_df, dep_df, eat_df, pan_df])\n",
        "print(raw_df)"
      ],
      "metadata": {
        "colab": {
          "base_uri": "https://localhost:8080/"
        },
        "id": "eGrb07ifPYeZ",
        "outputId": "0222dea4-814e-489a-d4ff-581e15ef7abf"
      },
      "execution_count": 14,
      "outputs": [
        {
          "output_type": "stream",
          "name": "stdout",
          "text": [
            "                                                  Title  \\\n",
            "0     Your anger may be caused by a magnesium defici...   \n",
            "1     Do you ever get so angry that you wish to kill...   \n",
            "2     The thing is that when your emotional distress...   \n",
            "3     Does anyone else just avoid people because you...   \n",
            "4     Was anyone else “not allowed” to get upset gro...   \n",
            "...                                                 ...   \n",
            "1994                                 Looking for advice   \n",
            "1995                        New panic attack experience   \n",
            "1996  I’m having pretty bad suicidal thoughts, think...   \n",
            "1997      Anxiety symptoms replicating low blood sugar?   \n",
            "1998  I've had a couple of panic attacks because of ...   \n",
            "\n",
            "                                                   Text  Score  Topic  \n",
            "0     I tried absolutely everything to fix my chroni...    743  anger  \n",
            "1     I don't know if it's my anger issues talking o...    692  anger  \n",
            "2                                                          495  anger  \n",
            "3     Lately I’ve been noticing that I take the extr...    489  anger  \n",
            "4     I was always scolded for being upset, even at ...    414  anger  \n",
            "...                                                 ...    ...    ...  \n",
            "1994  Hi, I’m 28F. I’ve been professionally diagnose...     10  panic  \n",
            "1995  Hi guys, I just wanted to see if anyone has ex...     12  panic  \n",
            "1996  The second half of last year, and this month h...     13  panic  \n",
            "1997  This is scaring me insane honestly. Has anyone...     11  panic  \n",
            "1998                                                        11  panic  \n",
            "\n",
            "[12951 rows x 4 columns]\n"
          ]
        }
      ]
    },
    {
      "cell_type": "code",
      "source": [
        "raw_df.to_csv('DSC 288 Raw Reddit Dataset.csv', index=False)"
      ],
      "metadata": {
        "id": "_Dib4k72Pyhp"
      },
      "execution_count": 15,
      "outputs": []
    },
    {
      "cell_type": "code",
      "source": [],
      "metadata": {
        "id": "wIcvfX7OQpin"
      },
      "execution_count": 15,
      "outputs": []
    }
  ]
}