{
  "nbformat": 4,
  "nbformat_minor": 0,
  "metadata": {
    "colab": {
      "provenance": [],
      "collapsed_sections": [
        "pzwdyP2mJq3x",
        "2cyiYKudeyI2"
      ]
    },
    "kernelspec": {
      "name": "python3",
      "display_name": "Python 3"
    },
    "language_info": {
      "name": "python"
    }
  },
  "cells": [
    {
      "cell_type": "markdown",
      "source": [
        "#Welcome to our Mental Health Resource Matcher!"
      ],
      "metadata": {
        "id": "fVabF8MSGbbg"
      }
    },
    {
      "cell_type": "markdown",
      "source": [
        "**Make sure you have downloaded and uploaded our \"DSC 288 Processed Reddit Dataset.csv\" from our GitHub Page**"
      ],
      "metadata": {
        "id": "9KljkRYBN1Xj"
      }
    },
    {
      "cell_type": "code",
      "source": [
        "#https://github.com/ntd002/DSC-288-Capstone/blob/5e3ff3bd8f78acc2ade0a50a91f24321e2885be3/Milestone%204%3A%20Final%20Report/DSC%20288%20Processed%20Reddit%20Dataset.csv"
      ],
      "metadata": {
        "id": "Oc6-nCw2OMw5"
      },
      "execution_count": 1,
      "outputs": []
    },
    {
      "cell_type": "markdown",
      "source": [
        "In the code cell below, **type** your situation between the \"quotes.\" The more text the better for our model to analyze!"
      ],
      "metadata": {
        "id": "aXdiazocGtMk"
      }
    },
    {
      "cell_type": "code",
      "execution_count": 2,
      "metadata": {
        "id": "OeRavZKPGYD9"
      },
      "outputs": [],
      "source": [
        "question = \"\""
      ]
    },
    {
      "cell_type": "markdown",
      "source": [
        "Then at the top click \"**Runtime**\" and then \"**Run All**.\""
      ],
      "metadata": {
        "id": "fSpP06LhNtwZ"
      }
    },
    {
      "cell_type": "markdown",
      "source": [
        "#Behind the Scenes Processing"
      ],
      "metadata": {
        "id": "_XupQGBiIB_j"
      }
    },
    {
      "cell_type": "code",
      "source": [
        "#Test Questions taken from the top posts\n",
        "#This is mainly used for testing since our model might contain some of these posts\n",
        "anger = \"1 Your anger may be caused by a magnesium deficiency because your neurons literally can’t calm down without magnesium. 80% of people are magnesium deficient. I tried absolutely everything to fix my chronic anger. I meditated, prayed, listened to mr. Rogers for hours, read books on anger etc. nothing was working after years of trying. I started supplementing magnesium recently and haven’t even been so much as agitated with someone in weeks. I used to regularly scream and throw things over tiny issues until I lost the people I loved. Now it’s legitimately hard to imagine getting that upset at literally anything. You could shoot my dog and I feel like I would just tell you I’m disappointed lmao. Spending $10 on some magnesium literally changed my life.\"\n",
        "anxiety = \"2 1. Anxiety makes it hard to go to sleep 2. Depression makes it hard to get out of bed 3. Drink coffee for a boost 4. Caffeine makes anxiety worse 5. Repeat Just one of the hellish cycles that anxiety gets me caught in. Can anyone else relate?\"\n",
        "bipolar = \"3 How long did your longest depressive episode(s) last for? Bipolar 2 here. Been feeling pretty awful since early October now and it's getting pretty ridiculous at this point. Been skipping uni a lot, using all my energy on just surviving I guess, which sucks. In the past, my episodes have always passed a lot quicker so this is kinda new and weird to me. I thought it would be interesting to hear about the longest episodes others have had to maybe not feel as weird about the unfamiliar situation that I'm currently going through.\"\n",
        "depression = \"4 Shout out to the particular hell that is functional depression. This is me. Don’t get me wrong, it’s better than don’t-leave-my-bed-for-a-week depression. I am grateful I can be an independent person. But there is something uniquely horrible about being able to go to work every day, occasionally clean up after yourself, pay your bills, generally put yourself together enough to look like a human being... but that’s it. Nothing else. No social life. No hobbies. Constantly battling your mind. And being absolutely fucking exhausted all the time.\"\n",
        "eating_disorder = \"5 Does anyone else feel like eating disorders are similar to drug addictions? I feel like an addict with my ED -my Ana got really bad one summer and I’m much better now but I feel like it’s always there and every now and then it creeps back up. Just like addicts can get clean but it doesn’t mean they’re no longer addicts. Even if they’re not drinking or using, they’re still thinking about it obsessively and struggling with it. - I have relapses -I feel so much guilt because I know I’m hurting my body by not giving it what it needs. I have self love and want to nourish, heal, and strengthen my body. But it’s hard when the Ana is there holding me back. Just like addicts know what they’re doing hurts them and maybe they want to get better but its not that easy. -I feel like an outsider with it. Just like addicts say people on the outside don’t understand, I feel like people without ED’s don’t. It’s a whole other world.\"\n",
        "panic = \"6 A therapist gave me great advice too help with panic attacks today She said to fill a sink with cool/cold water and to put your head in it for 30 seconds. Apparently when your body is underwater, it adapts to survive and lowers your heart rate and slows your breathing. She also said if you have a bag of frozen peas you can cover your face with them for 30 seconds. She also said “ you’ve had better days before this and you’ll have better days after this.” I hope this helps someone or is another thing you can turn to when you get an attack\"\n",
        "all = \"anger anxiety bipolar depression eating panic\"\n",
        "#question = bipolar"
      ],
      "metadata": {
        "id": "fd-6fyQUOlby"
      },
      "execution_count": 3,
      "outputs": []
    },
    {
      "cell_type": "code",
      "source": [
        "import pandas as pd\n",
        "import numpy as np\n",
        "from sklearn.feature_extraction.text import TfidfVectorizer\n",
        "from sklearn.model_selection import train_test_split\n",
        "from sklearn.naive_bayes import MultinomialNB\n",
        "from sklearn.metrics import accuracy_score\n",
        "\n",
        "df = pd.read_csv('DSC 288 Processed Reddit Dataset.csv')"
      ],
      "metadata": {
        "id": "AY7gSN8dIGmL"
      },
      "execution_count": 4,
      "outputs": []
    },
    {
      "cell_type": "code",
      "source": [
        "import re\n",
        "import string\n",
        "from bs4 import BeautifulSoup\n",
        "\n",
        "!pip install nltk\n",
        "import nltk\n",
        "nltk.download('punkt_tab')\n",
        "from nltk.corpus import stopwords\n",
        "nltk.download('stopwords')\n",
        "from nltk.stem import PorterStemmer\n",
        "from nltk.stem import WordNetLemmatizer\n",
        "nltk.download('wordnet')\n",
        "\n",
        "import matplotlib.pyplot as plt"
      ],
      "metadata": {
        "colab": {
          "base_uri": "https://localhost:8080/"
        },
        "id": "wSz2EvBLNhtt",
        "outputId": "28bc76fd-6ee6-4bc2-b4d0-26a53c5875b1"
      },
      "execution_count": 5,
      "outputs": [
        {
          "output_type": "stream",
          "name": "stdout",
          "text": [
            "Requirement already satisfied: nltk in /usr/local/lib/python3.11/dist-packages (3.9.1)\n",
            "Requirement already satisfied: click in /usr/local/lib/python3.11/dist-packages (from nltk) (8.1.8)\n",
            "Requirement already satisfied: joblib in /usr/local/lib/python3.11/dist-packages (from nltk) (1.4.2)\n",
            "Requirement already satisfied: regex>=2021.8.3 in /usr/local/lib/python3.11/dist-packages (from nltk) (2024.11.6)\n",
            "Requirement already satisfied: tqdm in /usr/local/lib/python3.11/dist-packages (from nltk) (4.67.1)\n"
          ]
        },
        {
          "output_type": "stream",
          "name": "stderr",
          "text": [
            "[nltk_data] Downloading package punkt_tab to /root/nltk_data...\n",
            "[nltk_data]   Unzipping tokenizers/punkt_tab.zip.\n",
            "[nltk_data] Downloading package stopwords to /root/nltk_data...\n",
            "[nltk_data]   Unzipping corpora/stopwords.zip.\n",
            "[nltk_data] Downloading package wordnet to /root/nltk_data...\n"
          ]
        }
      ]
    },
    {
      "cell_type": "code",
      "source": [
        "#Lowercase\n",
        "question = question.lower()\n",
        "print(question)"
      ],
      "metadata": {
        "colab": {
          "base_uri": "https://localhost:8080/"
        },
        "id": "b4UTcX9SOYup",
        "outputId": "5ccd964b-1adf-40d0-bceb-fa6a24643523"
      },
      "execution_count": 6,
      "outputs": [
        {
          "output_type": "stream",
          "name": "stdout",
          "text": [
            "3 how long did your longest depressive episode(s) last for? bipolar 2 here. been feeling pretty awful since early october now and it's getting pretty ridiculous at this point. been skipping uni a lot, using all my energy on just surviving i guess, which sucks. in the past, my episodes have always passed a lot quicker so this is kinda new and weird to me. i thought it would be interesting to hear about the longest episodes others have had to maybe not feel as weird about the unfamiliar situation that i'm currently going through.\n"
          ]
        }
      ]
    },
    {
      "cell_type": "code",
      "source": [
        "#Remove punctuation\n",
        "question = question.translate(str.maketrans('', '', string.punctuation))\n",
        "print(question)"
      ],
      "metadata": {
        "colab": {
          "base_uri": "https://localhost:8080/"
        },
        "id": "FGxjj1QBRbGJ",
        "outputId": "cc879e03-9605-4f97-aa38-dc637e093846"
      },
      "execution_count": 7,
      "outputs": [
        {
          "output_type": "stream",
          "name": "stdout",
          "text": [
            "3 how long did your longest depressive episodes last for bipolar 2 here been feeling pretty awful since early october now and its getting pretty ridiculous at this point been skipping uni a lot using all my energy on just surviving i guess which sucks in the past my episodes have always passed a lot quicker so this is kinda new and weird to me i thought it would be interesting to hear about the longest episodes others have had to maybe not feel as weird about the unfamiliar situation that im currently going through\n"
          ]
        }
      ]
    },
    {
      "cell_type": "code",
      "source": [
        "#Remove emojis and special characters\n",
        "question = \"\".join(char for char in question if char.isalnum() or char.isspace())\n",
        "print(question)"
      ],
      "metadata": {
        "colab": {
          "base_uri": "https://localhost:8080/"
        },
        "id": "_hEapAP_R2JC",
        "outputId": "8ce5adff-6a0e-4161-df8a-7efe0468133f"
      },
      "execution_count": 8,
      "outputs": [
        {
          "output_type": "stream",
          "name": "stdout",
          "text": [
            "3 how long did your longest depressive episodes last for bipolar 2 here been feeling pretty awful since early october now and its getting pretty ridiculous at this point been skipping uni a lot using all my energy on just surviving i guess which sucks in the past my episodes have always passed a lot quicker so this is kinda new and weird to me i thought it would be interesting to hear about the longest episodes others have had to maybe not feel as weird about the unfamiliar situation that im currently going through\n"
          ]
        }
      ]
    },
    {
      "cell_type": "code",
      "source": [
        "#Remove numbers\n",
        "question = ''.join([i for i in question if not i.isdigit()])\n",
        "print(question)"
      ],
      "metadata": {
        "colab": {
          "base_uri": "https://localhost:8080/"
        },
        "id": "qH9csyFMS-Ef",
        "outputId": "d02a452f-cb49-4f8c-9fcc-cfa92394df7b"
      },
      "execution_count": 9,
      "outputs": [
        {
          "output_type": "stream",
          "name": "stdout",
          "text": [
            " how long did your longest depressive episodes last for bipolar  here been feeling pretty awful since early october now and its getting pretty ridiculous at this point been skipping uni a lot using all my energy on just surviving i guess which sucks in the past my episodes have always passed a lot quicker so this is kinda new and weird to me i thought it would be interesting to hear about the longest episodes others have had to maybe not feel as weird about the unfamiliar situation that im currently going through\n"
          ]
        }
      ]
    },
    {
      "cell_type": "code",
      "source": [
        "#Tokenize\n",
        "question = nltk.word_tokenize(question)\n",
        "print(question)"
      ],
      "metadata": {
        "colab": {
          "base_uri": "https://localhost:8080/"
        },
        "id": "YaHTc8fSUOxb",
        "outputId": "c5287cf5-e27d-46ae-c64f-288eee566b3b"
      },
      "execution_count": 10,
      "outputs": [
        {
          "output_type": "stream",
          "name": "stdout",
          "text": [
            "['how', 'long', 'did', 'your', 'longest', 'depressive', 'episodes', 'last', 'for', 'bipolar', 'here', 'been', 'feeling', 'pretty', 'awful', 'since', 'early', 'october', 'now', 'and', 'its', 'getting', 'pretty', 'ridiculous', 'at', 'this', 'point', 'been', 'skipping', 'uni', 'a', 'lot', 'using', 'all', 'my', 'energy', 'on', 'just', 'surviving', 'i', 'guess', 'which', 'sucks', 'in', 'the', 'past', 'my', 'episodes', 'have', 'always', 'passed', 'a', 'lot', 'quicker', 'so', 'this', 'is', 'kinda', 'new', 'and', 'weird', 'to', 'me', 'i', 'thought', 'it', 'would', 'be', 'interesting', 'to', 'hear', 'about', 'the', 'longest', 'episodes', 'others', 'have', 'had', 'to', 'maybe', 'not', 'feel', 'as', 'weird', 'about', 'the', 'unfamiliar', 'situation', 'that', 'im', 'currently', 'going', 'through']\n"
          ]
        }
      ]
    },
    {
      "cell_type": "code",
      "source": [
        "#Remove Stop Words\n",
        "stop_words = set(stopwords.words('english'))\n",
        "question = [word for word in question if word not in stop_words]\n",
        "print(question)"
      ],
      "metadata": {
        "colab": {
          "base_uri": "https://localhost:8080/"
        },
        "id": "dF_cxXbRUWar",
        "outputId": "968180ea-a427-41f6-ee06-6982d4abf869"
      },
      "execution_count": 11,
      "outputs": [
        {
          "output_type": "stream",
          "name": "stdout",
          "text": [
            "['long', 'longest', 'depressive', 'episodes', 'last', 'bipolar', 'feeling', 'pretty', 'awful', 'since', 'early', 'october', 'getting', 'pretty', 'ridiculous', 'point', 'skipping', 'uni', 'lot', 'using', 'energy', 'surviving', 'guess', 'sucks', 'past', 'episodes', 'always', 'passed', 'lot', 'quicker', 'kinda', 'new', 'weird', 'thought', 'would', 'interesting', 'hear', 'longest', 'episodes', 'others', 'maybe', 'feel', 'weird', 'unfamiliar', 'situation', 'im', 'currently', 'going']\n"
          ]
        }
      ]
    },
    {
      "cell_type": "code",
      "source": [
        "#Lemmatization\n",
        "lemmatizer = WordNetLemmatizer()\n",
        "question = [lemmatizer.lemmatize(word) for word in question]\n",
        "print(question)"
      ],
      "metadata": {
        "colab": {
          "base_uri": "https://localhost:8080/"
        },
        "id": "ZoeHDqNoUthi",
        "outputId": "58325b8c-4d73-4718-eab1-273fcc81ce6b"
      },
      "execution_count": 12,
      "outputs": [
        {
          "output_type": "stream",
          "name": "stdout",
          "text": [
            "['long', 'longest', 'depressive', 'episode', 'last', 'bipolar', 'feeling', 'pretty', 'awful', 'since', 'early', 'october', 'getting', 'pretty', 'ridiculous', 'point', 'skipping', 'uni', 'lot', 'using', 'energy', 'surviving', 'guess', 'suck', 'past', 'episode', 'always', 'passed', 'lot', 'quicker', 'kinda', 'new', 'weird', 'thought', 'would', 'interesting', 'hear', 'longest', 'episode', 'others', 'maybe', 'feel', 'weird', 'unfamiliar', 'situation', 'im', 'currently', 'going']\n"
          ]
        }
      ]
    },
    {
      "cell_type": "code",
      "source": [
        "#Convert back to string\n",
        "question = ' '.join(question)\n",
        "print(question)"
      ],
      "metadata": {
        "colab": {
          "base_uri": "https://localhost:8080/"
        },
        "id": "YD7Y7MG2VBpn",
        "outputId": "b0b45e86-45dd-4634-f5d2-3ef1a0c6d69b"
      },
      "execution_count": 13,
      "outputs": [
        {
          "output_type": "stream",
          "name": "stdout",
          "text": [
            "long longest depressive episode last bipolar feeling pretty awful since early october getting pretty ridiculous point skipping uni lot using energy surviving guess suck past episode always passed lot quicker kinda new weird thought would interesting hear longest episode others maybe feel weird unfamiliar situation im currently going\n"
          ]
        }
      ]
    },
    {
      "cell_type": "markdown",
      "source": [
        "#Behind the Scenes Predictions"
      ],
      "metadata": {
        "id": "pzwdyP2mJq3x"
      }
    },
    {
      "cell_type": "code",
      "source": [
        "#Opimized parameters from testing\n",
        "alp = 0.1\n",
        "fp = False"
      ],
      "metadata": {
        "id": "GHsaKu-hI7ro"
      },
      "execution_count": 14,
      "outputs": []
    },
    {
      "cell_type": "code",
      "source": [
        "vectorizer = TfidfVectorizer()\n",
        "X = vectorizer.fit_transform(df['T_T_pro'])\n",
        "y = df['Topic']\n",
        "q = vectorizer.transform([question])\n",
        "\n",
        "clf = MultinomialNB(alpha=alp, fit_prior=fp)\n",
        "clf.fit(X, y)"
      ],
      "metadata": {
        "colab": {
          "base_uri": "https://localhost:8080/",
          "height": 0
        },
        "id": "F7MUSvgcIaaP",
        "outputId": "08f7ab13-57f1-424f-9dbc-454a39496daf"
      },
      "execution_count": 15,
      "outputs": [
        {
          "output_type": "execute_result",
          "data": {
            "text/plain": [
              "MultinomialNB(alpha=0.1, fit_prior=False)"
            ],
            "text/html": [
              "<style>#sk-container-id-1 {\n",
              "  /* Definition of color scheme common for light and dark mode */\n",
              "  --sklearn-color-text: #000;\n",
              "  --sklearn-color-text-muted: #666;\n",
              "  --sklearn-color-line: gray;\n",
              "  /* Definition of color scheme for unfitted estimators */\n",
              "  --sklearn-color-unfitted-level-0: #fff5e6;\n",
              "  --sklearn-color-unfitted-level-1: #f6e4d2;\n",
              "  --sklearn-color-unfitted-level-2: #ffe0b3;\n",
              "  --sklearn-color-unfitted-level-3: chocolate;\n",
              "  /* Definition of color scheme for fitted estimators */\n",
              "  --sklearn-color-fitted-level-0: #f0f8ff;\n",
              "  --sklearn-color-fitted-level-1: #d4ebff;\n",
              "  --sklearn-color-fitted-level-2: #b3dbfd;\n",
              "  --sklearn-color-fitted-level-3: cornflowerblue;\n",
              "\n",
              "  /* Specific color for light theme */\n",
              "  --sklearn-color-text-on-default-background: var(--sg-text-color, var(--theme-code-foreground, var(--jp-content-font-color1, black)));\n",
              "  --sklearn-color-background: var(--sg-background-color, var(--theme-background, var(--jp-layout-color0, white)));\n",
              "  --sklearn-color-border-box: var(--sg-text-color, var(--theme-code-foreground, var(--jp-content-font-color1, black)));\n",
              "  --sklearn-color-icon: #696969;\n",
              "\n",
              "  @media (prefers-color-scheme: dark) {\n",
              "    /* Redefinition of color scheme for dark theme */\n",
              "    --sklearn-color-text-on-default-background: var(--sg-text-color, var(--theme-code-foreground, var(--jp-content-font-color1, white)));\n",
              "    --sklearn-color-background: var(--sg-background-color, var(--theme-background, var(--jp-layout-color0, #111)));\n",
              "    --sklearn-color-border-box: var(--sg-text-color, var(--theme-code-foreground, var(--jp-content-font-color1, white)));\n",
              "    --sklearn-color-icon: #878787;\n",
              "  }\n",
              "}\n",
              "\n",
              "#sk-container-id-1 {\n",
              "  color: var(--sklearn-color-text);\n",
              "}\n",
              "\n",
              "#sk-container-id-1 pre {\n",
              "  padding: 0;\n",
              "}\n",
              "\n",
              "#sk-container-id-1 input.sk-hidden--visually {\n",
              "  border: 0;\n",
              "  clip: rect(1px 1px 1px 1px);\n",
              "  clip: rect(1px, 1px, 1px, 1px);\n",
              "  height: 1px;\n",
              "  margin: -1px;\n",
              "  overflow: hidden;\n",
              "  padding: 0;\n",
              "  position: absolute;\n",
              "  width: 1px;\n",
              "}\n",
              "\n",
              "#sk-container-id-1 div.sk-dashed-wrapped {\n",
              "  border: 1px dashed var(--sklearn-color-line);\n",
              "  margin: 0 0.4em 0.5em 0.4em;\n",
              "  box-sizing: border-box;\n",
              "  padding-bottom: 0.4em;\n",
              "  background-color: var(--sklearn-color-background);\n",
              "}\n",
              "\n",
              "#sk-container-id-1 div.sk-container {\n",
              "  /* jupyter's `normalize.less` sets `[hidden] { display: none; }`\n",
              "     but bootstrap.min.css set `[hidden] { display: none !important; }`\n",
              "     so we also need the `!important` here to be able to override the\n",
              "     default hidden behavior on the sphinx rendered scikit-learn.org.\n",
              "     See: https://github.com/scikit-learn/scikit-learn/issues/21755 */\n",
              "  display: inline-block !important;\n",
              "  position: relative;\n",
              "}\n",
              "\n",
              "#sk-container-id-1 div.sk-text-repr-fallback {\n",
              "  display: none;\n",
              "}\n",
              "\n",
              "div.sk-parallel-item,\n",
              "div.sk-serial,\n",
              "div.sk-item {\n",
              "  /* draw centered vertical line to link estimators */\n",
              "  background-image: linear-gradient(var(--sklearn-color-text-on-default-background), var(--sklearn-color-text-on-default-background));\n",
              "  background-size: 2px 100%;\n",
              "  background-repeat: no-repeat;\n",
              "  background-position: center center;\n",
              "}\n",
              "\n",
              "/* Parallel-specific style estimator block */\n",
              "\n",
              "#sk-container-id-1 div.sk-parallel-item::after {\n",
              "  content: \"\";\n",
              "  width: 100%;\n",
              "  border-bottom: 2px solid var(--sklearn-color-text-on-default-background);\n",
              "  flex-grow: 1;\n",
              "}\n",
              "\n",
              "#sk-container-id-1 div.sk-parallel {\n",
              "  display: flex;\n",
              "  align-items: stretch;\n",
              "  justify-content: center;\n",
              "  background-color: var(--sklearn-color-background);\n",
              "  position: relative;\n",
              "}\n",
              "\n",
              "#sk-container-id-1 div.sk-parallel-item {\n",
              "  display: flex;\n",
              "  flex-direction: column;\n",
              "}\n",
              "\n",
              "#sk-container-id-1 div.sk-parallel-item:first-child::after {\n",
              "  align-self: flex-end;\n",
              "  width: 50%;\n",
              "}\n",
              "\n",
              "#sk-container-id-1 div.sk-parallel-item:last-child::after {\n",
              "  align-self: flex-start;\n",
              "  width: 50%;\n",
              "}\n",
              "\n",
              "#sk-container-id-1 div.sk-parallel-item:only-child::after {\n",
              "  width: 0;\n",
              "}\n",
              "\n",
              "/* Serial-specific style estimator block */\n",
              "\n",
              "#sk-container-id-1 div.sk-serial {\n",
              "  display: flex;\n",
              "  flex-direction: column;\n",
              "  align-items: center;\n",
              "  background-color: var(--sklearn-color-background);\n",
              "  padding-right: 1em;\n",
              "  padding-left: 1em;\n",
              "}\n",
              "\n",
              "\n",
              "/* Toggleable style: style used for estimator/Pipeline/ColumnTransformer box that is\n",
              "clickable and can be expanded/collapsed.\n",
              "- Pipeline and ColumnTransformer use this feature and define the default style\n",
              "- Estimators will overwrite some part of the style using the `sk-estimator` class\n",
              "*/\n",
              "\n",
              "/* Pipeline and ColumnTransformer style (default) */\n",
              "\n",
              "#sk-container-id-1 div.sk-toggleable {\n",
              "  /* Default theme specific background. It is overwritten whether we have a\n",
              "  specific estimator or a Pipeline/ColumnTransformer */\n",
              "  background-color: var(--sklearn-color-background);\n",
              "}\n",
              "\n",
              "/* Toggleable label */\n",
              "#sk-container-id-1 label.sk-toggleable__label {\n",
              "  cursor: pointer;\n",
              "  display: flex;\n",
              "  width: 100%;\n",
              "  margin-bottom: 0;\n",
              "  padding: 0.5em;\n",
              "  box-sizing: border-box;\n",
              "  text-align: center;\n",
              "  align-items: start;\n",
              "  justify-content: space-between;\n",
              "  gap: 0.5em;\n",
              "}\n",
              "\n",
              "#sk-container-id-1 label.sk-toggleable__label .caption {\n",
              "  font-size: 0.6rem;\n",
              "  font-weight: lighter;\n",
              "  color: var(--sklearn-color-text-muted);\n",
              "}\n",
              "\n",
              "#sk-container-id-1 label.sk-toggleable__label-arrow:before {\n",
              "  /* Arrow on the left of the label */\n",
              "  content: \"▸\";\n",
              "  float: left;\n",
              "  margin-right: 0.25em;\n",
              "  color: var(--sklearn-color-icon);\n",
              "}\n",
              "\n",
              "#sk-container-id-1 label.sk-toggleable__label-arrow:hover:before {\n",
              "  color: var(--sklearn-color-text);\n",
              "}\n",
              "\n",
              "/* Toggleable content - dropdown */\n",
              "\n",
              "#sk-container-id-1 div.sk-toggleable__content {\n",
              "  max-height: 0;\n",
              "  max-width: 0;\n",
              "  overflow: hidden;\n",
              "  text-align: left;\n",
              "  /* unfitted */\n",
              "  background-color: var(--sklearn-color-unfitted-level-0);\n",
              "}\n",
              "\n",
              "#sk-container-id-1 div.sk-toggleable__content.fitted {\n",
              "  /* fitted */\n",
              "  background-color: var(--sklearn-color-fitted-level-0);\n",
              "}\n",
              "\n",
              "#sk-container-id-1 div.sk-toggleable__content pre {\n",
              "  margin: 0.2em;\n",
              "  border-radius: 0.25em;\n",
              "  color: var(--sklearn-color-text);\n",
              "  /* unfitted */\n",
              "  background-color: var(--sklearn-color-unfitted-level-0);\n",
              "}\n",
              "\n",
              "#sk-container-id-1 div.sk-toggleable__content.fitted pre {\n",
              "  /* unfitted */\n",
              "  background-color: var(--sklearn-color-fitted-level-0);\n",
              "}\n",
              "\n",
              "#sk-container-id-1 input.sk-toggleable__control:checked~div.sk-toggleable__content {\n",
              "  /* Expand drop-down */\n",
              "  max-height: 200px;\n",
              "  max-width: 100%;\n",
              "  overflow: auto;\n",
              "}\n",
              "\n",
              "#sk-container-id-1 input.sk-toggleable__control:checked~label.sk-toggleable__label-arrow:before {\n",
              "  content: \"▾\";\n",
              "}\n",
              "\n",
              "/* Pipeline/ColumnTransformer-specific style */\n",
              "\n",
              "#sk-container-id-1 div.sk-label input.sk-toggleable__control:checked~label.sk-toggleable__label {\n",
              "  color: var(--sklearn-color-text);\n",
              "  background-color: var(--sklearn-color-unfitted-level-2);\n",
              "}\n",
              "\n",
              "#sk-container-id-1 div.sk-label.fitted input.sk-toggleable__control:checked~label.sk-toggleable__label {\n",
              "  background-color: var(--sklearn-color-fitted-level-2);\n",
              "}\n",
              "\n",
              "/* Estimator-specific style */\n",
              "\n",
              "/* Colorize estimator box */\n",
              "#sk-container-id-1 div.sk-estimator input.sk-toggleable__control:checked~label.sk-toggleable__label {\n",
              "  /* unfitted */\n",
              "  background-color: var(--sklearn-color-unfitted-level-2);\n",
              "}\n",
              "\n",
              "#sk-container-id-1 div.sk-estimator.fitted input.sk-toggleable__control:checked~label.sk-toggleable__label {\n",
              "  /* fitted */\n",
              "  background-color: var(--sklearn-color-fitted-level-2);\n",
              "}\n",
              "\n",
              "#sk-container-id-1 div.sk-label label.sk-toggleable__label,\n",
              "#sk-container-id-1 div.sk-label label {\n",
              "  /* The background is the default theme color */\n",
              "  color: var(--sklearn-color-text-on-default-background);\n",
              "}\n",
              "\n",
              "/* On hover, darken the color of the background */\n",
              "#sk-container-id-1 div.sk-label:hover label.sk-toggleable__label {\n",
              "  color: var(--sklearn-color-text);\n",
              "  background-color: var(--sklearn-color-unfitted-level-2);\n",
              "}\n",
              "\n",
              "/* Label box, darken color on hover, fitted */\n",
              "#sk-container-id-1 div.sk-label.fitted:hover label.sk-toggleable__label.fitted {\n",
              "  color: var(--sklearn-color-text);\n",
              "  background-color: var(--sklearn-color-fitted-level-2);\n",
              "}\n",
              "\n",
              "/* Estimator label */\n",
              "\n",
              "#sk-container-id-1 div.sk-label label {\n",
              "  font-family: monospace;\n",
              "  font-weight: bold;\n",
              "  display: inline-block;\n",
              "  line-height: 1.2em;\n",
              "}\n",
              "\n",
              "#sk-container-id-1 div.sk-label-container {\n",
              "  text-align: center;\n",
              "}\n",
              "\n",
              "/* Estimator-specific */\n",
              "#sk-container-id-1 div.sk-estimator {\n",
              "  font-family: monospace;\n",
              "  border: 1px dotted var(--sklearn-color-border-box);\n",
              "  border-radius: 0.25em;\n",
              "  box-sizing: border-box;\n",
              "  margin-bottom: 0.5em;\n",
              "  /* unfitted */\n",
              "  background-color: var(--sklearn-color-unfitted-level-0);\n",
              "}\n",
              "\n",
              "#sk-container-id-1 div.sk-estimator.fitted {\n",
              "  /* fitted */\n",
              "  background-color: var(--sklearn-color-fitted-level-0);\n",
              "}\n",
              "\n",
              "/* on hover */\n",
              "#sk-container-id-1 div.sk-estimator:hover {\n",
              "  /* unfitted */\n",
              "  background-color: var(--sklearn-color-unfitted-level-2);\n",
              "}\n",
              "\n",
              "#sk-container-id-1 div.sk-estimator.fitted:hover {\n",
              "  /* fitted */\n",
              "  background-color: var(--sklearn-color-fitted-level-2);\n",
              "}\n",
              "\n",
              "/* Specification for estimator info (e.g. \"i\" and \"?\") */\n",
              "\n",
              "/* Common style for \"i\" and \"?\" */\n",
              "\n",
              ".sk-estimator-doc-link,\n",
              "a:link.sk-estimator-doc-link,\n",
              "a:visited.sk-estimator-doc-link {\n",
              "  float: right;\n",
              "  font-size: smaller;\n",
              "  line-height: 1em;\n",
              "  font-family: monospace;\n",
              "  background-color: var(--sklearn-color-background);\n",
              "  border-radius: 1em;\n",
              "  height: 1em;\n",
              "  width: 1em;\n",
              "  text-decoration: none !important;\n",
              "  margin-left: 0.5em;\n",
              "  text-align: center;\n",
              "  /* unfitted */\n",
              "  border: var(--sklearn-color-unfitted-level-1) 1pt solid;\n",
              "  color: var(--sklearn-color-unfitted-level-1);\n",
              "}\n",
              "\n",
              ".sk-estimator-doc-link.fitted,\n",
              "a:link.sk-estimator-doc-link.fitted,\n",
              "a:visited.sk-estimator-doc-link.fitted {\n",
              "  /* fitted */\n",
              "  border: var(--sklearn-color-fitted-level-1) 1pt solid;\n",
              "  color: var(--sklearn-color-fitted-level-1);\n",
              "}\n",
              "\n",
              "/* On hover */\n",
              "div.sk-estimator:hover .sk-estimator-doc-link:hover,\n",
              ".sk-estimator-doc-link:hover,\n",
              "div.sk-label-container:hover .sk-estimator-doc-link:hover,\n",
              ".sk-estimator-doc-link:hover {\n",
              "  /* unfitted */\n",
              "  background-color: var(--sklearn-color-unfitted-level-3);\n",
              "  color: var(--sklearn-color-background);\n",
              "  text-decoration: none;\n",
              "}\n",
              "\n",
              "div.sk-estimator.fitted:hover .sk-estimator-doc-link.fitted:hover,\n",
              ".sk-estimator-doc-link.fitted:hover,\n",
              "div.sk-label-container:hover .sk-estimator-doc-link.fitted:hover,\n",
              ".sk-estimator-doc-link.fitted:hover {\n",
              "  /* fitted */\n",
              "  background-color: var(--sklearn-color-fitted-level-3);\n",
              "  color: var(--sklearn-color-background);\n",
              "  text-decoration: none;\n",
              "}\n",
              "\n",
              "/* Span, style for the box shown on hovering the info icon */\n",
              ".sk-estimator-doc-link span {\n",
              "  display: none;\n",
              "  z-index: 9999;\n",
              "  position: relative;\n",
              "  font-weight: normal;\n",
              "  right: .2ex;\n",
              "  padding: .5ex;\n",
              "  margin: .5ex;\n",
              "  width: min-content;\n",
              "  min-width: 20ex;\n",
              "  max-width: 50ex;\n",
              "  color: var(--sklearn-color-text);\n",
              "  box-shadow: 2pt 2pt 4pt #999;\n",
              "  /* unfitted */\n",
              "  background: var(--sklearn-color-unfitted-level-0);\n",
              "  border: .5pt solid var(--sklearn-color-unfitted-level-3);\n",
              "}\n",
              "\n",
              ".sk-estimator-doc-link.fitted span {\n",
              "  /* fitted */\n",
              "  background: var(--sklearn-color-fitted-level-0);\n",
              "  border: var(--sklearn-color-fitted-level-3);\n",
              "}\n",
              "\n",
              ".sk-estimator-doc-link:hover span {\n",
              "  display: block;\n",
              "}\n",
              "\n",
              "/* \"?\"-specific style due to the `<a>` HTML tag */\n",
              "\n",
              "#sk-container-id-1 a.estimator_doc_link {\n",
              "  float: right;\n",
              "  font-size: 1rem;\n",
              "  line-height: 1em;\n",
              "  font-family: monospace;\n",
              "  background-color: var(--sklearn-color-background);\n",
              "  border-radius: 1rem;\n",
              "  height: 1rem;\n",
              "  width: 1rem;\n",
              "  text-decoration: none;\n",
              "  /* unfitted */\n",
              "  color: var(--sklearn-color-unfitted-level-1);\n",
              "  border: var(--sklearn-color-unfitted-level-1) 1pt solid;\n",
              "}\n",
              "\n",
              "#sk-container-id-1 a.estimator_doc_link.fitted {\n",
              "  /* fitted */\n",
              "  border: var(--sklearn-color-fitted-level-1) 1pt solid;\n",
              "  color: var(--sklearn-color-fitted-level-1);\n",
              "}\n",
              "\n",
              "/* On hover */\n",
              "#sk-container-id-1 a.estimator_doc_link:hover {\n",
              "  /* unfitted */\n",
              "  background-color: var(--sklearn-color-unfitted-level-3);\n",
              "  color: var(--sklearn-color-background);\n",
              "  text-decoration: none;\n",
              "}\n",
              "\n",
              "#sk-container-id-1 a.estimator_doc_link.fitted:hover {\n",
              "  /* fitted */\n",
              "  background-color: var(--sklearn-color-fitted-level-3);\n",
              "}\n",
              "</style><div id=\"sk-container-id-1\" class=\"sk-top-container\"><div class=\"sk-text-repr-fallback\"><pre>MultinomialNB(alpha=0.1, fit_prior=False)</pre><b>In a Jupyter environment, please rerun this cell to show the HTML representation or trust the notebook. <br />On GitHub, the HTML representation is unable to render, please try loading this page with nbviewer.org.</b></div><div class=\"sk-container\" hidden><div class=\"sk-item\"><div class=\"sk-estimator fitted sk-toggleable\"><input class=\"sk-toggleable__control sk-hidden--visually\" id=\"sk-estimator-id-1\" type=\"checkbox\" checked><label for=\"sk-estimator-id-1\" class=\"sk-toggleable__label fitted sk-toggleable__label-arrow\"><div><div>MultinomialNB</div></div><div><a class=\"sk-estimator-doc-link fitted\" rel=\"noreferrer\" target=\"_blank\" href=\"https://scikit-learn.org/1.6/modules/generated/sklearn.naive_bayes.MultinomialNB.html\">?<span>Documentation for MultinomialNB</span></a><span class=\"sk-estimator-doc-link fitted\">i<span>Fitted</span></span></div></label><div class=\"sk-toggleable__content fitted\"><pre>MultinomialNB(alpha=0.1, fit_prior=False)</pre></div> </div></div></div></div>"
            ]
          },
          "metadata": {},
          "execution_count": 15
        }
      ]
    },
    {
      "cell_type": "markdown",
      "source": [
        "#Behind the Scenes Analytics"
      ],
      "metadata": {
        "id": "2cyiYKudeyI2"
      }
    },
    {
      "cell_type": "code",
      "source": [
        "pred = clf.predict(q)\n",
        "prob = clf.predict_proba(q)\n",
        "con = prob[0][np.argmax(prob[0])]\n",
        "classes = clf.classes_\n",
        "\n",
        "pred_dict = dict(zip(classes, prob[0]))\n",
        "sorted_dict = dict(reversed(sorted(pred_dict.items(), key=lambda item: item[1])))\n",
        "\n",
        "print(\"Prediction:\", pred)\n",
        "print(\"Confidence score for the predicted label:\", con)\n",
        "print(\"Individual Probabilities:\")\n",
        "for key, value in sorted_dict.items():\n",
        "  print(\"\\t\", key,\":\", value)"
      ],
      "metadata": {
        "colab": {
          "base_uri": "https://localhost:8080/"
        },
        "id": "5MNJg_gTKde0",
        "outputId": "39c2f042-02f9-481e-c50e-e03772810b64"
      },
      "execution_count": 16,
      "outputs": [
        {
          "output_type": "stream",
          "name": "stdout",
          "text": [
            "Prediction: ['bipolar']\n",
            "Confidence score for the predicted label: 0.5635995735755573\n",
            "Individual Probabilities:\n",
            "\t bipolar : 0.5635995735755573\n",
            "\t panic : 0.20351274785427537\n",
            "\t depression : 0.1443348806288265\n",
            "\t eating disorder : 0.03707955869888689\n",
            "\t anxiety : 0.03218037222962563\n",
            "\t anger : 0.01929286701282673\n"
          ]
        }
      ]
    },
    {
      "cell_type": "code",
      "source": [
        "#15% threshold chosen because there are 6 topics and 1/6 is 0.166\n",
        "threshold = 0.15\n",
        "keys = list(sorted_dict.keys())\n",
        "values = list(sorted_dict.values())\n",
        "percent_values = [f'{i*100:.2f}%' for i in values]\n",
        "\n",
        "if values[0] >= threshold*2:\n",
        "  initial = \"Your questions seems to be related to: \" + keys[0]\n",
        "  initial_prob = \"with an \"+percent_values[0]+\" likelihood.\"\n",
        "else:\n",
        "  initial = \"Your questions do not seem to have a strong, specific topic but could be: \" + keys[0]\n",
        "  initial_prob = \"with an \"+percent_values[0]+\" likelihood.\"\n",
        "\n",
        "if values[1] >= threshold:\n",
        "  second = \"It may also be related to: \" + keys[1]\n",
        "  for i in range(2, 6):\n",
        "    if values[i] >= threshold:\n",
        "      second += \", \" + keys[i]\n",
        "else:\n",
        "  second = \"The other topics seem too low or not enough text is given.\""
      ],
      "metadata": {
        "id": "fVkRkZUwbKqd"
      },
      "execution_count": 17,
      "outputs": []
    },
    {
      "cell_type": "code",
      "source": [
        "resources = {\n",
        "    'anger':[\"https://www.apa.org/topics/anger/control\", \"https://www.wellnesseveryday.org/wellness-toolbox/managing-anger\"],\n",
        "    'anxiety':[\"https://www.mayoclinichealthsystem.org/hometown-health/speaking-of-health/11-tips-for-coping-with-an-anxiety-disorder\", \"https://www.mind.org.uk/information-support/types-of-mental-health-problems/anxiety-and-panic-attacks/self-care/\"],\n",
        "    'bipolar':[\"https://my.clevelandclinic.org/health/diseases/9294-bipolar-disorder\", \"https://www.michiganmedicine.org/health-lab/living-well-bipolar-disorder\"],\n",
        "    'depression':[\"https://www.mayoclinic.org/diseases-conditions/depression/symptoms-causes/syc-20356007\", \"https://www.nhs.uk/mental-health/self-help/tips-and-support/cope-with-depression/\"],\n",
        "    'eating disorder':[\"https://www.mayoclinic.org/diseases-conditions/eating-disorders/in-depth/eating-disorder-treatment/art-20046234\", \"https://lluh.org/behavioral-health/our-services/eating-disorder-programs\"],\n",
        "    'panic':['https://www.mayoclinic.org/diseases-conditions/panic-attacks/diagnosis-treatment/drc-20376027', \"https://www.health.harvard.edu/mind-and-mood/panic-attacks-recognizing-and-managing-panic-attacks-and-preventing-future-attacks\"]\n",
        "    }\n",
        "third = \"Here are some resources that might help you:\"\n",
        "third_res = \"\"\n",
        "for i in range(0,6):\n",
        "  if values[i] >= threshold:\n",
        "    third_res += \"\\n\"+\"\\n\".join(resources[keys[i]])\n",
        "#third_res = \"\\n\".join(resources[keys[0]])\n",
        "#if values[1] >= threshold:\n",
        "  #third_res = third_res +\"\\n\"+ \"\\n\".join(resources[keys[1]])"
      ],
      "metadata": {
        "id": "rHoBq3NpdXtB"
      },
      "execution_count": 18,
      "outputs": []
    },
    {
      "cell_type": "code",
      "source": [
        "pieValues = []\n",
        "for x in values:\n",
        "  val = round(x * 100,2)\n",
        "  pieValues.append(val)"
      ],
      "metadata": {
        "id": "qIWZP2G0e9mO"
      },
      "execution_count": 19,
      "outputs": []
    },
    {
      "cell_type": "markdown",
      "source": [
        "#Results"
      ],
      "metadata": {
        "id": "fh5LSxTiZLpY"
      }
    },
    {
      "cell_type": "code",
      "source": [
        "print(initial+\"\\n\"+initial_prob+\"\\n\"+\"\\n\"+second+\"\\n\")\n",
        "plt.figure(figsize=(15, 7))\n",
        "plt.pie(pieValues, labels=keys, autopct='%1.1f%%')\n",
        "plt.title(\"Topic Analysis Percentage Breakdown\")\n",
        "plt.show()\n",
        "print(\"\\n\"+third+third_res)"
      ],
      "metadata": {
        "colab": {
          "base_uri": "https://localhost:8080/",
          "height": 789
        },
        "id": "Swb5q7AmWqiS",
        "outputId": "f8fe69a9-e0f5-4b40-e4a9-c83b1a7b9fc3"
      },
      "execution_count": 20,
      "outputs": [
        {
          "output_type": "stream",
          "name": "stdout",
          "text": [
            "Your questions seems to be related to: bipolar\n",
            "with an 56.36% likelihood.\n",
            "\n",
            "It may also be related to: panic\n",
            "\n"
          ]
        },
        {
          "output_type": "display_data",
          "data": {
            "text/plain": [
              "<Figure size 1500x700 with 1 Axes>"
            ],
            "image/png": "[encoded data removed]"
          },
          "metadata": {}
        },
        {
          "output_type": "stream",
          "name": "stdout",
          "text": [
            "\n",
            "Here are some resources that might help you:\n",
            "https://my.clevelandclinic.org/health/diseases/9294-bipolar-disorder\n",
            "https://www.michiganmedicine.org/health-lab/living-well-bipolar-disorder\n",
            "https://www.mayoclinic.org/diseases-conditions/panic-attacks/diagnosis-treatment/drc-20376027\n",
            "https://www.health.harvard.edu/mind-and-mood/panic-attacks-recognizing-and-managing-panic-attacks-and-preventing-future-attacks\n"
          ]
        }
      ]
    },
    {
      "cell_type": "code",
      "source": [],
      "metadata": {
        "id": "9M4eMgmhbISP"
      },
      "execution_count": 20,
      "outputs": []
    }
  ]
}
