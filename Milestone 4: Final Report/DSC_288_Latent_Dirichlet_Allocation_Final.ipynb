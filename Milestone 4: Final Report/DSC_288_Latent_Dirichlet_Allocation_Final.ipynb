{
  "nbformat": 4,
  "nbformat_minor": 0,
  "metadata": {
    "colab": {
      "provenance": []
    },
    "kernelspec": {
      "name": "python3",
      "display_name": "Python 3"
    },
    "language_info": {
      "name": "python"
    }
  },
  "cells": [
    {
      "cell_type": "markdown",
      "source": [
        "# Import CSV"
      ],
      "metadata": {
        "id": "3QHy6zoBnib5"
      }
    },
    {
      "cell_type": "code",
      "execution_count": 39,
      "metadata": {
        "colab": {
          "base_uri": "https://localhost:8080/"
        },
        "id": "ZJzu9ZzqmxyK",
        "outputId": "4940f23d-dbe6-4bc1-f971-0da6a97aab23"
      },
      "outputs": [
        {
          "output_type": "stream",
          "name": "stdout",
          "text": [
            "                                                  Title  \\\n",
            "0     Your anger may be caused by a magnesium defici...   \n",
            "1     Do you ever get so angry that you wish to kill...   \n",
            "2     Does anyone else just avoid people because you...   \n",
            "3     Was anyone else “not allowed” to get upset gro...   \n",
            "4     I wish people understood that outbursts don't ...   \n",
            "...                                                 ...   \n",
            "9073  Fastest way I’ve found to get a panic attack u...   \n",
            "9074                                 Looking for advice   \n",
            "9075                        New panic attack experience   \n",
            "9076  I’m having pretty bad suicidal thoughts, think...   \n",
            "9077      Anxiety symptoms replicating low blood sugar?   \n",
            "\n",
            "                                                   Text  Score  Topic  \\\n",
            "0     I tried absolutely everything to fix my chroni...    743  anger   \n",
            "1     I don't know if it's my anger issues talking o...    692  anger   \n",
            "2     Lately I’ve been noticing that I take the extr...    489  anger   \n",
            "3     I was always scolded for being upset, even at ...    414  anger   \n",
            "4     The fact that people think you are being ridic...    378  anger   \n",
            "...                                                 ...    ...    ...   \n",
            "9073  Using ice cubes or taking a shower and putting...     11  panic   \n",
            "9074  Hi, I’m 28F. I’ve been professionally diagnose...     10  panic   \n",
            "9075  Hi guys, I just wanted to see if anyone has ex...     12  panic   \n",
            "9076  The second half of last year, and this month h...     13  panic   \n",
            "9077  This is scaring me insane honestly. Has anyone...     11  panic   \n",
            "\n",
            "                                              Title_pro  \\\n",
            "0     anger may caused magnesium deficiency neuron l...   \n",
            "1                       ever get angry wish kill moment   \n",
            "2       anyone else avoid people know theyll make angry   \n",
            "3                 anyone else allowed get upset growing   \n",
            "4     wish people understood outburst dont happen sm...   \n",
            "...                                                 ...   \n",
            "9073     fastest way ive found get panic attack control   \n",
            "9074                                     looking advice   \n",
            "9075                        new panic attack experience   \n",
            "9076  im pretty bad suicidal thought thinking cant h...   \n",
            "9077        anxiety symptom replicating low blood sugar   \n",
            "\n",
            "                                               Text_pro  \\\n",
            "0     tried absolutely everything fix chronic anger ...   \n",
            "1     dont know anger issue talking depressioni dont...   \n",
            "2     lately ive noticing take extra step avoid peop...   \n",
            "3     always scolded upset even minor thing kid allo...   \n",
            "4     fact people think ridiculous really mad small ...   \n",
            "...                                                 ...   \n",
            "9073  using ice cube taking shower putting cold wate...   \n",
            "9074  hi im f ive professionally diagnosed panic dis...   \n",
            "9075  hi guy wanted see anyone experienced beforeive...   \n",
            "9076  second half last year month worst ive panic at...   \n",
            "9077  scaring insane honestly anyone else dealt star...   \n",
            "\n",
            "                                                T_T_pro  \n",
            "0     anger may caused magnesium deficiency neuron l...  \n",
            "1     ever get angry wish kill moment dont know ange...  \n",
            "2     anyone else avoid people know theyll make angr...  \n",
            "3     anyone else allowed get upset growing always s...  \n",
            "4     wish people understood outburst dont happen sm...  \n",
            "...                                                 ...  \n",
            "9073  fastest way ive found get panic attack control...  \n",
            "9074  looking advice hi im f ive professionally diag...  \n",
            "9075  new panic attack experience hi guy wanted see ...  \n",
            "9076  im pretty bad suicidal thought thinking cant h...  \n",
            "9077  anxiety symptom replicating low blood sugar sc...  \n",
            "\n",
            "[9078 rows x 7 columns]\n"
          ]
        }
      ],
      "source": [
        "import pandas as pd\n",
        "df = pd.read_csv('DSC 288 Processed Reddit Dataset.csv')\n",
        "print(df)"
      ]
    },
    {
      "cell_type": "code",
      "source": [
        "#Retokenize\n",
        "import nltk\n",
        "nltk.download('punkt_tab')\n",
        "\n",
        "lda1_df = df.copy()\n",
        "\n",
        "lda1_df['Title_pro'] = lda1_df.apply(lambda row: nltk.word_tokenize(row['Title_pro']), axis=1)\n",
        "lda1_df['Text_pro'] = lda1_df.apply(lambda row: nltk.word_tokenize(row['Text_pro']), axis=1)\n",
        "lda1_df['T_T_pro'] = lda1_df.apply(lambda row: nltk.word_tokenize(row['T_T_pro']), axis=1)"
      ],
      "metadata": {
        "colab": {
          "base_uri": "https://localhost:8080/"
        },
        "id": "5KSBuK9WzJVc",
        "outputId": "f8e618fa-5be9-4f62-8804-e0c9eddc2a1f"
      },
      "execution_count": 40,
      "outputs": [
        {
          "output_type": "stream",
          "name": "stderr",
          "text": [
            "[nltk_data] Downloading package punkt_tab to /root/nltk_data...\n",
            "[nltk_data]   Package punkt_tab is already up-to-date!\n"
          ]
        }
      ]
    },
    {
      "cell_type": "code",
      "source": [
        "print(lda1_df['T_T_pro'])"
      ],
      "metadata": {
        "colab": {
          "base_uri": "https://localhost:8080/"
        },
        "id": "1QN61tNRzrBL",
        "outputId": "21d8e6cc-4853-43fc-dd48-0e24911ad63c"
      },
      "execution_count": 41,
      "outputs": [
        {
          "output_type": "stream",
          "name": "stdout",
          "text": [
            "0       [anger, may, caused, magnesium, deficiency, ne...\n",
            "1       [ever, get, angry, wish, kill, moment, dont, k...\n",
            "2       [anyone, else, avoid, people, know, theyll, ma...\n",
            "3       [anyone, else, allowed, get, upset, growing, a...\n",
            "4       [wish, people, understood, outburst, dont, hap...\n",
            "                              ...                        \n",
            "9073    [fastest, way, ive, found, get, panic, attack,...\n",
            "9074    [looking, advice, hi, im, f, ive, professional...\n",
            "9075    [new, panic, attack, experience, hi, guy, want...\n",
            "9076    [im, pretty, bad, suicidal, thought, thinking,...\n",
            "9077    [anxiety, symptom, replicating, low, blood, su...\n",
            "Name: T_T_pro, Length: 9078, dtype: object\n"
          ]
        }
      ]
    },
    {
      "cell_type": "markdown",
      "source": [
        "# LDA: Title vs Text vs Both vs Both-Common"
      ],
      "metadata": {
        "id": "vweb33dgnkvC"
      }
    },
    {
      "cell_type": "code",
      "source": [
        "!pip install pandas gensim spacy nltk matplotlib"
      ],
      "metadata": {
        "id": "qOMvH7ZrndRY",
        "colab": {
          "base_uri": "https://localhost:8080/"
        },
        "outputId": "850d045d-1241-46ce-b3a9-443b17ba2c8b"
      },
      "execution_count": 42,
      "outputs": [
        {
          "output_type": "stream",
          "name": "stdout",
          "text": [
            "Requirement already satisfied: pandas in /usr/local/lib/python3.11/dist-packages (2.2.2)\n",
            "Requirement already satisfied: gensim in /usr/local/lib/python3.11/dist-packages (4.3.3)\n",
            "Requirement already satisfied: spacy in /usr/local/lib/python3.11/dist-packages (3.7.5)\n",
            "Requirement already satisfied: nltk in /usr/local/lib/python3.11/dist-packages (3.9.1)\n",
            "Requirement already satisfied: matplotlib in /usr/local/lib/python3.11/dist-packages (3.10.0)\n",
            "Requirement already satisfied: numpy>=1.23.2 in /usr/local/lib/python3.11/dist-packages (from pandas) (1.26.4)\n",
            "Requirement already satisfied: python-dateutil>=2.8.2 in /usr/local/lib/python3.11/dist-packages (from pandas) (2.8.2)\n",
            "Requirement already satisfied: pytz>=2020.1 in /usr/local/lib/python3.11/dist-packages (from pandas) (2025.1)\n",
            "Requirement already satisfied: tzdata>=2022.7 in /usr/local/lib/python3.11/dist-packages (from pandas) (2025.1)\n",
            "Requirement already satisfied: scipy<1.14.0,>=1.7.0 in /usr/local/lib/python3.11/dist-packages (from gensim) (1.13.1)\n",
            "Requirement already satisfied: smart-open>=1.8.1 in /usr/local/lib/python3.11/dist-packages (from gensim) (7.1.0)\n",
            "Requirement already satisfied: spacy-legacy<3.1.0,>=3.0.11 in /usr/local/lib/python3.11/dist-packages (from spacy) (3.0.12)\n",
            "Requirement already satisfied: spacy-loggers<2.0.0,>=1.0.0 in /usr/local/lib/python3.11/dist-packages (from spacy) (1.0.5)\n",
            "Requirement already satisfied: murmurhash<1.1.0,>=0.28.0 in /usr/local/lib/python3.11/dist-packages (from spacy) (1.0.12)\n",
            "Requirement already satisfied: cymem<2.1.0,>=2.0.2 in /usr/local/lib/python3.11/dist-packages (from spacy) (2.0.11)\n",
            "Requirement already satisfied: preshed<3.1.0,>=3.0.2 in /usr/local/lib/python3.11/dist-packages (from spacy) (3.0.9)\n",
            "Requirement already satisfied: thinc<8.3.0,>=8.2.2 in /usr/local/lib/python3.11/dist-packages (from spacy) (8.2.5)\n",
            "Requirement already satisfied: wasabi<1.2.0,>=0.9.1 in /usr/local/lib/python3.11/dist-packages (from spacy) (1.1.3)\n",
            "Requirement already satisfied: srsly<3.0.0,>=2.4.3 in /usr/local/lib/python3.11/dist-packages (from spacy) (2.5.1)\n",
            "Requirement already satisfied: catalogue<2.1.0,>=2.0.6 in /usr/local/lib/python3.11/dist-packages (from spacy) (2.0.10)\n",
            "Requirement already satisfied: weasel<0.5.0,>=0.1.0 in /usr/local/lib/python3.11/dist-packages (from spacy) (0.4.1)\n",
            "Requirement already satisfied: typer<1.0.0,>=0.3.0 in /usr/local/lib/python3.11/dist-packages (from spacy) (0.15.2)\n",
            "Requirement already satisfied: tqdm<5.0.0,>=4.38.0 in /usr/local/lib/python3.11/dist-packages (from spacy) (4.67.1)\n",
            "Requirement already satisfied: requests<3.0.0,>=2.13.0 in /usr/local/lib/python3.11/dist-packages (from spacy) (2.32.3)\n",
            "Requirement already satisfied: pydantic!=1.8,!=1.8.1,<3.0.0,>=1.7.4 in /usr/local/lib/python3.11/dist-packages (from spacy) (2.10.6)\n",
            "Requirement already satisfied: jinja2 in /usr/local/lib/python3.11/dist-packages (from spacy) (3.1.6)\n",
            "Requirement already satisfied: setuptools in /usr/local/lib/python3.11/dist-packages (from spacy) (75.1.0)\n",
            "Requirement already satisfied: packaging>=20.0 in /usr/local/lib/python3.11/dist-packages (from spacy) (24.2)\n",
            "Requirement already satisfied: langcodes<4.0.0,>=3.2.0 in /usr/local/lib/python3.11/dist-packages (from spacy) (3.5.0)\n",
            "Requirement already satisfied: click in /usr/local/lib/python3.11/dist-packages (from nltk) (8.1.8)\n",
            "Requirement already satisfied: joblib in /usr/local/lib/python3.11/dist-packages (from nltk) (1.4.2)\n",
            "Requirement already satisfied: regex>=2021.8.3 in /usr/local/lib/python3.11/dist-packages (from nltk) (2024.11.6)\n",
            "Requirement already satisfied: contourpy>=1.0.1 in /usr/local/lib/python3.11/dist-packages (from matplotlib) (1.3.1)\n",
            "Requirement already satisfied: cycler>=0.10 in /usr/local/lib/python3.11/dist-packages (from matplotlib) (0.12.1)\n",
            "Requirement already satisfied: fonttools>=4.22.0 in /usr/local/lib/python3.11/dist-packages (from matplotlib) (4.56.0)\n",
            "Requirement already satisfied: kiwisolver>=1.3.1 in /usr/local/lib/python3.11/dist-packages (from matplotlib) (1.4.8)\n",
            "Requirement already satisfied: pillow>=8 in /usr/local/lib/python3.11/dist-packages (from matplotlib) (11.1.0)\n",
            "Requirement already satisfied: pyparsing>=2.3.1 in /usr/local/lib/python3.11/dist-packages (from matplotlib) (3.2.1)\n",
            "Requirement already satisfied: language-data>=1.2 in /usr/local/lib/python3.11/dist-packages (from langcodes<4.0.0,>=3.2.0->spacy) (1.3.0)\n",
            "Requirement already satisfied: annotated-types>=0.6.0 in /usr/local/lib/python3.11/dist-packages (from pydantic!=1.8,!=1.8.1,<3.0.0,>=1.7.4->spacy) (0.7.0)\n",
            "Requirement already satisfied: pydantic-core==2.27.2 in /usr/local/lib/python3.11/dist-packages (from pydantic!=1.8,!=1.8.1,<3.0.0,>=1.7.4->spacy) (2.27.2)\n",
            "Requirement already satisfied: typing-extensions>=4.12.2 in /usr/local/lib/python3.11/dist-packages (from pydantic!=1.8,!=1.8.1,<3.0.0,>=1.7.4->spacy) (4.12.2)\n",
            "Requirement already satisfied: six>=1.5 in /usr/local/lib/python3.11/dist-packages (from python-dateutil>=2.8.2->pandas) (1.17.0)\n",
            "Requirement already satisfied: charset-normalizer<4,>=2 in /usr/local/lib/python3.11/dist-packages (from requests<3.0.0,>=2.13.0->spacy) (3.4.1)\n",
            "Requirement already satisfied: idna<4,>=2.5 in /usr/local/lib/python3.11/dist-packages (from requests<3.0.0,>=2.13.0->spacy) (3.10)\n",
            "Requirement already satisfied: urllib3<3,>=1.21.1 in /usr/local/lib/python3.11/dist-packages (from requests<3.0.0,>=2.13.0->spacy) (2.3.0)\n",
            "Requirement already satisfied: certifi>=2017.4.17 in /usr/local/lib/python3.11/dist-packages (from requests<3.0.0,>=2.13.0->spacy) (2025.1.31)\n",
            "Requirement already satisfied: wrapt in /usr/local/lib/python3.11/dist-packages (from smart-open>=1.8.1->gensim) (1.17.2)\n",
            "Requirement already satisfied: blis<0.8.0,>=0.7.8 in /usr/local/lib/python3.11/dist-packages (from thinc<8.3.0,>=8.2.2->spacy) (0.7.11)\n",
            "Requirement already satisfied: confection<1.0.0,>=0.0.1 in /usr/local/lib/python3.11/dist-packages (from thinc<8.3.0,>=8.2.2->spacy) (0.1.5)\n",
            "Requirement already satisfied: shellingham>=1.3.0 in /usr/local/lib/python3.11/dist-packages (from typer<1.0.0,>=0.3.0->spacy) (1.5.4)\n",
            "Requirement already satisfied: rich>=10.11.0 in /usr/local/lib/python3.11/dist-packages (from typer<1.0.0,>=0.3.0->spacy) (13.9.4)\n",
            "Requirement already satisfied: cloudpathlib<1.0.0,>=0.7.0 in /usr/local/lib/python3.11/dist-packages (from weasel<0.5.0,>=0.1.0->spacy) (0.21.0)\n",
            "Requirement already satisfied: MarkupSafe>=2.0 in /usr/local/lib/python3.11/dist-packages (from jinja2->spacy) (3.0.2)\n",
            "Requirement already satisfied: marisa-trie>=1.1.0 in /usr/local/lib/python3.11/dist-packages (from language-data>=1.2->langcodes<4.0.0,>=3.2.0->spacy) (1.2.1)\n",
            "Requirement already satisfied: markdown-it-py>=2.2.0 in /usr/local/lib/python3.11/dist-packages (from rich>=10.11.0->typer<1.0.0,>=0.3.0->spacy) (3.0.0)\n",
            "Requirement already satisfied: pygments<3.0.0,>=2.13.0 in /usr/local/lib/python3.11/dist-packages (from rich>=10.11.0->typer<1.0.0,>=0.3.0->spacy) (2.18.0)\n",
            "Requirement already satisfied: mdurl~=0.1 in /usr/local/lib/python3.11/dist-packages (from markdown-it-py>=2.2.0->rich>=10.11.0->typer<1.0.0,>=0.3.0->spacy) (0.1.2)\n"
          ]
        }
      ]
    },
    {
      "cell_type": "code",
      "source": [
        "#Create Dictionary and Corpus from T_T\n",
        "import gensim\n",
        "import gensim.corpora as corpora"
      ],
      "metadata": {
        "id": "1ciPXvfB2Cyw"
      },
      "execution_count": 43,
      "outputs": []
    },
    {
      "cell_type": "code",
      "source": [
        "id2word = corpora.Dictionary(lda1_df['T_T_pro'])\n",
        "texts = lda1_df['T_T_pro']\n",
        "corpus = [id2word.doc2bow(text) for text in texts]"
      ],
      "metadata": {
        "id": "k3MNaXaPzHWO"
      },
      "execution_count": 44,
      "outputs": []
    },
    {
      "cell_type": "code",
      "source": [
        "#Build LDA Model\n",
        "lda_model = gensim.models.ldamodel.LdaModel(corpus=corpus,\n",
        "                                            id2word=id2word,\n",
        "                                            num_topics=6,\n",
        "                                            random_state=100,\n",
        "                                            update_every=1,\n",
        "                                            chunksize=100,\n",
        "                                            passes=10,\n",
        "                                            alpha='auto',\n",
        "                                            per_word_topics=True)"
      ],
      "metadata": {
        "id": "kxR7Wxtzzz6z"
      },
      "execution_count": 45,
      "outputs": []
    },
    {
      "cell_type": "code",
      "source": [
        "#Print Topics\n",
        "topics = lda_model.print_topics(num_words=10)\n",
        "for topic in topics:\n",
        "    print(topic)"
      ],
      "metadata": {
        "colab": {
          "base_uri": "https://localhost:8080/"
        },
        "id": "sSITrtUY0Ign",
        "outputId": "bef7b7f3-a224-451f-cbd7-e3b2783b369a"
      },
      "execution_count": 46,
      "outputs": [
        {
          "output_type": "stream",
          "name": "stdout",
          "text": [
            "(0, '0.042*\"im\" + 0.032*\"like\" + 0.029*\"feel\" + 0.016*\"get\" + 0.016*\"dont\" + 0.014*\"know\" + 0.012*\"feeling\" + 0.011*\"even\" + 0.011*\"anyone\" + 0.010*\"thing\"')\n",
            "(1, '0.200*\"panic\" + 0.158*\"attack\" + 0.039*\"heart\" + 0.028*\"symptom\" + 0.020*\"anxiety\" + 0.013*\"chest\" + 0.012*\"medication\" + 0.010*\"blood\" + 0.009*\"er\" + 0.008*\"experience\"')\n",
            "(2, '0.068*\"eating\" + 0.055*\"eat\" + 0.046*\"food\" + 0.044*\"weight\" + 0.017*\"water\" + 0.016*\"drink\" + 0.014*\"calorie\" + 0.014*\"body\" + 0.012*\"meal\" + 0.011*\"hot\"')\n",
            "(3, '0.026*\"day\" + 0.022*\"anxiety\" + 0.021*\"ive\" + 0.021*\"year\" + 0.020*\"time\" + 0.012*\"month\" + 0.011*\"work\" + 0.011*\"first\" + 0.010*\"started\" + 0.010*\"last\"')\n",
            "(4, '0.019*\"told\" + 0.017*\"went\" + 0.016*\"said\" + 0.016*\"didnt\" + 0.013*\"would\" + 0.013*\"got\" + 0.013*\"felt\" + 0.012*\"couldnt\" + 0.012*\"home\" + 0.011*\"came\"')\n",
            "(5, '0.060*\"disorder\" + 0.015*\"help\" + 0.013*\"people\" + 0.012*\"post\" + 0.011*\"recovery\" + 0.010*\"ed\" + 0.010*\"mental\" + 0.009*\"request\" + 0.009*\"health\" + 0.008*\"u\"')\n"
          ]
        }
      ]
    },
    {
      "cell_type": "code",
      "source": [
        "#Compute U Mass Score and CV Coherence Score\n",
        "from gensim.models import CoherenceModel\n",
        "\n",
        "coherence_model_lda = CoherenceModel(model=lda_model, texts=lda1_df['T_T_pro'], dictionary=id2word, coherence='u_mass')\n",
        "u_massPlain = coherence_model_lda.get_coherence()\n",
        "print('U Mass Score: ', u_massPlain)\n",
        "\n",
        "coherence_model_lda = CoherenceModel(model=lda_model, texts=lda1_df['T_T_pro'], dictionary=id2word, coherence='c_v')\n",
        "c_vPlain = coherence_model_lda.get_coherence()\n",
        "print('CV Coherence Score: ', c_vPlain)"
      ],
      "metadata": {
        "colab": {
          "base_uri": "https://localhost:8080/"
        },
        "id": "LgKK5Ja90QmX",
        "outputId": "fad74157-343b-4768-e6f9-ef7d3a12ab2c"
      },
      "execution_count": 47,
      "outputs": [
        {
          "output_type": "stream",
          "name": "stdout",
          "text": [
            "U Mass Score:  -2.1177723181263572\n",
            "CV Coherence Score:  0.44936476085361327\n"
          ]
        }
      ]
    },
    {
      "cell_type": "markdown",
      "source": [
        "What just happened?\n",
        "\n",
        "LDA has found 6 topics with those 10 words being the most associated with them.\n",
        "\n",
        "A U Mass score is a metric created by the University of Massachusetts. It it based on how oftern word pairs appear within a topic and the closer it is to 0, the better.\n",
        "\n",
        "A CV Coherence score is a popular metric that measures the relative distance between words within a topic. .55 is the start of a \"good\" score with .8 being where it starts being \"too good.\" It is not as reliable as U Mass, even stated by the creator.\n"
      ],
      "metadata": {
        "id": "ibAtmmcA2lXZ"
      }
    },
    {
      "cell_type": "code",
      "source": [
        "#Title Only\n",
        "id2word = corpora.Dictionary(lda1_df['Title_pro'])\n",
        "texts = lda1_df['Title_pro']\n",
        "corpus = [id2word.doc2bow(text) for text in texts]\n",
        "lda_model = gensim.models.ldamodel.LdaModel(corpus=corpus,\n",
        "                                            id2word=id2word,\n",
        "                                            num_topics=6,\n",
        "                                            random_state=100,\n",
        "                                            update_every=1,\n",
        "                                            chunksize=100,\n",
        "                                            passes=10,\n",
        "                                            alpha='auto',\n",
        "                                            per_word_topics=True)\n",
        "topics = lda_model.print_topics(num_words=10)\n",
        "for topic in topics:\n",
        "    print(topic)\n",
        "coherence_model_lda = CoherenceModel(model=lda_model, texts=lda1_df['Title_pro'], dictionary=id2word, coherence='u_mass')\n",
        "u_massTitle = coherence_model_lda.get_coherence()\n",
        "print('\\nU Mass Score: ', u_massTitle)\n",
        "coherence_model_lda = CoherenceModel(model=lda_model, texts=lda1_df['Title_pro'], dictionary=id2word, coherence='c_v')\n",
        "c_vTitle = coherence_model_lda.get_coherence()\n",
        "print('\\nCV Coherence Score: ', c_vTitle)"
      ],
      "metadata": {
        "colab": {
          "base_uri": "https://localhost:8080/"
        },
        "id": "Qu6vPUi63TSF",
        "outputId": "b1543139-6306-4268-8c2f-2b1d16d52c35"
      },
      "execution_count": 48,
      "outputs": [
        {
          "output_type": "stream",
          "name": "stdout",
          "text": [
            "(0, '0.034*\"today\" + 0.021*\"month\" + 0.020*\"dying\" + 0.019*\"week\" + 0.019*\"story\" + 0.016*\"trigger\" + 0.015*\"med\" + 0.015*\"guy\" + 0.013*\"living\" + 0.013*\"night\"')\n",
            "(1, '0.043*\"feeling\" + 0.038*\"day\" + 0.034*\"cant\" + 0.027*\"fear\" + 0.023*\"stop\" + 0.022*\"really\" + 0.022*\"body\" + 0.021*\"youre\" + 0.020*\"even\" + 0.019*\"advice\"')\n",
            "(2, '0.086*\"anyone\" + 0.054*\"get\" + 0.053*\"request\" + 0.052*\"feel\" + 0.051*\"else\" + 0.045*\"like\" + 0.025*\"eating\" + 0.018*\"time\" + 0.018*\"first\" + 0.018*\"better\"')\n",
            "(3, '0.264*\"panic\" + 0.202*\"attack\" + 0.018*\"heart\" + 0.018*\"year\" + 0.011*\"work\" + 0.010*\"ive\" + 0.009*\"know\" + 0.009*\"go\" + 0.008*\"way\" + 0.007*\"finally\"')\n",
            "(4, '0.101*\"anxiety\" + 0.035*\"going\" + 0.033*\"life\" + 0.030*\"ever\" + 0.027*\"experience\" + 0.013*\"live\" + 0.013*\"hate\" + 0.013*\"could\" + 0.013*\"worse\" + 0.012*\"weird\"')\n",
            "(5, '0.084*\"im\" + 0.079*\"disorder\" + 0.036*\"help\" + 0.024*\"symptom\" + 0.024*\"need\" + 0.023*\"people\" + 0.022*\"dont\" + 0.017*\"someone\" + 0.017*\"ed\" + 0.016*\"please\"')\n",
            "\n",
            "U Mass Score:  -10.095455719353954\n",
            "\n",
            "CV Coherence Score:  0.38592006176765387\n"
          ]
        }
      ]
    },
    {
      "cell_type": "code",
      "source": [
        "#Text Only\n",
        "id2word = corpora.Dictionary(lda1_df['Text_pro'])\n",
        "texts = lda1_df['Text_pro']\n",
        "corpus = [id2word.doc2bow(text) for text in texts]\n",
        "lda_model = gensim.models.ldamodel.LdaModel(corpus=corpus,\n",
        "                                            id2word=id2word,\n",
        "                                            num_topics=6,\n",
        "                                            random_state=100,\n",
        "                                            update_every=1,\n",
        "                                            chunksize=100,\n",
        "                                            passes=10,\n",
        "                                            alpha='auto',\n",
        "                                            per_word_topics=True)\n",
        "topics = lda_model.print_topics(num_words=10)\n",
        "for topic in topics:\n",
        "    print(topic)\n",
        "coherence_model_lda = CoherenceModel(model=lda_model, texts=lda1_df['Text_pro'], dictionary=id2word, coherence='u_mass')\n",
        "u_massText = coherence_model_lda.get_coherence()\n",
        "print('\\nU Mass Score: ', u_massText)\n",
        "coherence_model_lda = CoherenceModel(model=lda_model, texts=lda1_df['Text_pro'], dictionary=id2word, coherence='c_v')\n",
        "c_vText = coherence_model_lda.get_coherence()\n",
        "print('\\nCV Coherence Score: ', c_vText)"
      ],
      "metadata": {
        "colab": {
          "base_uri": "https://localhost:8080/"
        },
        "id": "Mnqkxs9-36Ss",
        "outputId": "84ff0f44-2457-4ad2-fc4b-92c0cbf5425e"
      },
      "execution_count": 49,
      "outputs": [
        {
          "output_type": "stream",
          "name": "stdout",
          "text": [
            "(0, '0.030*\"im\" + 0.022*\"like\" + 0.021*\"panic\" + 0.020*\"feel\" + 0.014*\"attack\" + 0.014*\"ive\" + 0.013*\"get\" + 0.012*\"anxiety\" + 0.011*\"dont\" + 0.010*\"know\"')\n",
            "(1, '0.033*\"na\" + 0.025*\"fucking\" + 0.024*\"gon\" + 0.023*\"panicking\" + 0.022*\"mom\" + 0.018*\"shes\" + 0.014*\"fuck\" + 0.013*\"kid\" + 0.012*\"sister\" + 0.011*\"he\"')\n",
            "(2, '0.057*\"symptom\" + 0.020*\"health\" + 0.019*\"body\" + 0.019*\"rate\" + 0.017*\"physical\" + 0.016*\"sensation\" + 0.013*\"recovery\" + 0.011*\"ed\" + 0.010*\"brain\" + 0.009*\"blood\"')\n",
            "(3, '0.074*\"disorder\" + 0.019*\"people\" + 0.011*\"post\" + 0.010*\"u\" + 0.010*\"book\" + 0.009*\"exposure\" + 0.008*\"experience\" + 0.007*\"cbt\" + 0.007*\"treatment\" + 0.007*\"others\"')\n",
            "(4, '0.022*\"member\" + 0.015*\"taste\" + 0.011*\"bodily\" + 0.011*\"signal\" + 0.011*\"w\" + 0.010*\"science\" + 0.009*\"inner\" + 0.009*\"feed\" + 0.008*\"ridiculous\" + 0.008*\"protein\"')\n",
            "(5, '0.037*\"attack\" + 0.037*\"panic\" + 0.019*\"year\" + 0.016*\"felt\" + 0.015*\"started\" + 0.015*\"day\" + 0.014*\"month\" + 0.014*\"got\" + 0.012*\"last\" + 0.012*\"week\"')\n",
            "\n",
            "U Mass Score:  -4.252780396008608\n",
            "\n",
            "CV Coherence Score:  0.43558933408157013\n"
          ]
        }
      ]
    },
    {
      "cell_type": "code",
      "source": [
        "import matplotlib.pyplot as plt\n",
        "import numpy as np\n",
        "\n",
        "def addlabels(x,y):\n",
        "    for i in range(len(x)):\n",
        "        plt.text(i,y[i],y[i], ha='center',\n",
        "                 bbox = dict(facecolor = 'red', alpha =.8))\n",
        "\n",
        "labels = [\"Title+Text\", \"Title\", \"Text\"]\n",
        "scores_UM = [u_massPlain, u_massTitle, u_massText]\n",
        "scores_UM = [round(num, 5) for num in scores_UM]\n",
        "\n",
        "plt.figure(figsize=(10,4))\n",
        "plt.bar(labels, scores_UM)\n",
        "addlabels(labels, scores_UM)\n",
        "plt.xlabel('Model Type')\n",
        "plt.ylabel('UMass Scores')\n",
        "plt.title('UMass Scores of Plain Models using Different Parts of Text in Decimal')"
      ],
      "metadata": {
        "colab": {
          "base_uri": "https://localhost:8080/",
          "height": 427
        },
        "id": "IT8weuifg-AA",
        "outputId": "cdf8967b-5f23-472b-bb3a-b1a3842a4c1a"
      },
      "execution_count": 50,
      "outputs": [
        {
          "output_type": "execute_result",
          "data": {
            "text/plain": [
              "Text(0.5, 1.0, 'UMass Scores of Plain Models using Different Parts of Text in Decimal')"
            ]
          },
          "metadata": {},
          "execution_count": 50
        },
        {
          "output_type": "display_data",
          "data": {
            "text/plain": [
              "<Figure size 1000x400 with 1 Axes>"
            ],
            "image/png": "[encoded data removed]"
          },
          "metadata": {}
        }
      ]
    },
    {
      "cell_type": "markdown",
      "source": [
        "Individually, the coherence scores of Title (-10.1) and Text (-4.3) are further from 0 than combined Title and Text (-2.1)."
      ],
      "metadata": {
        "id": "rLwFw6NR4ZKL"
      }
    },
    {
      "cell_type": "code",
      "source": [
        "scores_CV = [c_vPlain, c_vTitle, c_vText]\n",
        "scores_CV = [round(num, 5) for num in scores_CV]\n",
        "\n",
        "plt.figure(figsize=(10,4))\n",
        "plt.bar(labels, scores_CV)\n",
        "addlabels(labels, scores_CV)\n",
        "plt.xlabel('Model Type')\n",
        "plt.ylabel('CV Coherence Scores')\n",
        "plt.title('CV Coherence Scores of Plain Models using Different Parts of Text in Decimal')"
      ],
      "metadata": {
        "colab": {
          "base_uri": "https://localhost:8080/",
          "height": 427
        },
        "id": "i_CkFw3SiC35",
        "outputId": "b400bce3-532e-41ed-c336-a60ca88e0a32"
      },
      "execution_count": 51,
      "outputs": [
        {
          "output_type": "execute_result",
          "data": {
            "text/plain": [
              "Text(0.5, 1.0, 'CV Coherence Scores of Plain Models using Different Parts of Text in Decimal')"
            ]
          },
          "metadata": {},
          "execution_count": 51
        },
        {
          "output_type": "display_data",
          "data": {
            "text/plain": [
              "<Figure size 1000x400 with 1 Axes>"
            ],
            "image/png": "[encoded data removed]"
          },
          "metadata": {}
        }
      ]
    },
    {
      "cell_type": "markdown",
      "source": [
        "Title+Text once again has the best score with CV Coherence"
      ],
      "metadata": {
        "id": "xWJ2dVcqiSM1"
      }
    },
    {
      "cell_type": "code",
      "source": [
        "#Remove most common words\n",
        "lda2_df = df.copy()\n",
        "print(lda2_df['T_T_pro'])"
      ],
      "metadata": {
        "colab": {
          "base_uri": "https://localhost:8080/"
        },
        "id": "uE0ZUa7I2OVE",
        "outputId": "24b4a8f1-c8fd-4657-9b3b-9daf16acf744"
      },
      "execution_count": 52,
      "outputs": [
        {
          "output_type": "stream",
          "name": "stdout",
          "text": [
            "0       anger may caused magnesium deficiency neuron l...\n",
            "1       ever get angry wish kill moment dont know ange...\n",
            "2       anyone else avoid people know theyll make angr...\n",
            "3       anyone else allowed get upset growing always s...\n",
            "4       wish people understood outburst dont happen sm...\n",
            "                              ...                        \n",
            "9073    fastest way ive found get panic attack control...\n",
            "9074    looking advice hi im f ive professionally diag...\n",
            "9075    new panic attack experience hi guy wanted see ...\n",
            "9076    im pretty bad suicidal thought thinking cant h...\n",
            "9077    anxiety symptom replicating low blood sugar sc...\n",
            "Name: T_T_pro, Length: 9078, dtype: object\n"
          ]
        }
      ]
    },
    {
      "cell_type": "code",
      "source": [
        "#common words found with EDA\n",
        "common = ['im', 'like', 'feel', 'dont', 'get' 'time', 'know', 'ive', 'people',\n",
        "          'day', 'want', 'thing', 'even', 'one', 'life', 'year', 'really', 'make']\n",
        "for word in common:\n",
        "  lda2_df['T_T_pro'] = lda2_df['T_T_pro'].str.replace(word, '', regex=False)\n",
        "\n",
        "print(lda2_df['T_T_pro'])"
      ],
      "metadata": {
        "colab": {
          "base_uri": "https://localhost:8080/"
        },
        "id": "gDmfS8oV3MwH",
        "outputId": "9838efa1-bd3b-4c45-e333-134e01218029"
      },
      "execution_count": 53,
      "outputs": [
        {
          "output_type": "stream",
          "name": "stdout",
          "text": [
            "0       anger may caused magnesium deficiency neuron l...\n",
            "1       ever get angry wish kill moment   anger issue ...\n",
            "2       any else avoid   theyll  angry lately  noticin...\n",
            "3       any else allowed get upset growing always scol...\n",
            "4       wish  understood outburst  happen small issue ...\n",
            "                              ...                        \n",
            "9073    fastest way  found get panic attack control us...\n",
            "9074    looking advice hi  f  professionally diagnosed...\n",
            "9075    new panic attack experience hi guy ed see any ...\n",
            "9076     pretty bad suicidal thought thinking cant han...\n",
            "9077    anxiety symptom replicating low blood sugar sc...\n",
            "Name: T_T_pro, Length: 9078, dtype: object\n"
          ]
        }
      ]
    },
    {
      "cell_type": "code",
      "source": [
        "#Tokenize\n",
        "lda2_df['T_T_pro'] = lda2_df.apply(lambda row: nltk.word_tokenize(row['T_T_pro']), axis=1)\n",
        "\n",
        "#LDA\n",
        "id2word = corpora.Dictionary(lda2_df['T_T_pro'])\n",
        "texts = lda2_df['T_T_pro']\n",
        "corpus = [id2word.doc2bow(text) for text in texts]\n",
        "lda_model = gensim.models.ldamodel.LdaModel(corpus=corpus,\n",
        "                                            id2word=id2word,\n",
        "                                            num_topics=6,\n",
        "                                            random_state=100,\n",
        "                                            update_every=1,\n",
        "                                            chunksize=100,\n",
        "                                            passes=10,\n",
        "                                            alpha='auto',\n",
        "                                            per_word_topics=True)\n",
        "topics = lda_model.print_topics(num_words=10)\n",
        "for topic in topics:\n",
        "    print(topic)\n",
        "coherence_model_lda = CoherenceModel(model=lda_model, texts=lda2_df['T_T_pro'], dictionary=id2word, coherence='u_mass')\n",
        "u_massCom = coherence_model_lda.get_coherence()\n",
        "print('\\nUMass Score: ', u_massCom)\n",
        "\n",
        "coherence_model_lda = CoherenceModel(model=lda_model, texts=lda2_df['T_T_pro'], dictionary=id2word, coherence='c_v')\n",
        "c_vCom = coherence_model_lda.get_coherence()\n",
        "print('\\nCV Coherence Score: ', c_vCom)"
      ],
      "metadata": {
        "colab": {
          "base_uri": "https://localhost:8080/"
        },
        "id": "ozcQWuWcAnVZ",
        "outputId": "fb05062b-84d8-4c36-a85d-19d51db4d636"
      },
      "execution_count": 54,
      "outputs": [
        {
          "output_type": "stream",
          "name": "stdout",
          "text": [
            "(0, '0.043*\"disorder\" + 0.030*\"symptom\" + 0.019*\"youre\" + 0.012*\"experience\" + 0.011*\"weight\" + 0.009*\"post\" + 0.008*\"help\" + 0.008*\"recovery\" + 0.007*\"many\" + 0.007*\"healthy\"')\n",
            "(1, '0.060*\"eat\" + 0.053*\"eating\" + 0.050*\"food\" + 0.028*\"hate\" + 0.026*\"na\" + 0.019*\"fucking\" + 0.019*\"gon\" + 0.013*\"meal\" + 0.013*\"store\" + 0.011*\"fuck\"')\n",
            "(2, '0.021*\"cbt\" + 0.018*\"diet\" + 0.015*\"sugar\" + 0.015*\"recover\" + 0.014*\"fat\" + 0.014*\"emergency\" + 0.011*\"success\" + 0.010*\"recovering\" + 0.009*\"research\" + 0.009*\"scan\"')\n",
            "(3, '0.054*\"xanax\" + 0.034*\"doom\" + 0.027*\"klonopin\" + 0.017*\"curious\" + 0.014*\"recognize\" + 0.012*\"recommend\" + 0.011*\"monitor\" + 0.010*\"happiness\" + 0.009*\"training\" + 0.009*\"snack\"')\n",
            "(4, '0.036*\"panic\" + 0.029*\"attack\" + 0.013*\"get\" + 0.012*\"anxiety\" + 0.012*\"te\" + 0.010*\"every\" + 0.009*\"ing\" + 0.008*\"going\" + 0.008*\"go\" + 0.008*\"heart\"')\n",
            "(5, '0.063*\"body\" + 0.056*\"any\" + 0.055*\"else\" + 0.018*\"sensation\" + 0.017*\"normal\" + 0.013*\"weird\" + 0.012*\"fast\" + 0.011*\"racing\" + 0.010*\"stomach\" + 0.009*\"dizzy\"')\n",
            "\n",
            "UMass Score:  -4.348336486688726\n",
            "\n",
            "CV Coherence Score:  0.3904402074463431\n"
          ]
        }
      ]
    },
    {
      "cell_type": "markdown",
      "source": [
        "Since -4.3 < -2.1, we will remain without removing common words."
      ],
      "metadata": {
        "id": "Pl1ibX3tBlB4"
      }
    },
    {
      "cell_type": "markdown",
      "source": [
        "# LDA: Parameter Optimization"
      ],
      "metadata": {
        "id": "09goglvhHm6R"
      }
    },
    {
      "cell_type": "markdown",
      "source": [
        "By tuning the passes (Number of passes through the corpus during training) and chunk size (Number of documents to be used in each training chunk), we can try to optimize LDA."
      ],
      "metadata": {
        "id": "ognN3KSROeP8"
      }
    },
    {
      "cell_type": "code",
      "source": [
        "k = [15, 20, 25, 30, 35]\n",
        "u_m = []\n",
        "c_v = []\n",
        "\n",
        "for p in k:\n",
        "  id2word = corpora.Dictionary(lda1_df['T_T_pro'])\n",
        "  texts = lda1_df['T_T_pro']\n",
        "  corpus = [id2word.doc2bow(text) for text in texts]\n",
        "  lda_model = gensim.models.ldamodel.LdaModel(corpus=corpus,\n",
        "                                              id2word=id2word,\n",
        "                                              num_topics=6,\n",
        "                                              random_state=100,\n",
        "                                              update_every=1,\n",
        "                                              chunksize=100,\n",
        "                                              passes=p,\n",
        "                                              alpha='auto',\n",
        "                                              per_word_topics=True)\n",
        "  coherence_model_lda = CoherenceModel(model=lda_model, texts=lda1_df['T_T_pro'], dictionary=id2word, coherence='u_mass')\n",
        "  u_m.append(coherence_model_lda.get_coherence())\n",
        "  coherence_model_lda = CoherenceModel(model=lda_model, texts=lda1_df['T_T_pro'], dictionary=id2word, coherence='c_v')\n",
        "  c_v.append(coherence_model_lda.get_coherence())\n"
      ],
      "metadata": {
        "id": "DwVzfup9Rm9V"
      },
      "execution_count": 55,
      "outputs": []
    },
    {
      "cell_type": "code",
      "source": [
        "plt.plot(k, u_m, label=\"UMass\")\n",
        "plt.xlabel(\"Num Passes\")\n",
        "plt.legend()\n",
        "plt.show()\n",
        "for x in range(5):\n",
        "  print(k[x],\": \", u_m[x])"
      ],
      "metadata": {
        "colab": {
          "base_uri": "https://localhost:8080/",
          "height": 536
        },
        "id": "FmDWQBs6l-aT",
        "outputId": "77024b3f-1ca8-456b-baa9-6e4dce6b7421"
      },
      "execution_count": 56,
      "outputs": [
        {
          "output_type": "display_data",
          "data": {
            "text/plain": [
              "<Figure size 640x480 with 1 Axes>"
            ],
            "image/png": "[encoded data removed]"
          },
          "metadata": {}
        },
        {
          "output_type": "stream",
          "name": "stdout",
          "text": [
            "15 :  -2.1138693309467005\n",
            "20 :  -1.937533024842142\n",
            "25 :  -1.9214892962411099\n",
            "30 :  -1.9172828620370426\n",
            "35 :  -1.9323829064159839\n"
          ]
        }
      ]
    },
    {
      "cell_type": "code",
      "source": [
        "plt.plot(k, c_v, label=\"CV\")\n",
        "plt.xlabel(\"Num Passes\")\n",
        "plt.legend()\n",
        "plt.show()\n",
        "for x in range(5):\n",
        "  print(k[x],\": \", c_v[x])"
      ],
      "metadata": {
        "colab": {
          "base_uri": "https://localhost:8080/",
          "height": 536
        },
        "id": "X82kutBfl_jX",
        "outputId": "39dcf325-8090-4825-d99d-e58ac2564c5f"
      },
      "execution_count": 57,
      "outputs": [
        {
          "output_type": "display_data",
          "data": {
            "text/plain": [
              "<Figure size 640x480 with 1 Axes>"
            ],
            "image/png": "[encoded data removed]"
          },
          "metadata": {}
        },
        {
          "output_type": "stream",
          "name": "stdout",
          "text": [
            "15 :  0.4507512172919375\n",
            "20 :  0.4597245295076369\n",
            "25 :  0.4620190385079408\n",
            "30 :  0.4620190385079408\n",
            "35 :  0.460041560550587\n"
          ]
        }
      ]
    },
    {
      "cell_type": "markdown",
      "source": [
        "It peaks at 30 passes."
      ],
      "metadata": {
        "id": "Nw8ywqKpTEA3"
      }
    },
    {
      "cell_type": "code",
      "source": [
        "k = [90, 95, 100, 105, 110]\n",
        "u_m = []\n",
        "c_v = []\n",
        "\n",
        "for c in k:\n",
        "  id2word = corpora.Dictionary(lda1_df['T_T_pro'])\n",
        "  texts = lda1_df['T_T_pro']\n",
        "  corpus = [id2word.doc2bow(text) for text in texts]\n",
        "  lda_model = gensim.models.ldamodel.LdaModel(corpus=corpus,\n",
        "                                              id2word=id2word,\n",
        "                                              num_topics=6,\n",
        "                                              random_state=100,\n",
        "                                              update_every=1,\n",
        "                                              chunksize=c,\n",
        "                                              passes=30,\n",
        "                                              alpha='auto',\n",
        "                                              per_word_topics=True)\n",
        "  coherence_model_lda = CoherenceModel(model=lda_model, texts=lda1_df['T_T_pro'], dictionary=id2word, coherence='u_mass')\n",
        "  u_m.append(coherence_model_lda.get_coherence())\n",
        "  coherence_model_lda = CoherenceModel(model=lda_model, texts=lda1_df['T_T_pro'], dictionary=id2word, coherence='c_v')\n",
        "  c_v.append(coherence_model_lda.get_coherence())"
      ],
      "metadata": {
        "id": "7rMTcPHaU0Ta"
      },
      "execution_count": null,
      "outputs": []
    },
    {
      "cell_type": "code",
      "source": [
        "plt.plot(k, u_m)\n",
        "plt.xlabel(\"Num Chunk Size\")\n",
        "plt.ylabel(\"UMass score\")\n",
        "plt.show()\n",
        "for x in range(5):\n",
        "  print(k[x],\": \", u_m[x])"
      ],
      "metadata": {
        "id": "8oXdTHG3mTnd"
      },
      "execution_count": null,
      "outputs": []
    },
    {
      "cell_type": "code",
      "source": [
        "plt.plot(k, c_v)\n",
        "plt.xlabel(\"Num Chunk Size\")\n",
        "plt.ylabel(\"CV Coherence score\")\n",
        "plt.show()\n",
        "for x in range(5):\n",
        "  print(k[x],\": \", c_v[x])"
      ],
      "metadata": {
        "id": "DmmOPeX0mVlT"
      },
      "execution_count": null,
      "outputs": []
    },
    {
      "cell_type": "markdown",
      "source": [
        "Chunk size 100 also seems ideal."
      ],
      "metadata": {
        "id": "i1L4HP2UXhfg"
      }
    },
    {
      "cell_type": "code",
      "source": [
        "#Optimized Model\n",
        "#No common words removed, 6 topics, 100 chunk size, and 30 passes\n",
        "id2word = corpora.Dictionary(lda1_df['T_T_pro'])\n",
        "texts = lda1_df['T_T_pro']\n",
        "corpus = [id2word.doc2bow(text) for text in texts]\n",
        "lda_model = gensim.models.ldamodel.LdaModel(corpus=corpus,\n",
        "                                            id2word=id2word,\n",
        "                                            num_topics=6,\n",
        "                                            random_state=100,\n",
        "                                            update_every=1,\n",
        "                                            chunksize=100,\n",
        "                                            passes=30,\n",
        "                                            alpha='auto',\n",
        "                                            per_word_topics=True)\n",
        "topics = lda_model.print_topics(num_words=10)\n",
        "for topic in topics:\n",
        "    print(topic)\n",
        "\n",
        "coherence_model_lda = CoherenceModel(model=lda_model, texts=lda1_df['T_T_pro'], dictionary=id2word, coherence='u_mass')\n",
        "u_massOpt = coherence_model_lda.get_coherence()\n",
        "coherence_model_lda = CoherenceModel(model=lda_model, texts=lda1_df['T_T_pro'], dictionary=id2word, coherence='c_v')\n",
        "c_vOpt = coherence_model_lda.get_coherence()"
      ],
      "metadata": {
        "id": "l5nxRQpqLp4Y"
      },
      "execution_count": null,
      "outputs": []
    },
    {
      "cell_type": "markdown",
      "source": [
        "# Visualization"
      ],
      "metadata": {
        "id": "TtVeAcznYBlU"
      }
    },
    {
      "cell_type": "code",
      "source": [
        "labels = [\"Plain\", \"No Common\", \"Optimize\"]\n",
        "all_u_m = [u_massPlain, u_massCom, u_massOpt]\n",
        "all_u_m = [round(num, 5) for num in all_u_m]\n",
        "\n",
        "plt.figure(figsize=(7,4))\n",
        "plt.bar(labels, all_u_m)\n",
        "addlabels(labels, all_u_m)\n",
        "plt.xlabel('Model Types')\n",
        "plt.ylabel('UMass Scores')\n",
        "plt.title('UMass Score of the Models in Decimal')"
      ],
      "metadata": {
        "id": "KNT-dS4QYDpa"
      },
      "execution_count": null,
      "outputs": []
    },
    {
      "cell_type": "code",
      "source": [
        "all_c_v = [c_vPlain, c_vCom, c_vOpt]\n",
        "all_c_v = [round(num, 5) for num in all_c_v]\n",
        "\n",
        "plt.figure(figsize=(7,4))\n",
        "plt.bar(labels, all_c_v)\n",
        "addlabels(labels, all_c_v)\n",
        "plt.xlabel('Model Types')\n",
        "plt.ylabel('CV Coherence Score')\n",
        "plt.title('CV Coherence Scores of the Models in Decimal')"
      ],
      "metadata": {
        "id": "WvXwA9g0qEcn"
      },
      "execution_count": null,
      "outputs": []
    },
    {
      "cell_type": "code",
      "source": [],
      "metadata": {
        "id": "t2RBCwMzK2P0"
      },
      "execution_count": null,
      "outputs": []
    }
  ]
}