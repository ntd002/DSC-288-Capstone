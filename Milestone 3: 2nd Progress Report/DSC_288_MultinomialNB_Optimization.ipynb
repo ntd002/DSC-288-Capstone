{
  "nbformat": 4,
  "nbformat_minor": 0,
  "metadata": {
    "colab": {
      "provenance": []
    },
    "kernelspec": {
      "name": "python3",
      "display_name": "Python 3"
    },
    "language_info": {
      "name": "python"
    }
  },
  "cells": [
    {
      "cell_type": "markdown",
      "source": [
        "# Import CSV"
      ],
      "metadata": {
        "id": "3QHy6zoBnib5"
      }
    },
    {
      "cell_type": "code",
      "execution_count": 82,
      "metadata": {
        "colab": {
          "base_uri": "https://localhost:8080/"
        },
        "id": "ZJzu9ZzqmxyK",
        "outputId": "0fc5ea9d-f46b-4d93-aff9-ddc099d81505"
      },
      "outputs": [
        {
          "output_type": "stream",
          "name": "stdout",
          "text": [
            "                                                  Title  \\\n",
            "0     Your anger may be caused by a magnesium defici...   \n",
            "1     Do you ever get so angry that you wish to kill...   \n",
            "2     Does anyone else just avoid people because you...   \n",
            "3     Was anyone else “not allowed” to get upset gro...   \n",
            "4     I wish people understood that outbursts don't ...   \n",
            "...                                                 ...   \n",
            "9073  Fastest way I’ve found to get a panic attack u...   \n",
            "9074                                 Looking for advice   \n",
            "9075                        New panic attack experience   \n",
            "9076  I’m having pretty bad suicidal thoughts, think...   \n",
            "9077      Anxiety symptoms replicating low blood sugar?   \n",
            "\n",
            "                                                   Text  Score  Topic  \\\n",
            "0     I tried absolutely everything to fix my chroni...    743  anger   \n",
            "1     I don't know if it's my anger issues talking o...    692  anger   \n",
            "2     Lately I’ve been noticing that I take the extr...    489  anger   \n",
            "3     I was always scolded for being upset, even at ...    414  anger   \n",
            "4     The fact that people think you are being ridic...    378  anger   \n",
            "...                                                 ...    ...    ...   \n",
            "9073  Using ice cubes or taking a shower and putting...     11  panic   \n",
            "9074  Hi, I’m 28F. I’ve been professionally diagnose...     10  panic   \n",
            "9075  Hi guys, I just wanted to see if anyone has ex...     12  panic   \n",
            "9076  The second half of last year, and this month h...     13  panic   \n",
            "9077  This is scaring me insane honestly. Has anyone...     11  panic   \n",
            "\n",
            "                                              Title_pro  \\\n",
            "0     anger may caused magnesium deficiency neuron l...   \n",
            "1                       ever get angry wish kill moment   \n",
            "2       anyone else avoid people know theyll make angry   \n",
            "3                 anyone else allowed get upset growing   \n",
            "4     wish people understood outburst dont happen sm...   \n",
            "...                                                 ...   \n",
            "9073     fastest way ive found get panic attack control   \n",
            "9074                                     looking advice   \n",
            "9075                        new panic attack experience   \n",
            "9076  im pretty bad suicidal thought thinking cant h...   \n",
            "9077        anxiety symptom replicating low blood sugar   \n",
            "\n",
            "                                               Text_pro  \\\n",
            "0     tried absolutely everything fix chronic anger ...   \n",
            "1     dont know anger issue talking depressioni dont...   \n",
            "2     lately ive noticing take extra step avoid peop...   \n",
            "3     always scolded upset even minor thing kid allo...   \n",
            "4     fact people think ridiculous really mad small ...   \n",
            "...                                                 ...   \n",
            "9073  using ice cube taking shower putting cold wate...   \n",
            "9074  hi im f ive professionally diagnosed panic dis...   \n",
            "9075  hi guy wanted see anyone experienced beforeive...   \n",
            "9076  second half last year month worst ive panic at...   \n",
            "9077  scaring insane honestly anyone else dealt star...   \n",
            "\n",
            "                                                T_T_pro  \n",
            "0     anger may caused magnesium deficiency neuron l...  \n",
            "1     ever get angry wish kill moment dont know ange...  \n",
            "2     anyone else avoid people know theyll make angr...  \n",
            "3     anyone else allowed get upset growing always s...  \n",
            "4     wish people understood outburst dont happen sm...  \n",
            "...                                                 ...  \n",
            "9073  fastest way ive found get panic attack control...  \n",
            "9074  looking advice hi im f ive professionally diag...  \n",
            "9075  new panic attack experience hi guy wanted see ...  \n",
            "9076  im pretty bad suicidal thought thinking cant h...  \n",
            "9077  anxiety symptom replicating low blood sugar sc...  \n",
            "\n",
            "[9078 rows x 7 columns]\n"
          ]
        }
      ],
      "source": [
        "import pandas as pd\n",
        "df = pd.read_csv('DSC 288 Processed Reddit Dataset.csv')\n",
        "print(df)"
      ]
    },
    {
      "cell_type": "markdown",
      "source": [
        "# Feature Extraction/Modeling  (Old)"
      ],
      "metadata": {
        "id": "vweb33dgnkvC"
      }
    },
    {
      "cell_type": "code",
      "source": [
        "from sklearn.feature_extraction.text import TfidfVectorizer\n",
        "from sklearn.model_selection import train_test_split\n",
        "from sklearn.naive_bayes import MultinomialNB\n",
        "from sklearn.metrics import accuracy_score"
      ],
      "metadata": {
        "id": "qOMvH7ZrndRY"
      },
      "execution_count": 83,
      "outputs": []
    },
    {
      "cell_type": "code",
      "source": [
        "X_train, X_test, y_train, y_test = train_test_split(df['Text_pro'], df['Topic'], test_size=0.2, random_state=2)"
      ],
      "metadata": {
        "id": "y207QMN2nwxC"
      },
      "execution_count": 84,
      "outputs": []
    },
    {
      "cell_type": "code",
      "source": [
        "#Create Vectorizer\n",
        "vectorizer = TfidfVectorizer()\n",
        "X_train = vectorizer.fit_transform(X_train)\n",
        "X_test = vectorizer.transform(X_test)"
      ],
      "metadata": {
        "id": "OlsV3ZVBrijQ"
      },
      "execution_count": 85,
      "outputs": []
    },
    {
      "cell_type": "code",
      "source": [
        "#Train Classifier\n",
        "clf = MultinomialNB()\n",
        "clf.fit(X_train, y_train)"
      ],
      "metadata": {
        "colab": {
          "base_uri": "https://localhost:8080/",
          "height": 80
        },
        "id": "rD1oOgTArrb7",
        "outputId": "d02d475a-c417-4c87-db51-9ef36605cd1c"
      },
      "execution_count": 86,
      "outputs": [
        {
          "output_type": "execute_result",
          "data": {
            "text/plain": [
              "MultinomialNB()"
            ],
            "text/html": [
              "<style>#sk-container-id-4 {\n",
              "  /* Definition of color scheme common for light and dark mode */\n",
              "  --sklearn-color-text: #000;\n",
              "  --sklearn-color-text-muted: #666;\n",
              "  --sklearn-color-line: gray;\n",
              "  /* Definition of color scheme for unfitted estimators */\n",
              "  --sklearn-color-unfitted-level-0: #fff5e6;\n",
              "  --sklearn-color-unfitted-level-1: #f6e4d2;\n",
              "  --sklearn-color-unfitted-level-2: #ffe0b3;\n",
              "  --sklearn-color-unfitted-level-3: chocolate;\n",
              "  /* Definition of color scheme for fitted estimators */\n",
              "  --sklearn-color-fitted-level-0: #f0f8ff;\n",
              "  --sklearn-color-fitted-level-1: #d4ebff;\n",
              "  --sklearn-color-fitted-level-2: #b3dbfd;\n",
              "  --sklearn-color-fitted-level-3: cornflowerblue;\n",
              "\n",
              "  /* Specific color for light theme */\n",
              "  --sklearn-color-text-on-default-background: var(--sg-text-color, var(--theme-code-foreground, var(--jp-content-font-color1, black)));\n",
              "  --sklearn-color-background: var(--sg-background-color, var(--theme-background, var(--jp-layout-color0, white)));\n",
              "  --sklearn-color-border-box: var(--sg-text-color, var(--theme-code-foreground, var(--jp-content-font-color1, black)));\n",
              "  --sklearn-color-icon: #696969;\n",
              "\n",
              "  @media (prefers-color-scheme: dark) {\n",
              "    /* Redefinition of color scheme for dark theme */\n",
              "    --sklearn-color-text-on-default-background: var(--sg-text-color, var(--theme-code-foreground, var(--jp-content-font-color1, white)));\n",
              "    --sklearn-color-background: var(--sg-background-color, var(--theme-background, var(--jp-layout-color0, #111)));\n",
              "    --sklearn-color-border-box: var(--sg-text-color, var(--theme-code-foreground, var(--jp-content-font-color1, white)));\n",
              "    --sklearn-color-icon: #878787;\n",
              "  }\n",
              "}\n",
              "\n",
              "#sk-container-id-4 {\n",
              "  color: var(--sklearn-color-text);\n",
              "}\n",
              "\n",
              "#sk-container-id-4 pre {\n",
              "  padding: 0;\n",
              "}\n",
              "\n",
              "#sk-container-id-4 input.sk-hidden--visually {\n",
              "  border: 0;\n",
              "  clip: rect(1px 1px 1px 1px);\n",
              "  clip: rect(1px, 1px, 1px, 1px);\n",
              "  height: 1px;\n",
              "  margin: -1px;\n",
              "  overflow: hidden;\n",
              "  padding: 0;\n",
              "  position: absolute;\n",
              "  width: 1px;\n",
              "}\n",
              "\n",
              "#sk-container-id-4 div.sk-dashed-wrapped {\n",
              "  border: 1px dashed var(--sklearn-color-line);\n",
              "  margin: 0 0.4em 0.5em 0.4em;\n",
              "  box-sizing: border-box;\n",
              "  padding-bottom: 0.4em;\n",
              "  background-color: var(--sklearn-color-background);\n",
              "}\n",
              "\n",
              "#sk-container-id-4 div.sk-container {\n",
              "  /* jupyter's `normalize.less` sets `[hidden] { display: none; }`\n",
              "     but bootstrap.min.css set `[hidden] { display: none !important; }`\n",
              "     so we also need the `!important` here to be able to override the\n",
              "     default hidden behavior on the sphinx rendered scikit-learn.org.\n",
              "     See: https://github.com/scikit-learn/scikit-learn/issues/21755 */\n",
              "  display: inline-block !important;\n",
              "  position: relative;\n",
              "}\n",
              "\n",
              "#sk-container-id-4 div.sk-text-repr-fallback {\n",
              "  display: none;\n",
              "}\n",
              "\n",
              "div.sk-parallel-item,\n",
              "div.sk-serial,\n",
              "div.sk-item {\n",
              "  /* draw centered vertical line to link estimators */\n",
              "  background-image: linear-gradient(var(--sklearn-color-text-on-default-background), var(--sklearn-color-text-on-default-background));\n",
              "  background-size: 2px 100%;\n",
              "  background-repeat: no-repeat;\n",
              "  background-position: center center;\n",
              "}\n",
              "\n",
              "/* Parallel-specific style estimator block */\n",
              "\n",
              "#sk-container-id-4 div.sk-parallel-item::after {\n",
              "  content: \"\";\n",
              "  width: 100%;\n",
              "  border-bottom: 2px solid var(--sklearn-color-text-on-default-background);\n",
              "  flex-grow: 1;\n",
              "}\n",
              "\n",
              "#sk-container-id-4 div.sk-parallel {\n",
              "  display: flex;\n",
              "  align-items: stretch;\n",
              "  justify-content: center;\n",
              "  background-color: var(--sklearn-color-background);\n",
              "  position: relative;\n",
              "}\n",
              "\n",
              "#sk-container-id-4 div.sk-parallel-item {\n",
              "  display: flex;\n",
              "  flex-direction: column;\n",
              "}\n",
              "\n",
              "#sk-container-id-4 div.sk-parallel-item:first-child::after {\n",
              "  align-self: flex-end;\n",
              "  width: 50%;\n",
              "}\n",
              "\n",
              "#sk-container-id-4 div.sk-parallel-item:last-child::after {\n",
              "  align-self: flex-start;\n",
              "  width: 50%;\n",
              "}\n",
              "\n",
              "#sk-container-id-4 div.sk-parallel-item:only-child::after {\n",
              "  width: 0;\n",
              "}\n",
              "\n",
              "/* Serial-specific style estimator block */\n",
              "\n",
              "#sk-container-id-4 div.sk-serial {\n",
              "  display: flex;\n",
              "  flex-direction: column;\n",
              "  align-items: center;\n",
              "  background-color: var(--sklearn-color-background);\n",
              "  padding-right: 1em;\n",
              "  padding-left: 1em;\n",
              "}\n",
              "\n",
              "\n",
              "/* Toggleable style: style used for estimator/Pipeline/ColumnTransformer box that is\n",
              "clickable and can be expanded/collapsed.\n",
              "- Pipeline and ColumnTransformer use this feature and define the default style\n",
              "- Estimators will overwrite some part of the style using the `sk-estimator` class\n",
              "*/\n",
              "\n",
              "/* Pipeline and ColumnTransformer style (default) */\n",
              "\n",
              "#sk-container-id-4 div.sk-toggleable {\n",
              "  /* Default theme specific background. It is overwritten whether we have a\n",
              "  specific estimator or a Pipeline/ColumnTransformer */\n",
              "  background-color: var(--sklearn-color-background);\n",
              "}\n",
              "\n",
              "/* Toggleable label */\n",
              "#sk-container-id-4 label.sk-toggleable__label {\n",
              "  cursor: pointer;\n",
              "  display: flex;\n",
              "  width: 100%;\n",
              "  margin-bottom: 0;\n",
              "  padding: 0.5em;\n",
              "  box-sizing: border-box;\n",
              "  text-align: center;\n",
              "  align-items: start;\n",
              "  justify-content: space-between;\n",
              "  gap: 0.5em;\n",
              "}\n",
              "\n",
              "#sk-container-id-4 label.sk-toggleable__label .caption {\n",
              "  font-size: 0.6rem;\n",
              "  font-weight: lighter;\n",
              "  color: var(--sklearn-color-text-muted);\n",
              "}\n",
              "\n",
              "#sk-container-id-4 label.sk-toggleable__label-arrow:before {\n",
              "  /* Arrow on the left of the label */\n",
              "  content: \"▸\";\n",
              "  float: left;\n",
              "  margin-right: 0.25em;\n",
              "  color: var(--sklearn-color-icon);\n",
              "}\n",
              "\n",
              "#sk-container-id-4 label.sk-toggleable__label-arrow:hover:before {\n",
              "  color: var(--sklearn-color-text);\n",
              "}\n",
              "\n",
              "/* Toggleable content - dropdown */\n",
              "\n",
              "#sk-container-id-4 div.sk-toggleable__content {\n",
              "  max-height: 0;\n",
              "  max-width: 0;\n",
              "  overflow: hidden;\n",
              "  text-align: left;\n",
              "  /* unfitted */\n",
              "  background-color: var(--sklearn-color-unfitted-level-0);\n",
              "}\n",
              "\n",
              "#sk-container-id-4 div.sk-toggleable__content.fitted {\n",
              "  /* fitted */\n",
              "  background-color: var(--sklearn-color-fitted-level-0);\n",
              "}\n",
              "\n",
              "#sk-container-id-4 div.sk-toggleable__content pre {\n",
              "  margin: 0.2em;\n",
              "  border-radius: 0.25em;\n",
              "  color: var(--sklearn-color-text);\n",
              "  /* unfitted */\n",
              "  background-color: var(--sklearn-color-unfitted-level-0);\n",
              "}\n",
              "\n",
              "#sk-container-id-4 div.sk-toggleable__content.fitted pre {\n",
              "  /* unfitted */\n",
              "  background-color: var(--sklearn-color-fitted-level-0);\n",
              "}\n",
              "\n",
              "#sk-container-id-4 input.sk-toggleable__control:checked~div.sk-toggleable__content {\n",
              "  /* Expand drop-down */\n",
              "  max-height: 200px;\n",
              "  max-width: 100%;\n",
              "  overflow: auto;\n",
              "}\n",
              "\n",
              "#sk-container-id-4 input.sk-toggleable__control:checked~label.sk-toggleable__label-arrow:before {\n",
              "  content: \"▾\";\n",
              "}\n",
              "\n",
              "/* Pipeline/ColumnTransformer-specific style */\n",
              "\n",
              "#sk-container-id-4 div.sk-label input.sk-toggleable__control:checked~label.sk-toggleable__label {\n",
              "  color: var(--sklearn-color-text);\n",
              "  background-color: var(--sklearn-color-unfitted-level-2);\n",
              "}\n",
              "\n",
              "#sk-container-id-4 div.sk-label.fitted input.sk-toggleable__control:checked~label.sk-toggleable__label {\n",
              "  background-color: var(--sklearn-color-fitted-level-2);\n",
              "}\n",
              "\n",
              "/* Estimator-specific style */\n",
              "\n",
              "/* Colorize estimator box */\n",
              "#sk-container-id-4 div.sk-estimator input.sk-toggleable__control:checked~label.sk-toggleable__label {\n",
              "  /* unfitted */\n",
              "  background-color: var(--sklearn-color-unfitted-level-2);\n",
              "}\n",
              "\n",
              "#sk-container-id-4 div.sk-estimator.fitted input.sk-toggleable__control:checked~label.sk-toggleable__label {\n",
              "  /* fitted */\n",
              "  background-color: var(--sklearn-color-fitted-level-2);\n",
              "}\n",
              "\n",
              "#sk-container-id-4 div.sk-label label.sk-toggleable__label,\n",
              "#sk-container-id-4 div.sk-label label {\n",
              "  /* The background is the default theme color */\n",
              "  color: var(--sklearn-color-text-on-default-background);\n",
              "}\n",
              "\n",
              "/* On hover, darken the color of the background */\n",
              "#sk-container-id-4 div.sk-label:hover label.sk-toggleable__label {\n",
              "  color: var(--sklearn-color-text);\n",
              "  background-color: var(--sklearn-color-unfitted-level-2);\n",
              "}\n",
              "\n",
              "/* Label box, darken color on hover, fitted */\n",
              "#sk-container-id-4 div.sk-label.fitted:hover label.sk-toggleable__label.fitted {\n",
              "  color: var(--sklearn-color-text);\n",
              "  background-color: var(--sklearn-color-fitted-level-2);\n",
              "}\n",
              "\n",
              "/* Estimator label */\n",
              "\n",
              "#sk-container-id-4 div.sk-label label {\n",
              "  font-family: monospace;\n",
              "  font-weight: bold;\n",
              "  display: inline-block;\n",
              "  line-height: 1.2em;\n",
              "}\n",
              "\n",
              "#sk-container-id-4 div.sk-label-container {\n",
              "  text-align: center;\n",
              "}\n",
              "\n",
              "/* Estimator-specific */\n",
              "#sk-container-id-4 div.sk-estimator {\n",
              "  font-family: monospace;\n",
              "  border: 1px dotted var(--sklearn-color-border-box);\n",
              "  border-radius: 0.25em;\n",
              "  box-sizing: border-box;\n",
              "  margin-bottom: 0.5em;\n",
              "  /* unfitted */\n",
              "  background-color: var(--sklearn-color-unfitted-level-0);\n",
              "}\n",
              "\n",
              "#sk-container-id-4 div.sk-estimator.fitted {\n",
              "  /* fitted */\n",
              "  background-color: var(--sklearn-color-fitted-level-0);\n",
              "}\n",
              "\n",
              "/* on hover */\n",
              "#sk-container-id-4 div.sk-estimator:hover {\n",
              "  /* unfitted */\n",
              "  background-color: var(--sklearn-color-unfitted-level-2);\n",
              "}\n",
              "\n",
              "#sk-container-id-4 div.sk-estimator.fitted:hover {\n",
              "  /* fitted */\n",
              "  background-color: var(--sklearn-color-fitted-level-2);\n",
              "}\n",
              "\n",
              "/* Specification for estimator info (e.g. \"i\" and \"?\") */\n",
              "\n",
              "/* Common style for \"i\" and \"?\" */\n",
              "\n",
              ".sk-estimator-doc-link,\n",
              "a:link.sk-estimator-doc-link,\n",
              "a:visited.sk-estimator-doc-link {\n",
              "  float: right;\n",
              "  font-size: smaller;\n",
              "  line-height: 1em;\n",
              "  font-family: monospace;\n",
              "  background-color: var(--sklearn-color-background);\n",
              "  border-radius: 1em;\n",
              "  height: 1em;\n",
              "  width: 1em;\n",
              "  text-decoration: none !important;\n",
              "  margin-left: 0.5em;\n",
              "  text-align: center;\n",
              "  /* unfitted */\n",
              "  border: var(--sklearn-color-unfitted-level-1) 1pt solid;\n",
              "  color: var(--sklearn-color-unfitted-level-1);\n",
              "}\n",
              "\n",
              ".sk-estimator-doc-link.fitted,\n",
              "a:link.sk-estimator-doc-link.fitted,\n",
              "a:visited.sk-estimator-doc-link.fitted {\n",
              "  /* fitted */\n",
              "  border: var(--sklearn-color-fitted-level-1) 1pt solid;\n",
              "  color: var(--sklearn-color-fitted-level-1);\n",
              "}\n",
              "\n",
              "/* On hover */\n",
              "div.sk-estimator:hover .sk-estimator-doc-link:hover,\n",
              ".sk-estimator-doc-link:hover,\n",
              "div.sk-label-container:hover .sk-estimator-doc-link:hover,\n",
              ".sk-estimator-doc-link:hover {\n",
              "  /* unfitted */\n",
              "  background-color: var(--sklearn-color-unfitted-level-3);\n",
              "  color: var(--sklearn-color-background);\n",
              "  text-decoration: none;\n",
              "}\n",
              "\n",
              "div.sk-estimator.fitted:hover .sk-estimator-doc-link.fitted:hover,\n",
              ".sk-estimator-doc-link.fitted:hover,\n",
              "div.sk-label-container:hover .sk-estimator-doc-link.fitted:hover,\n",
              ".sk-estimator-doc-link.fitted:hover {\n",
              "  /* fitted */\n",
              "  background-color: var(--sklearn-color-fitted-level-3);\n",
              "  color: var(--sklearn-color-background);\n",
              "  text-decoration: none;\n",
              "}\n",
              "\n",
              "/* Span, style for the box shown on hovering the info icon */\n",
              ".sk-estimator-doc-link span {\n",
              "  display: none;\n",
              "  z-index: 9999;\n",
              "  position: relative;\n",
              "  font-weight: normal;\n",
              "  right: .2ex;\n",
              "  padding: .5ex;\n",
              "  margin: .5ex;\n",
              "  width: min-content;\n",
              "  min-width: 20ex;\n",
              "  max-width: 50ex;\n",
              "  color: var(--sklearn-color-text);\n",
              "  box-shadow: 2pt 2pt 4pt #999;\n",
              "  /* unfitted */\n",
              "  background: var(--sklearn-color-unfitted-level-0);\n",
              "  border: .5pt solid var(--sklearn-color-unfitted-level-3);\n",
              "}\n",
              "\n",
              ".sk-estimator-doc-link.fitted span {\n",
              "  /* fitted */\n",
              "  background: var(--sklearn-color-fitted-level-0);\n",
              "  border: var(--sklearn-color-fitted-level-3);\n",
              "}\n",
              "\n",
              ".sk-estimator-doc-link:hover span {\n",
              "  display: block;\n",
              "}\n",
              "\n",
              "/* \"?\"-specific style due to the `<a>` HTML tag */\n",
              "\n",
              "#sk-container-id-4 a.estimator_doc_link {\n",
              "  float: right;\n",
              "  font-size: 1rem;\n",
              "  line-height: 1em;\n",
              "  font-family: monospace;\n",
              "  background-color: var(--sklearn-color-background);\n",
              "  border-radius: 1rem;\n",
              "  height: 1rem;\n",
              "  width: 1rem;\n",
              "  text-decoration: none;\n",
              "  /* unfitted */\n",
              "  color: var(--sklearn-color-unfitted-level-1);\n",
              "  border: var(--sklearn-color-unfitted-level-1) 1pt solid;\n",
              "}\n",
              "\n",
              "#sk-container-id-4 a.estimator_doc_link.fitted {\n",
              "  /* fitted */\n",
              "  border: var(--sklearn-color-fitted-level-1) 1pt solid;\n",
              "  color: var(--sklearn-color-fitted-level-1);\n",
              "}\n",
              "\n",
              "/* On hover */\n",
              "#sk-container-id-4 a.estimator_doc_link:hover {\n",
              "  /* unfitted */\n",
              "  background-color: var(--sklearn-color-unfitted-level-3);\n",
              "  color: var(--sklearn-color-background);\n",
              "  text-decoration: none;\n",
              "}\n",
              "\n",
              "#sk-container-id-4 a.estimator_doc_link.fitted:hover {\n",
              "  /* fitted */\n",
              "  background-color: var(--sklearn-color-fitted-level-3);\n",
              "}\n",
              "</style><div id=\"sk-container-id-4\" class=\"sk-top-container\"><div class=\"sk-text-repr-fallback\"><pre>MultinomialNB()</pre><b>In a Jupyter environment, please rerun this cell to show the HTML representation or trust the notebook. <br />On GitHub, the HTML representation is unable to render, please try loading this page with nbviewer.org.</b></div><div class=\"sk-container\" hidden><div class=\"sk-item\"><div class=\"sk-estimator fitted sk-toggleable\"><input class=\"sk-toggleable__control sk-hidden--visually\" id=\"sk-estimator-id-4\" type=\"checkbox\" checked><label for=\"sk-estimator-id-4\" class=\"sk-toggleable__label fitted sk-toggleable__label-arrow\"><div><div>MultinomialNB</div></div><div><a class=\"sk-estimator-doc-link fitted\" rel=\"noreferrer\" target=\"_blank\" href=\"https://scikit-learn.org/1.6/modules/generated/sklearn.naive_bayes.MultinomialNB.html\">?<span>Documentation for MultinomialNB</span></a><span class=\"sk-estimator-doc-link fitted\">i<span>Fitted</span></span></div></label><div class=\"sk-toggleable__content fitted\"><pre>MultinomialNB()</pre></div> </div></div></div></div>"
            ]
          },
          "metadata": {},
          "execution_count": 86
        }
      ]
    },
    {
      "cell_type": "code",
      "source": [
        "#Make Predictions\n",
        "y_pred = clf.predict(X_test)\n",
        "\n",
        "#Evaluate Model\n",
        "accuracy = accuracy_score(y_test, y_pred)\n",
        "print(\"Accuracy:\", accuracy)"
      ],
      "metadata": {
        "colab": {
          "base_uri": "https://localhost:8080/"
        },
        "id": "ETa8y22vryAf",
        "outputId": "4c074512-b072-4c2e-a2d5-75f6a1633a59"
      },
      "execution_count": 87,
      "outputs": [
        {
          "output_type": "stream",
          "name": "stdout",
          "text": [
            "Accuracy: 0.6321585903083701\n"
          ]
        }
      ]
    },
    {
      "cell_type": "code",
      "source": [
        "#Attempt the same but on the title\n",
        "X_train, X_test, y_train, y_test = train_test_split(df['Title_pro'], df['Topic'], test_size=0.2, random_state=2)\n",
        "vectorizer = TfidfVectorizer()\n",
        "X_train = vectorizer.fit_transform(X_train)\n",
        "X_test = vectorizer.transform(X_test)\n",
        "clf = MultinomialNB()\n",
        "clf.fit(X_train, y_train)\n",
        "y_pred = clf.predict(X_test)\n",
        "accuracy = accuracy_score(y_test, y_pred)\n",
        "print(\"Accuracy:\", accuracy)"
      ],
      "metadata": {
        "colab": {
          "base_uri": "https://localhost:8080/"
        },
        "id": "7lW-Ah3nr5Da",
        "outputId": "c18f5300-50a8-4005-99a1-0fc9e4c1d328"
      },
      "execution_count": 88,
      "outputs": [
        {
          "output_type": "stream",
          "name": "stdout",
          "text": [
            "Accuracy: 0.6492290748898678\n"
          ]
        }
      ]
    },
    {
      "cell_type": "code",
      "source": [
        "#Now on combined title and text\n",
        "X_train, X_test, y_train, y_test = train_test_split(df['T_T_pro'], df['Topic'], test_size=0.2, random_state=2)\n",
        "vectorizer = TfidfVectorizer()\n",
        "X_train = vectorizer.fit_transform(X_train)\n",
        "X_test = vectorizer.transform(X_test)\n",
        "clf = MultinomialNB()\n",
        "clf.fit(X_train, y_train)\n",
        "y_pred = clf.predict(X_test)\n",
        "accuracy = accuracy_score(y_test, y_pred)\n",
        "print(\"Accuracy:\", accuracy)"
      ],
      "metadata": {
        "colab": {
          "base_uri": "https://localhost:8080/"
        },
        "id": "NAEn7lE2w0Wt",
        "outputId": "68f040fb-50bb-4e43-cd38-221a77b75827"
      },
      "execution_count": 89,
      "outputs": [
        {
          "output_type": "stream",
          "name": "stdout",
          "text": [
            "Accuracy: 0.6718061674008811\n"
          ]
        }
      ]
    },
    {
      "cell_type": "markdown",
      "source": [
        "# Visualizations"
      ],
      "metadata": {
        "id": "UFL0fjEjLfmS"
      }
    },
    {
      "cell_type": "code",
      "source": [
        "#Create a confusion matrix\n",
        "from sklearn.metrics import confusion_matrix\n",
        "\n",
        "labels = sorted(list(set(y_test)))\n",
        "\n",
        "cm = confusion_matrix(y_test, y_pred, labels=labels)"
      ],
      "metadata": {
        "id": "g8NFoWcMyX2k"
      },
      "execution_count": 90,
      "outputs": []
    },
    {
      "cell_type": "code",
      "source": [
        "#Calculate error rates by dividing the number of misclassified instances in each label\n",
        "  #by total number of instances of that label\n",
        "import numpy as np\n",
        "\n",
        "erates = {}\n",
        "for i, label in enumerate(labels):\n",
        "    total_instances = np.sum(cm[i, :])\n",
        "    errors = np.sum(cm[i, :]) - cm[i, i]\n",
        "    err = errors / total_instances if total_instances > 0 else 0\n",
        "    erates[label] = err"
      ],
      "metadata": {
        "id": "Irp7-hv3zLCC"
      },
      "execution_count": 91,
      "outputs": []
    },
    {
      "cell_type": "code",
      "source": [
        "#Display\n",
        "for label, err in erates.items():\n",
        "        print(f\"Error rate for label {label}: {err:.2f}\")"
      ],
      "metadata": {
        "colab": {
          "base_uri": "https://localhost:8080/"
        },
        "id": "1JwbM5FfzqJ5",
        "outputId": "68a7915f-74eb-4383-d6da-adb183b4acdd"
      },
      "execution_count": 92,
      "outputs": [
        {
          "output_type": "stream",
          "name": "stdout",
          "text": [
            "Error rate for label anger: 0.91\n",
            "Error rate for label anxiety: 1.00\n",
            "Error rate for label bipolar: 0.04\n",
            "Error rate for label depression: 0.61\n",
            "Error rate for label eating disorder: 0.05\n",
            "Error rate for label panic: 0.07\n"
          ]
        }
      ]
    },
    {
      "cell_type": "code",
      "source": [
        "import matplotlib.pyplot as plt\n",
        "\n",
        "def addlabels(x,y):\n",
        "    for i in range(len(x)):\n",
        "        plt.text(i,y[i],y[i], ha='center',\n",
        "                 bbox = dict(facecolor = 'red', alpha =.8))\n",
        "\n",
        "labels = list(erates.keys())\n",
        "errPlain = [round(num, 2) for num in list(erates.values())]\n",
        "\n",
        "plt.figure(figsize=(10,4))\n",
        "plt.bar(labels, errPlain)\n",
        "addlabels(labels, errPlain)\n",
        "plt.xlabel('Labels')\n",
        "plt.ylabel('Error Rate')\n",
        "plt.title('Error Rate Predicting each Label in Decimal')"
      ],
      "metadata": {
        "colab": {
          "base_uri": "https://localhost:8080/",
          "height": 427
        },
        "id": "n2Ez6qH6zxRd",
        "outputId": "1cd28b5c-10c9-4812-dd8d-caeace785c58"
      },
      "execution_count": 93,
      "outputs": [
        {
          "output_type": "execute_result",
          "data": {
            "text/plain": [
              "Text(0.5, 1.0, 'Error Rate Predicting each Label in Decimal')"
            ]
          },
          "metadata": {},
          "execution_count": 93
        },
        {
          "output_type": "display_data",
          "data": {
            "text/plain": [
              "<Figure size 1000x400 with 1 Axes>"
            ],
            "image/png": "[encoded data removed]"
          },
          "metadata": {}
        }
      ]
    },
    {
      "cell_type": "markdown",
      "source": [
        "# Optimization"
      ],
      "metadata": {
        "id": "-3LFcFKhwxfp"
      }
    },
    {
      "cell_type": "markdown",
      "source": [
        "Tuning alpha value. Higher prevents overfitting but may reduce accuracy. GridSearchCV can find the optimal value."
      ],
      "metadata": {
        "id": "aCY6GOTww0QO"
      }
    },
    {
      "cell_type": "code",
      "source": [
        "# Following https://sklearner.com/scikit-learn-grid-search-multinomialnb/\n",
        "from sklearn.model_selection import GridSearchCV\n",
        "\n",
        "#define a parameter grid\n",
        "param_grid = {\n",
        "    'alpha': [0.1, 0.5, 1.0],\n",
        "    'fit_prior': [True, False]\n",
        "}\n",
        "\n",
        "#Continuing with T_T_pro\n",
        "grid_search = GridSearchCV(estimator=MultinomialNB(),\n",
        "                           param_grid=param_grid,\n",
        "                           cv=5,\n",
        "                           scoring='accuracy')\n",
        "grid_search.fit(X_train, y_train)\n",
        "\n",
        "# Report best score and parameters\n",
        "print(f\"Best score: {grid_search.best_score_:.3f}\")\n",
        "print(f\"Best parameters: {grid_search.best_params_}\")\n",
        "\n",
        "# Evaluate on test set\n",
        "best_model = grid_search.best_estimator_\n",
        "accuracy = best_model.score(X_test, y_test)\n",
        "print(f\"Test set accuracy: {accuracy:.3f}\")"
      ],
      "metadata": {
        "id": "1ciPXvfB2Cyw",
        "colab": {
          "base_uri": "https://localhost:8080/"
        },
        "outputId": "6d8d2591-9a36-401d-ae18-9f41971a0ec2"
      },
      "execution_count": 94,
      "outputs": [
        {
          "output_type": "stream",
          "name": "stdout",
          "text": [
            "Best score: 0.800\n",
            "Best parameters: {'alpha': 0.1, 'fit_prior': False}\n",
            "Test set accuracy: 0.813\n"
          ]
        }
      ]
    },
    {
      "cell_type": "code",
      "source": [
        "#Test again\n",
        "clf = MultinomialNB(alpha=grid_search.best_params_[\"alpha\"], fit_prior=grid_search.best_params_[\"fit_prior\"])\n",
        "clf.fit(X_train, y_train)\n",
        "y_pred = clf.predict(X_test)\n",
        "accuracy = accuracy_score(y_test, y_pred)\n",
        "print(\"Accuracy:\", accuracy)"
      ],
      "metadata": {
        "colab": {
          "base_uri": "https://localhost:8080/"
        },
        "id": "4mc7DCBmxs6x",
        "outputId": "c5b35e73-7d17-4b5b-9987-5ed6e447d050"
      },
      "execution_count": 95,
      "outputs": [
        {
          "output_type": "stream",
          "name": "stdout",
          "text": [
            "Accuracy: 0.8127753303964758\n"
          ]
        }
      ]
    },
    {
      "cell_type": "code",
      "source": [
        "#Visualize\n",
        "cm = confusion_matrix(y_test, y_pred, labels=labels)\n",
        "\n",
        "erates = {}\n",
        "for i, label in enumerate(labels):\n",
        "    total_instances = np.sum(cm[i, :])\n",
        "    errors = np.sum(cm[i, :]) - cm[i, i]\n",
        "    err = errors / total_instances if total_instances > 0 else 0\n",
        "    erates[label] = err\n",
        "\n",
        "labels = list(erates.keys())\n",
        "errOpt = [round(num, 2) for num in list(erates.values())]\n",
        "\n",
        "plt.figure(figsize=(10,4))\n",
        "plt.bar(labels, errOpt)\n",
        "addlabels(labels, errOpt)\n",
        "plt.xlabel('Labels')\n",
        "plt.ylabel('Error Rate')\n",
        "plt.title('Error Rate Predicting each Label in Decimal')"
      ],
      "metadata": {
        "colab": {
          "base_uri": "https://localhost:8080/",
          "height": 427
        },
        "id": "n1zKeIumL0Ad",
        "outputId": "27aaadcb-f442-4796-cabd-2e76c26c51f8"
      },
      "execution_count": 96,
      "outputs": [
        {
          "output_type": "execute_result",
          "data": {
            "text/plain": [
              "Text(0.5, 1.0, 'Error Rate Predicting each Label in Decimal')"
            ]
          },
          "metadata": {},
          "execution_count": 96
        },
        {
          "output_type": "display_data",
          "data": {
            "text/plain": [
              "<Figure size 1000x400 with 1 Axes>"
            ],
            "image/png": "[encoded data removed]"
          },
          "metadata": {}
        }
      ]
    },
    {
      "cell_type": "markdown",
      "source": [
        "# Remove Common Words"
      ],
      "metadata": {
        "id": "wrpwmdh1JeYv"
      }
    },
    {
      "cell_type": "code",
      "source": [
        "#Remove most common words\n",
        "df_com = df.copy()\n",
        "print(df_com['T_T_pro'])"
      ],
      "metadata": {
        "id": "oQIPFKIl0rli",
        "colab": {
          "base_uri": "https://localhost:8080/"
        },
        "outputId": "e5d1a345-edec-4750-cac3-f9a945be0553"
      },
      "execution_count": 97,
      "outputs": [
        {
          "output_type": "stream",
          "name": "stdout",
          "text": [
            "0       anger may caused magnesium deficiency neuron l...\n",
            "1       ever get angry wish kill moment dont know ange...\n",
            "2       anyone else avoid people know theyll make angr...\n",
            "3       anyone else allowed get upset growing always s...\n",
            "4       wish people understood outburst dont happen sm...\n",
            "                              ...                        \n",
            "9073    fastest way ive found get panic attack control...\n",
            "9074    looking advice hi im f ive professionally diag...\n",
            "9075    new panic attack experience hi guy wanted see ...\n",
            "9076    im pretty bad suicidal thought thinking cant h...\n",
            "9077    anxiety symptom replicating low blood sugar sc...\n",
            "Name: T_T_pro, Length: 9078, dtype: object\n"
          ]
        }
      ]
    },
    {
      "cell_type": "code",
      "source": [
        "common = ['im', 'like', 'feel', 'dont', 'get' 'time', 'know', 'ive', 'people',\n",
        "          'day', 'want', 'thing', 'even', 'one', 'life', 'year', 'really', 'make']\n",
        "for word in common:\n",
        "  df_com['T_T_pro'] = df_com['T_T_pro'].str.replace(word, '', regex=False)\n",
        "\n",
        "print(df_com['T_T_pro'])"
      ],
      "metadata": {
        "colab": {
          "base_uri": "https://localhost:8080/"
        },
        "id": "p2uAuNfqJq_H",
        "outputId": "fd1dd08a-d285-41e4-a4d9-9273b66b7eed"
      },
      "execution_count": 98,
      "outputs": [
        {
          "output_type": "stream",
          "name": "stdout",
          "text": [
            "0       anger may caused magnesium deficiency neuron l...\n",
            "1       ever get angry wish kill moment   anger issue ...\n",
            "2       any else avoid   theyll  angry lately  noticin...\n",
            "3       any else allowed get upset growing always scol...\n",
            "4       wish  understood outburst  happen small issue ...\n",
            "                              ...                        \n",
            "9073    fastest way  found get panic attack control us...\n",
            "9074    looking advice hi  f  professionally diagnosed...\n",
            "9075    new panic attack experience hi guy ed see any ...\n",
            "9076     pretty bad suicidal thought thinking cant han...\n",
            "9077    anxiety symptom replicating low blood sugar sc...\n",
            "Name: T_T_pro, Length: 9078, dtype: object\n"
          ]
        }
      ]
    },
    {
      "cell_type": "code",
      "source": [
        "#Model Again\n",
        "X_train, X_test, y_train, y_test = train_test_split(df_com['T_T_pro'], df_com['Topic'], test_size=0.2, random_state=2)\n",
        "vectorizer = TfidfVectorizer()\n",
        "X_train = vectorizer.fit_transform(X_train)\n",
        "X_test = vectorizer.transform(X_test)\n",
        "clf = MultinomialNB()\n",
        "clf.fit(X_train, y_train)\n",
        "y_pred = clf.predict(X_test)\n",
        "accuracy = accuracy_score(y_test, y_pred)\n",
        "print(\"Accuracy:\", accuracy)"
      ],
      "metadata": {
        "colab": {
          "base_uri": "https://localhost:8080/"
        },
        "id": "B_VyNDEPJ7z6",
        "outputId": "bcdf3d03-4708-4d90-be27-33207cb206fe"
      },
      "execution_count": 99,
      "outputs": [
        {
          "output_type": "stream",
          "name": "stdout",
          "text": [
            "Accuracy: 0.6718061674008811\n"
          ]
        }
      ]
    },
    {
      "cell_type": "code",
      "source": [
        "#Optimize\n",
        "grid_search = GridSearchCV(estimator=MultinomialNB(),\n",
        "                           param_grid=param_grid,\n",
        "                           cv=5,\n",
        "                           scoring='accuracy')\n",
        "grid_search.fit(X_train, y_train)\n",
        "\n",
        "print(f\"Best score: {grid_search.best_score_:.3f}\")\n",
        "print(f\"Best parameters: {grid_search.best_params_}\")\n",
        "\n",
        "best_model = grid_search.best_estimator_\n",
        "accuracy = best_model.score(X_test, y_test)\n",
        "print(f\"Test set accuracy: {accuracy:.3f}\")"
      ],
      "metadata": {
        "colab": {
          "base_uri": "https://localhost:8080/"
        },
        "id": "dsAO1IZEKAks",
        "outputId": "03fa06d0-084e-466d-f834-d16410340624"
      },
      "execution_count": 100,
      "outputs": [
        {
          "output_type": "stream",
          "name": "stdout",
          "text": [
            "Best score: 0.798\n",
            "Best parameters: {'alpha': 0.1, 'fit_prior': False}\n",
            "Test set accuracy: 0.814\n"
          ]
        }
      ]
    },
    {
      "cell_type": "code",
      "source": [
        "#Model with optimized parameters\n",
        "clf = MultinomialNB(alpha=grid_search.best_params_[\"alpha\"], fit_prior=grid_search.best_params_[\"fit_prior\"])\n",
        "clf.fit(X_train, y_train)\n",
        "y_pred = clf.predict(X_test)\n",
        "accuracy = accuracy_score(y_test, y_pred)\n",
        "print(\"Accuracy:\", accuracy)"
      ],
      "metadata": {
        "colab": {
          "base_uri": "https://localhost:8080/"
        },
        "id": "bAfKuvbXKQgm",
        "outputId": "a02530ee-b885-427f-e952-8ee361104473"
      },
      "execution_count": 101,
      "outputs": [
        {
          "output_type": "stream",
          "name": "stdout",
          "text": [
            "Accuracy: 0.8138766519823789\n"
          ]
        }
      ]
    },
    {
      "cell_type": "code",
      "source": [
        "#Visualize\n",
        "cm = confusion_matrix(y_test, y_pred, labels=labels)\n",
        "\n",
        "erates = {}\n",
        "for i, label in enumerate(labels):\n",
        "    total_instances = np.sum(cm[i, :])\n",
        "    errors = np.sum(cm[i, :]) - cm[i, i]\n",
        "    err = errors / total_instances if total_instances > 0 else 0\n",
        "    erates[label] = err\n",
        "\n",
        "labels = list(erates.keys())\n",
        "errCom = [round(num, 2) for num in list(erates.values())]\n",
        "\n",
        "plt.figure(figsize=(10,4))\n",
        "plt.bar(labels, errCom)\n",
        "addlabels(labels, errCom)\n",
        "plt.xlabel('Labels')\n",
        "plt.ylabel('Error Rate')\n",
        "plt.title('Error Rate Predicting each Label in Decimal')"
      ],
      "metadata": {
        "colab": {
          "base_uri": "https://localhost:8080/",
          "height": 427
        },
        "id": "j6fSW4EYKaBC",
        "outputId": "18170530-ee9b-4c70-b980-e7bc7dc70fd3"
      },
      "execution_count": 102,
      "outputs": [
        {
          "output_type": "execute_result",
          "data": {
            "text/plain": [
              "Text(0.5, 1.0, 'Error Rate Predicting each Label in Decimal')"
            ]
          },
          "metadata": {},
          "execution_count": 102
        },
        {
          "output_type": "display_data",
          "data": {
            "text/plain": [
              "<Figure size 1000x400 with 1 Axes>"
            ],
            "image/png": "[encoded data removed]"
          },
          "metadata": {}
        }
      ]
    },
    {
      "cell_type": "code",
      "source": [
        "#Display All\n",
        "\n",
        "def speclabels(x,y):\n",
        "    for i in range(len(labels)):\n",
        "        plt.text(i+x,y[i],y[i], ha='center',\n",
        "                 bbox = dict(facecolor = 'red', alpha =.8))\n",
        "\n",
        "X = labels\n",
        "Ygirls = [10,20,20,40]\n",
        "Zboys = [20,30,25,30]\n",
        "\n",
        "X_axis = np.arange(len(labels))\n",
        "\n",
        "plt.figure(figsize=(12,4))\n",
        "plt.bar(X_axis - 0.35, errPlain, 0.35, label = 'Plain')\n",
        "plt.bar(X_axis, errOpt, 0.35, label = 'Optimize')\n",
        "plt.bar(X_axis + 0.35, errCom, 0.35, label = 'Opt + No Common')\n",
        "\n",
        "plt.xticks(X_axis, X)\n",
        "speclabels(-0.35, errPlain)\n",
        "speclabels(0, errOpt)\n",
        "speclabels(0.35, errCom)\n",
        "plt.xlabel(\"Labels\")\n",
        "plt.ylabel('Error Rate')\n",
        "plt.title('Error Rate Predicting each Label in Decimal')\n",
        "plt.legend()\n",
        "plt.show()"
      ],
      "metadata": {
        "colab": {
          "base_uri": "https://localhost:8080/",
          "height": 370
        },
        "id": "NlwzPjmxKpFu",
        "outputId": "9ede836b-9db2-48f3-acbe-079c7dbabdb3"
      },
      "execution_count": 103,
      "outputs": [
        {
          "output_type": "display_data",
          "data": {
            "text/plain": [
              "<Figure size 1200x400 with 1 Axes>"
            ],
            "image/png": "[encoded data removed]"
          },
          "metadata": {}
        }
      ]
    },
    {
      "cell_type": "code",
      "source": [],
      "metadata": {
        "id": "T99gqnLKMpWf"
      },
      "execution_count": 103,
      "outputs": []
    }
  ]
}